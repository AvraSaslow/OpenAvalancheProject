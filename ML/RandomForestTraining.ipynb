{
 "cells": [
  {
   "cell_type": "code",
   "execution_count": 2,
   "metadata": {},
   "outputs": [],
   "source": [
    "#necessary on linux/mac\n",
    "#import multiprocessing\n",
    "\n",
    "#if __name__ == '__main__':\n",
    "#    multiprocessing.set_start_method('forkserver')"
   ]
  },
  {
   "cell_type": "code",
   "execution_count": 28,
   "metadata": {},
   "outputs": [],
   "source": [
    "import numpy as np\n",
    "import pandas as pd\n",
    "\n",
    "from sklearn.metrics import mean_squared_error\n",
    "from sklearn.model_selection import GridSearchCV\n",
    "\n",
    "import re\n",
    "from sklearn.model_selection import train_test_split\n",
    "from sklearn.ensemble import RandomForestClassifier, GradientBoostingClassifier, AdaBoostClassifier, VotingClassifier\n",
    "from sklearn.preprocessing import Normalizer\n",
    "from sklearn.metrics import confusion_matrix, accuracy_score, classification_report\n",
    "from sklearn.model_selection import GridSearchCV\n",
    "from sklearn.model_selection import StratifiedKFold, cross_val_score\n",
    "\n",
    "import datetime\n",
    "import matplotlib\n",
    "from matplotlib import pyplot"
   ]
  },
  {
   "cell_type": "code",
   "execution_count": 29,
   "metadata": {},
   "outputs": [],
   "source": [
    "import sys\n",
    "from fastai.imports import *\n",
    "from fastai.structured import *"
   ]
  },
  {
   "cell_type": "code",
   "execution_count": 30,
   "metadata": {},
   "outputs": [],
   "source": [
    "prediction_trend_data = [] \n",
    "input_numeric_columns = []\n",
    "input_categorical_columns = []\n",
    "output_columns = []\n",
    "\n",
    "normalize = False\n",
    "dfOriginal = pd.read_csv('../Data/V1.1FeaturesWithLabelsTestRegion220131201To20180430.csv', parse_dates=['Date'], low_memory=False)\n",
    "df = dfOriginal\n",
    "all_columns = list(df)\n",
    "numeric_regex = re.compile(\"n_*\")\n",
    "input_numeric_columns = list(filter(numeric_regex.match, all_columns))\n",
    "categorical_regex = re.compile(\"c_*\")                               \n",
    "input_categorical_columns = list(filter(categorical_regex.match, all_columns))\n",
    "output_regex = re.compile(\"o_*\")                               \n",
    "output_columns = list(filter(output_regex.match, all_columns))\n",
    "metadata_columns = [\"Lat\", \"Lon\", \"UnifiedRegion\", \"Date\"]\n",
    "df = df[input_numeric_columns+input_categorical_columns+output_columns+prediction_trend_data+metadata_columns]\n",
    "    "
   ]
  },
  {
   "cell_type": "code",
   "execution_count": 31,
   "metadata": {},
   "outputs": [],
   "source": [
    "df = df[df['o_Day1DangerAboveTreeline']!='no-data']\n",
    "df = df[df['o_Day1DangerNearTreeline']!='no-data']\n",
    "df = df[df['o_Day1DangerBelowTreeline']!='no-data']\n",
    "\n",
    "df = df[df['o_Day1DangerAboveTreeline']!='Extreme']\n",
    "df = df[df['o_Day1DangerNearTreeline']!='Extreme']\n",
    "df = df[df['o_Day1DangerBelowTreeline']!='Extreme']"
   ]
  },
  {
   "cell_type": "code",
   "execution_count": 32,
   "metadata": {},
   "outputs": [],
   "source": [
    "#clean mising values\n",
    "mappingMissingValues = {-9999:np.nan}\n",
    "df = df.replace(mappingMissingValues)\n",
    "\n",
    "df = df.interpolate(method='linear', axis=0).ffill().bfill()\n"
   ]
  },
  {
   "cell_type": "code",
   "execution_count": 33,
   "metadata": {},
   "outputs": [],
   "source": [
    "train_cats(df)\n",
    "df['o_Day1DangerAboveTreeline'].cat.set_categories(['High', 'Considerable', 'Moderate', 'Low'], ordered=True, inplace=True)"
   ]
  },
  {
   "cell_type": "code",
   "execution_count": 46,
   "metadata": {},
   "outputs": [
    {
     "name": "stderr",
     "output_type": "stream",
     "text": [
      "D:\\src\\GitHub\\OpenAvalancheProject\\ML\\fastai\\structured.py:118: SettingWithCopyWarning: \n",
      "A value is trying to be set on a copy of a slice from a DataFrame.\n",
      "Try using .loc[row_indexer,col_indexer] = value instead\n",
      "\n",
      "See the caveats in the documentation: http://pandas.pydata.org/pandas-docs/stable/indexing.html#indexing-view-versus-copy\n",
      "  for n in attr: df[targ_pre + n] = getattr(fld.dt, n.lower())\n",
      "D:\\src\\GitHub\\OpenAvalancheProject\\ML\\fastai\\structured.py:119: SettingWithCopyWarning: \n",
      "A value is trying to be set on a copy of a slice from a DataFrame.\n",
      "Try using .loc[row_indexer,col_indexer] = value instead\n",
      "\n",
      "See the caveats in the documentation: http://pandas.pydata.org/pandas-docs/stable/indexing.html#indexing-view-versus-copy\n",
      "  df[targ_pre + 'Elapsed'] = fld.astype(np.int64) // 10 ** 9\n",
      "C:\\Users\\scott\\Anaconda3\\envs\\fastai\\lib\\site-packages\\pandas\\core\\frame.py:3697: SettingWithCopyWarning: \n",
      "A value is trying to be set on a copy of a slice from a DataFrame\n",
      "\n",
      "See the caveats in the documentation: http://pandas.pydata.org/pandas-docs/stable/indexing.html#indexing-view-versus-copy\n",
      "  errors=errors)\n"
     ]
    }
   ],
   "source": [
    "splitBySeason = True\n",
    "testAsMostRecent = False\n",
    "yColumns = ['o_Day1DangerAboveTreeline']\n",
    "yNearColumn = ['o_Day1DangerNearTreeline']\n",
    "yBelowColumn = ['o_Day1DangerBelowTreeline']\n",
    "\n",
    "if(splitBySeason):\n",
    "    if(testAsMostRecent):\n",
    "        df_train = df[df['Date'] < datetime.datetime(2017, 5, 1)] \n",
    "        df_test = df[df['Date'] > datetime.datetime(2017, 5, 1)]\n",
    "    else:\n",
    "        df_train = df[(df['Date'] < datetime.datetime(2016, 5, 1)) | (df['Date'] > datetime.datetime(2017, 5, 1))] \n",
    "        df_test = df[(df['Date'] > datetime.datetime(2016, 5, 1)) & (df['Date'] < datetime.datetime(2017, 5, 1))]\n",
    "    \n",
    "    y_Above_train = df_train[yColumns + metadata_columns]\n",
    "    y_Near_train = df_train[yNearColumn + metadata_columns]\n",
    "    y_Below_train = df_train[yBelowColumn + metadata_columns]\n",
    "    \n",
    "    y_Above_test = df_test[yColumns + metadata_columns]\n",
    "    y_Near_test = df_test[yNearColumn + metadata_columns]\n",
    "    y_Below_test = df_test[yBelowColumn + metadata_columns]\n",
    "    \n",
    "    #feature engineer date\n",
    "    add_datepart(df_train, 'Date')\n",
    "    add_datepart(df_test, 'Date')\n",
    "    date_columns = ['Year', 'Month', 'Week', 'Day', 'Dayofweek', 'Dayofyear', 'Is_month_end', 'Is_month_start', 'Is_quarter_end', 'Is_quarter_start', 'Is_year_end', 'Is_year_start', 'Elapsed']\n",
    "    \n",
    "    #same x input trained to get a different output\n",
    "    X_Above_train = X_Near_train = X_Below_train = df_train[input_numeric_columns+input_categorical_columns+date_columns]\n",
    "    X_Above_test = X_Near_test = X_Below_test = df_test[input_numeric_columns+input_categorical_columns+date_columns]\n",
    "    \n",
    "   \n",
    "    \n",
    "else:\n",
    "    #random stratified split\n",
    "    X = df[input_numeric_columns+input_categorical_columns]\n",
    "    \n",
    "    yAbove=df[yColumns + metadata_columns]\n",
    "    X_Above_train, X_Above_test, y_Above_train, y_Above_test = train_test_split(X, yAbove, stratify=yAbove[\"o_Day1DangerAboveTreeline\"], test_size=0.20, random_state=1)\n",
    "    \n",
    "    yNear=df[yNearColumn+metadata_columns]\n",
    "    X_Near_train, X_Near_test, y_Near_train, y_Near_test = train_test_split(X, yNear, stratify=yNear['o_Day1DangerNearTreeline'], test_size=0.20, random_state=1)\n",
    "    \n",
    "    yBelow=df[yBelowColumn+metadata_columns]\n",
    "    X_Below_train, X_Below_test, y_Below_train, y_Below_test = train_test_split(X, yBelow, stratify=yBelow['o_Day1DangerBelowTreeline'], test_size=0.20, random_state=1)"
   ]
  },
  {
   "cell_type": "code",
   "execution_count": 82,
   "metadata": {},
   "outputs": [
    {
     "data": {
      "text/plain": [
       "(93099, 354)"
      ]
     },
     "execution_count": 82,
     "metadata": {},
     "output_type": "execute_result"
    }
   ],
   "source": [
    "X_Above_train.shape"
   ]
  },
  {
   "cell_type": "code",
   "execution_count": 96,
   "metadata": {},
   "outputs": [],
   "source": [
    "#set_rf_samples(5000)\n",
    "reset_rf_samples()"
   ]
  },
  {
   "cell_type": "code",
   "execution_count": 101,
   "metadata": {},
   "outputs": [
    {
     "ename": "SyntaxError",
     "evalue": "keyword argument repeated (<ipython-input-101-ff9cb61b752d>, line 6)",
     "output_type": "error",
     "traceback": [
      "\u001b[1;36m  File \u001b[1;32m\"<ipython-input-101-ff9cb61b752d>\"\u001b[1;36m, line \u001b[1;32m6\u001b[0m\n\u001b[1;33m    max_features=\"sqrt\"\u001b[0m\n\u001b[1;37m    ^\u001b[0m\n\u001b[1;31mSyntaxError\u001b[0m\u001b[1;31m:\u001b[0m keyword argument repeated\n"
     ]
    }
   ],
   "source": [
    "m = RandomForestClassifier(n_jobs = -1,\n",
    "                           oob_score=True,\n",
    "                           n_estimators=300,\n",
    "                           min_samples_leaf=5,\n",
    "                           max_features=\"sqrt\"\n",
    "                           )\n",
    "m.fit(X_Above_train, y_Above_train[yColumns].values.ravel())\n",
    "m.score(X_Above_train, y_Above_train[yColumns].values.ravel())"
   ]
  },
  {
   "cell_type": "code",
   "execution_count": 100,
   "metadata": {},
   "outputs": [
    {
     "data": {
      "text/plain": [
       "0.5729453292198227"
      ]
     },
     "execution_count": 100,
     "metadata": {},
     "output_type": "execute_result"
    }
   ],
   "source": [
    "m.score(X_Above_test, y_Above_test[yColumns].values.ravel())"
   ]
  },
  {
   "cell_type": "code",
   "execution_count": 88,
   "metadata": {},
   "outputs": [
    {
     "data": {
      "text/plain": [
       "0.9056273429360143"
      ]
     },
     "execution_count": 88,
     "metadata": {},
     "output_type": "execute_result"
    }
   ],
   "source": [
    "m.oob_score_"
   ]
  },
  {
   "cell_type": "code",
   "execution_count": 89,
   "metadata": {},
   "outputs": [],
   "source": [
    "importances = pd.Series(m.feature_importances_)\n",
    "out = pd.concat([pd.Series(X_Above_train.columns), importances], axis=1)\n",
    "out.columns=['Feature','Score']"
   ]
  },
  {
   "cell_type": "code",
   "execution_count": 90,
   "metadata": {},
   "outputs": [
    {
     "data": {
      "text/html": [
       "<div>\n",
       "<style scoped>\n",
       "    .dataframe tbody tr th:only-of-type {\n",
       "        vertical-align: middle;\n",
       "    }\n",
       "\n",
       "    .dataframe tbody tr th {\n",
       "        vertical-align: top;\n",
       "    }\n",
       "\n",
       "    .dataframe thead th {\n",
       "        text-align: right;\n",
       "    }\n",
       "</style>\n",
       "<table border=\"1\" class=\"dataframe\">\n",
       "  <thead>\n",
       "    <tr style=\"text-align: right;\">\n",
       "      <th></th>\n",
       "      <th>Feature</th>\n",
       "      <th>Score</th>\n",
       "    </tr>\n",
       "  </thead>\n",
       "  <tbody>\n",
       "    <tr>\n",
       "      <th>65</th>\n",
       "      <td>n_r_Prev1DayPrecip</td>\n",
       "      <td>0.013941</td>\n",
       "    </tr>\n",
       "    <tr>\n",
       "      <th>52</th>\n",
       "      <td>n_f_APCPsurface</td>\n",
       "      <td>0.013601</td>\n",
       "    </tr>\n",
       "    <tr>\n",
       "      <th>353</th>\n",
       "      <td>Elapsed</td>\n",
       "      <td>0.013125</td>\n",
       "    </tr>\n",
       "    <tr>\n",
       "      <th>73</th>\n",
       "      <td>n_r_SNOWDAS_SolidPrecip_kgpersquarem</td>\n",
       "      <td>0.011522</td>\n",
       "    </tr>\n",
       "    <tr>\n",
       "      <th>346</th>\n",
       "      <td>Dayofyear</td>\n",
       "      <td>0.010366</td>\n",
       "    </tr>\n",
       "    <tr>\n",
       "      <th>344</th>\n",
       "      <td>Day</td>\n",
       "      <td>0.009591</td>\n",
       "    </tr>\n",
       "    <tr>\n",
       "      <th>89</th>\n",
       "      <td>n_r_Prev1DayPrecip1InPast</td>\n",
       "      <td>0.009127</td>\n",
       "    </tr>\n",
       "    <tr>\n",
       "      <th>343</th>\n",
       "      <td>Week</td>\n",
       "      <td>0.007700</td>\n",
       "    </tr>\n",
       "    <tr>\n",
       "      <th>92</th>\n",
       "      <td>n_r_SNOWDAS_SWE_mm1InPast</td>\n",
       "      <td>0.007463</td>\n",
       "    </tr>\n",
       "    <tr>\n",
       "      <th>50</th>\n",
       "      <td>n_f_tempAveF</td>\n",
       "      <td>0.006877</td>\n",
       "    </tr>\n",
       "  </tbody>\n",
       "</table>\n",
       "</div>"
      ],
      "text/plain": [
       "                                  Feature     Score\n",
       "65                     n_r_Prev1DayPrecip  0.013941\n",
       "52                        n_f_APCPsurface  0.013601\n",
       "353                               Elapsed  0.013125\n",
       "73   n_r_SNOWDAS_SolidPrecip_kgpersquarem  0.011522\n",
       "346                             Dayofyear  0.010366\n",
       "344                                   Day  0.009591\n",
       "89              n_r_Prev1DayPrecip1InPast  0.009127\n",
       "343                                  Week  0.007700\n",
       "92              n_r_SNOWDAS_SWE_mm1InPast  0.007463\n",
       "50                           n_f_tempAveF  0.006877"
      ]
     },
     "execution_count": 90,
     "metadata": {},
     "output_type": "execute_result"
    }
   ],
   "source": [
    "out.sort_values(by=['Score'], ascending=False)[:10]"
   ]
  },
  {
   "cell_type": "code",
   "execution_count": 78,
   "metadata": {},
   "outputs": [
    {
     "data": {
      "text/plain": [
       "(1, 35979)"
      ]
     },
     "execution_count": 78,
     "metadata": {},
     "output_type": "execute_result"
    }
   ],
   "source": [
    "preds.shape"
   ]
  },
  {
   "cell_type": "code",
   "execution_count": 79,
   "metadata": {},
   "outputs": [
    {
     "data": {
      "image/png": "[encoded data removed]",
      "text/plain": [
       "<Figure size 432x288 with 1 Axes>"
      ]
     },
     "metadata": {
      "needs_background": "light"
     },
     "output_type": "display_data"
    }
   ],
   "source": [
    "plt.plot([metrics.accuracy_score(y_Above_test[yColumns].values.ravel(), np.mean(preds[:i+1], axis=0)) for i in range(10)]);"
   ]
  },
  {
   "cell_type": "code",
   "execution_count": 53,
   "metadata": {},
   "outputs": [
    {
     "name": "stdout",
     "output_type": "stream",
     "text": [
      "Automatically created module for IPython interactive environment\n"
     ]
    },
    {
     "name": "stderr",
     "output_type": "stream",
     "text": [
      "C:\\Users\\scott\\Anaconda3\\envs\\fastai\\lib\\site-packages\\ipykernel_launcher.py:59: DataConversionWarning: A column-vector y was passed when a 1d array was expected. Please change the shape of y to (n_samples,), for example using ravel().\n",
      "C:\\Users\\scott\\Anaconda3\\envs\\fastai\\lib\\site-packages\\sklearn\\ensemble\\forest.py:460: UserWarning: Some inputs do not have OOB scores. This probably means too few trees were used to compute any reliable oob estimates.\n",
      "  warn(\"Some inputs do not have OOB scores. \"\n",
      "C:\\Users\\scott\\Anaconda3\\envs\\fastai\\lib\\site-packages\\sklearn\\ensemble\\forest.py:465: RuntimeWarning: invalid value encountered in true_divide\n",
      "  predictions[k].sum(axis=1)[:, np.newaxis])\n",
      "C:\\Users\\scott\\Anaconda3\\envs\\fastai\\lib\\site-packages\\ipykernel_launcher.py:59: DataConversionWarning: A column-vector y was passed when a 1d array was expected. Please change the shape of y to (n_samples,), for example using ravel().\n",
      "C:\\Users\\scott\\Anaconda3\\envs\\fastai\\lib\\site-packages\\ipykernel_launcher.py:59: DataConversionWarning: A column-vector y was passed when a 1d array was expected. Please change the shape of y to (n_samples,), for example using ravel().\n",
      "C:\\Users\\scott\\Anaconda3\\envs\\fastai\\lib\\site-packages\\ipykernel_launcher.py:59: DataConversionWarning: A column-vector y was passed when a 1d array was expected. Please change the shape of y to (n_samples,), for example using ravel().\n",
      "C:\\Users\\scott\\Anaconda3\\envs\\fastai\\lib\\site-packages\\ipykernel_launcher.py:59: DataConversionWarning: A column-vector y was passed when a 1d array was expected. Please change the shape of y to (n_samples,), for example using ravel().\n",
      "C:\\Users\\scott\\Anaconda3\\envs\\fastai\\lib\\site-packages\\ipykernel_launcher.py:59: DataConversionWarning: A column-vector y was passed when a 1d array was expected. Please change the shape of y to (n_samples,), for example using ravel().\n",
      "C:\\Users\\scott\\Anaconda3\\envs\\fastai\\lib\\site-packages\\ipykernel_launcher.py:59: DataConversionWarning: A column-vector y was passed when a 1d array was expected. Please change the shape of y to (n_samples,), for example using ravel().\n",
      "C:\\Users\\scott\\Anaconda3\\envs\\fastai\\lib\\site-packages\\ipykernel_launcher.py:59: DataConversionWarning: A column-vector y was passed when a 1d array was expected. Please change the shape of y to (n_samples,), for example using ravel().\n",
      "C:\\Users\\scott\\Anaconda3\\envs\\fastai\\lib\\site-packages\\ipykernel_launcher.py:59: DataConversionWarning: A column-vector y was passed when a 1d array was expected. Please change the shape of y to (n_samples,), for example using ravel().\n",
      "C:\\Users\\scott\\Anaconda3\\envs\\fastai\\lib\\site-packages\\ipykernel_launcher.py:59: DataConversionWarning: A column-vector y was passed when a 1d array was expected. Please change the shape of y to (n_samples,), for example using ravel().\n",
      "C:\\Users\\scott\\Anaconda3\\envs\\fastai\\lib\\site-packages\\ipykernel_launcher.py:59: DataConversionWarning: A column-vector y was passed when a 1d array was expected. Please change the shape of y to (n_samples,), for example using ravel().\n",
      "C:\\Users\\scott\\Anaconda3\\envs\\fastai\\lib\\site-packages\\ipykernel_launcher.py:59: DataConversionWarning: A column-vector y was passed when a 1d array was expected. Please change the shape of y to (n_samples,), for example using ravel().\n",
      "C:\\Users\\scott\\Anaconda3\\envs\\fastai\\lib\\site-packages\\ipykernel_launcher.py:59: DataConversionWarning: A column-vector y was passed when a 1d array was expected. Please change the shape of y to (n_samples,), for example using ravel().\n",
      "C:\\Users\\scott\\Anaconda3\\envs\\fastai\\lib\\site-packages\\ipykernel_launcher.py:59: DataConversionWarning: A column-vector y was passed when a 1d array was expected. Please change the shape of y to (n_samples,), for example using ravel().\n",
      "C:\\Users\\scott\\Anaconda3\\envs\\fastai\\lib\\site-packages\\ipykernel_launcher.py:59: DataConversionWarning: A column-vector y was passed when a 1d array was expected. Please change the shape of y to (n_samples,), for example using ravel().\n",
      "C:\\Users\\scott\\Anaconda3\\envs\\fastai\\lib\\site-packages\\ipykernel_launcher.py:59: DataConversionWarning: A column-vector y was passed when a 1d array was expected. Please change the shape of y to (n_samples,), for example using ravel().\n",
      "C:\\Users\\scott\\Anaconda3\\envs\\fastai\\lib\\site-packages\\ipykernel_launcher.py:59: DataConversionWarning: A column-vector y was passed when a 1d array was expected. Please change the shape of y to (n_samples,), for example using ravel().\n",
      "C:\\Users\\scott\\Anaconda3\\envs\\fastai\\lib\\site-packages\\ipykernel_launcher.py:59: DataConversionWarning: A column-vector y was passed when a 1d array was expected. Please change the shape of y to (n_samples,), for example using ravel().\n",
      "C:\\Users\\scott\\Anaconda3\\envs\\fastai\\lib\\site-packages\\ipykernel_launcher.py:59: DataConversionWarning: A column-vector y was passed when a 1d array was expected. Please change the shape of y to (n_samples,), for example using ravel().\n",
      "C:\\Users\\scott\\Anaconda3\\envs\\fastai\\lib\\site-packages\\ipykernel_launcher.py:59: DataConversionWarning: A column-vector y was passed when a 1d array was expected. Please change the shape of y to (n_samples,), for example using ravel().\n",
      "C:\\Users\\scott\\Anaconda3\\envs\\fastai\\lib\\site-packages\\ipykernel_launcher.py:59: DataConversionWarning: A column-vector y was passed when a 1d array was expected. Please change the shape of y to (n_samples,), for example using ravel().\n",
      "C:\\Users\\scott\\Anaconda3\\envs\\fastai\\lib\\site-packages\\ipykernel_launcher.py:59: DataConversionWarning: A column-vector y was passed when a 1d array was expected. Please change the shape of y to (n_samples,), for example using ravel().\n",
      "C:\\Users\\scott\\Anaconda3\\envs\\fastai\\lib\\site-packages\\ipykernel_launcher.py:59: DataConversionWarning: A column-vector y was passed when a 1d array was expected. Please change the shape of y to (n_samples,), for example using ravel().\n",
      "C:\\Users\\scott\\Anaconda3\\envs\\fastai\\lib\\site-packages\\ipykernel_launcher.py:59: DataConversionWarning: A column-vector y was passed when a 1d array was expected. Please change the shape of y to (n_samples,), for example using ravel().\n",
      "C:\\Users\\scott\\Anaconda3\\envs\\fastai\\lib\\site-packages\\ipykernel_launcher.py:59: DataConversionWarning: A column-vector y was passed when a 1d array was expected. Please change the shape of y to (n_samples,), for example using ravel().\n",
      "C:\\Users\\scott\\Anaconda3\\envs\\fastai\\lib\\site-packages\\ipykernel_launcher.py:59: DataConversionWarning: A column-vector y was passed when a 1d array was expected. Please change the shape of y to (n_samples,), for example using ravel().\n",
      "C:\\Users\\scott\\Anaconda3\\envs\\fastai\\lib\\site-packages\\ipykernel_launcher.py:59: DataConversionWarning: A column-vector y was passed when a 1d array was expected. Please change the shape of y to (n_samples,), for example using ravel().\n",
      "C:\\Users\\scott\\Anaconda3\\envs\\fastai\\lib\\site-packages\\ipykernel_launcher.py:59: DataConversionWarning: A column-vector y was passed when a 1d array was expected. Please change the shape of y to (n_samples,), for example using ravel().\n",
      "C:\\Users\\scott\\Anaconda3\\envs\\fastai\\lib\\site-packages\\ipykernel_launcher.py:59: DataConversionWarning: A column-vector y was passed when a 1d array was expected. Please change the shape of y to (n_samples,), for example using ravel().\n",
      "C:\\Users\\scott\\Anaconda3\\envs\\fastai\\lib\\site-packages\\ipykernel_launcher.py:59: DataConversionWarning: A column-vector y was passed when a 1d array was expected. Please change the shape of y to (n_samples,), for example using ravel().\n",
      "C:\\Users\\scott\\Anaconda3\\envs\\fastai\\lib\\site-packages\\sklearn\\ensemble\\forest.py:460: UserWarning: Some inputs do not have OOB scores. This probably means too few trees were used to compute any reliable oob estimates.\n",
      "  warn(\"Some inputs do not have OOB scores. \"\n",
      "C:\\Users\\scott\\Anaconda3\\envs\\fastai\\lib\\site-packages\\sklearn\\ensemble\\forest.py:465: RuntimeWarning: invalid value encountered in true_divide\n",
      "  predictions[k].sum(axis=1)[:, np.newaxis])\n",
      "C:\\Users\\scott\\Anaconda3\\envs\\fastai\\lib\\site-packages\\ipykernel_launcher.py:59: DataConversionWarning: A column-vector y was passed when a 1d array was expected. Please change the shape of y to (n_samples,), for example using ravel().\n"
     ]
    },
    {
     "name": "stderr",
     "output_type": "stream",
     "text": [
      "C:\\Users\\scott\\Anaconda3\\envs\\fastai\\lib\\site-packages\\ipykernel_launcher.py:59: DataConversionWarning: A column-vector y was passed when a 1d array was expected. Please change the shape of y to (n_samples,), for example using ravel().\n",
      "C:\\Users\\scott\\Anaconda3\\envs\\fastai\\lib\\site-packages\\ipykernel_launcher.py:59: DataConversionWarning: A column-vector y was passed when a 1d array was expected. Please change the shape of y to (n_samples,), for example using ravel().\n",
      "C:\\Users\\scott\\Anaconda3\\envs\\fastai\\lib\\site-packages\\ipykernel_launcher.py:59: DataConversionWarning: A column-vector y was passed when a 1d array was expected. Please change the shape of y to (n_samples,), for example using ravel().\n",
      "C:\\Users\\scott\\Anaconda3\\envs\\fastai\\lib\\site-packages\\ipykernel_launcher.py:59: DataConversionWarning: A column-vector y was passed when a 1d array was expected. Please change the shape of y to (n_samples,), for example using ravel().\n",
      "C:\\Users\\scott\\Anaconda3\\envs\\fastai\\lib\\site-packages\\ipykernel_launcher.py:59: DataConversionWarning: A column-vector y was passed when a 1d array was expected. Please change the shape of y to (n_samples,), for example using ravel().\n",
      "C:\\Users\\scott\\Anaconda3\\envs\\fastai\\lib\\site-packages\\ipykernel_launcher.py:59: DataConversionWarning: A column-vector y was passed when a 1d array was expected. Please change the shape of y to (n_samples,), for example using ravel().\n",
      "C:\\Users\\scott\\Anaconda3\\envs\\fastai\\lib\\site-packages\\ipykernel_launcher.py:59: DataConversionWarning: A column-vector y was passed when a 1d array was expected. Please change the shape of y to (n_samples,), for example using ravel().\n",
      "C:\\Users\\scott\\Anaconda3\\envs\\fastai\\lib\\site-packages\\ipykernel_launcher.py:59: DataConversionWarning: A column-vector y was passed when a 1d array was expected. Please change the shape of y to (n_samples,), for example using ravel().\n",
      "C:\\Users\\scott\\Anaconda3\\envs\\fastai\\lib\\site-packages\\ipykernel_launcher.py:59: DataConversionWarning: A column-vector y was passed when a 1d array was expected. Please change the shape of y to (n_samples,), for example using ravel().\n",
      "C:\\Users\\scott\\Anaconda3\\envs\\fastai\\lib\\site-packages\\ipykernel_launcher.py:59: DataConversionWarning: A column-vector y was passed when a 1d array was expected. Please change the shape of y to (n_samples,), for example using ravel().\n",
      "C:\\Users\\scott\\Anaconda3\\envs\\fastai\\lib\\site-packages\\ipykernel_launcher.py:59: DataConversionWarning: A column-vector y was passed when a 1d array was expected. Please change the shape of y to (n_samples,), for example using ravel().\n",
      "C:\\Users\\scott\\Anaconda3\\envs\\fastai\\lib\\site-packages\\ipykernel_launcher.py:59: DataConversionWarning: A column-vector y was passed when a 1d array was expected. Please change the shape of y to (n_samples,), for example using ravel().\n",
      "C:\\Users\\scott\\Anaconda3\\envs\\fastai\\lib\\site-packages\\ipykernel_launcher.py:59: DataConversionWarning: A column-vector y was passed when a 1d array was expected. Please change the shape of y to (n_samples,), for example using ravel().\n",
      "C:\\Users\\scott\\Anaconda3\\envs\\fastai\\lib\\site-packages\\ipykernel_launcher.py:59: DataConversionWarning: A column-vector y was passed when a 1d array was expected. Please change the shape of y to (n_samples,), for example using ravel().\n",
      "C:\\Users\\scott\\Anaconda3\\envs\\fastai\\lib\\site-packages\\ipykernel_launcher.py:59: DataConversionWarning: A column-vector y was passed when a 1d array was expected. Please change the shape of y to (n_samples,), for example using ravel().\n",
      "C:\\Users\\scott\\Anaconda3\\envs\\fastai\\lib\\site-packages\\ipykernel_launcher.py:59: DataConversionWarning: A column-vector y was passed when a 1d array was expected. Please change the shape of y to (n_samples,), for example using ravel().\n",
      "C:\\Users\\scott\\Anaconda3\\envs\\fastai\\lib\\site-packages\\ipykernel_launcher.py:59: DataConversionWarning: A column-vector y was passed when a 1d array was expected. Please change the shape of y to (n_samples,), for example using ravel().\n",
      "C:\\Users\\scott\\Anaconda3\\envs\\fastai\\lib\\site-packages\\ipykernel_launcher.py:59: DataConversionWarning: A column-vector y was passed when a 1d array was expected. Please change the shape of y to (n_samples,), for example using ravel().\n",
      "C:\\Users\\scott\\Anaconda3\\envs\\fastai\\lib\\site-packages\\ipykernel_launcher.py:59: DataConversionWarning: A column-vector y was passed when a 1d array was expected. Please change the shape of y to (n_samples,), for example using ravel().\n",
      "C:\\Users\\scott\\Anaconda3\\envs\\fastai\\lib\\site-packages\\ipykernel_launcher.py:59: DataConversionWarning: A column-vector y was passed when a 1d array was expected. Please change the shape of y to (n_samples,), for example using ravel().\n",
      "C:\\Users\\scott\\Anaconda3\\envs\\fastai\\lib\\site-packages\\ipykernel_launcher.py:59: DataConversionWarning: A column-vector y was passed when a 1d array was expected. Please change the shape of y to (n_samples,), for example using ravel().\n",
      "C:\\Users\\scott\\Anaconda3\\envs\\fastai\\lib\\site-packages\\ipykernel_launcher.py:59: DataConversionWarning: A column-vector y was passed when a 1d array was expected. Please change the shape of y to (n_samples,), for example using ravel().\n",
      "C:\\Users\\scott\\Anaconda3\\envs\\fastai\\lib\\site-packages\\ipykernel_launcher.py:59: DataConversionWarning: A column-vector y was passed when a 1d array was expected. Please change the shape of y to (n_samples,), for example using ravel().\n",
      "C:\\Users\\scott\\Anaconda3\\envs\\fastai\\lib\\site-packages\\ipykernel_launcher.py:59: DataConversionWarning: A column-vector y was passed when a 1d array was expected. Please change the shape of y to (n_samples,), for example using ravel().\n",
      "C:\\Users\\scott\\Anaconda3\\envs\\fastai\\lib\\site-packages\\ipykernel_launcher.py:59: DataConversionWarning: A column-vector y was passed when a 1d array was expected. Please change the shape of y to (n_samples,), for example using ravel().\n",
      "C:\\Users\\scott\\Anaconda3\\envs\\fastai\\lib\\site-packages\\ipykernel_launcher.py:59: DataConversionWarning: A column-vector y was passed when a 1d array was expected. Please change the shape of y to (n_samples,), for example using ravel().\n",
      "C:\\Users\\scott\\Anaconda3\\envs\\fastai\\lib\\site-packages\\ipykernel_launcher.py:59: DataConversionWarning: A column-vector y was passed when a 1d array was expected. Please change the shape of y to (n_samples,), for example using ravel().\n",
      "C:\\Users\\scott\\Anaconda3\\envs\\fastai\\lib\\site-packages\\ipykernel_launcher.py:59: DataConversionWarning: A column-vector y was passed when a 1d array was expected. Please change the shape of y to (n_samples,), for example using ravel().\n",
      "C:\\Users\\scott\\Anaconda3\\envs\\fastai\\lib\\site-packages\\sklearn\\ensemble\\forest.py:460: UserWarning: Some inputs do not have OOB scores. This probably means too few trees were used to compute any reliable oob estimates.\n",
      "  warn(\"Some inputs do not have OOB scores. \"\n",
      "C:\\Users\\scott\\Anaconda3\\envs\\fastai\\lib\\site-packages\\sklearn\\ensemble\\forest.py:465: RuntimeWarning: invalid value encountered in true_divide\n",
      "  predictions[k].sum(axis=1)[:, np.newaxis])\n",
      "C:\\Users\\scott\\Anaconda3\\envs\\fastai\\lib\\site-packages\\ipykernel_launcher.py:59: DataConversionWarning: A column-vector y was passed when a 1d array was expected. Please change the shape of y to (n_samples,), for example using ravel().\n",
      "C:\\Users\\scott\\Anaconda3\\envs\\fastai\\lib\\site-packages\\ipykernel_launcher.py:59: DataConversionWarning: A column-vector y was passed when a 1d array was expected. Please change the shape of y to (n_samples,), for example using ravel().\n",
      "C:\\Users\\scott\\Anaconda3\\envs\\fastai\\lib\\site-packages\\ipykernel_launcher.py:59: DataConversionWarning: A column-vector y was passed when a 1d array was expected. Please change the shape of y to (n_samples,), for example using ravel().\n",
      "C:\\Users\\scott\\Anaconda3\\envs\\fastai\\lib\\site-packages\\ipykernel_launcher.py:59: DataConversionWarning: A column-vector y was passed when a 1d array was expected. Please change the shape of y to (n_samples,), for example using ravel().\n",
      "C:\\Users\\scott\\Anaconda3\\envs\\fastai\\lib\\site-packages\\ipykernel_launcher.py:59: DataConversionWarning: A column-vector y was passed when a 1d array was expected. Please change the shape of y to (n_samples,), for example using ravel().\n"
     ]
    },
    {
     "name": "stderr",
     "output_type": "stream",
     "text": [
      "C:\\Users\\scott\\Anaconda3\\envs\\fastai\\lib\\site-packages\\ipykernel_launcher.py:59: DataConversionWarning: A column-vector y was passed when a 1d array was expected. Please change the shape of y to (n_samples,), for example using ravel().\n",
      "C:\\Users\\scott\\Anaconda3\\envs\\fastai\\lib\\site-packages\\ipykernel_launcher.py:59: DataConversionWarning: A column-vector y was passed when a 1d array was expected. Please change the shape of y to (n_samples,), for example using ravel().\n",
      "C:\\Users\\scott\\Anaconda3\\envs\\fastai\\lib\\site-packages\\ipykernel_launcher.py:59: DataConversionWarning: A column-vector y was passed when a 1d array was expected. Please change the shape of y to (n_samples,), for example using ravel().\n",
      "C:\\Users\\scott\\Anaconda3\\envs\\fastai\\lib\\site-packages\\ipykernel_launcher.py:59: DataConversionWarning: A column-vector y was passed when a 1d array was expected. Please change the shape of y to (n_samples,), for example using ravel().\n",
      "C:\\Users\\scott\\Anaconda3\\envs\\fastai\\lib\\site-packages\\ipykernel_launcher.py:59: DataConversionWarning: A column-vector y was passed when a 1d array was expected. Please change the shape of y to (n_samples,), for example using ravel().\n",
      "C:\\Users\\scott\\Anaconda3\\envs\\fastai\\lib\\site-packages\\ipykernel_launcher.py:59: DataConversionWarning: A column-vector y was passed when a 1d array was expected. Please change the shape of y to (n_samples,), for example using ravel().\n",
      "C:\\Users\\scott\\Anaconda3\\envs\\fastai\\lib\\site-packages\\ipykernel_launcher.py:59: DataConversionWarning: A column-vector y was passed when a 1d array was expected. Please change the shape of y to (n_samples,), for example using ravel().\n",
      "C:\\Users\\scott\\Anaconda3\\envs\\fastai\\lib\\site-packages\\ipykernel_launcher.py:59: DataConversionWarning: A column-vector y was passed when a 1d array was expected. Please change the shape of y to (n_samples,), for example using ravel().\n",
      "C:\\Users\\scott\\Anaconda3\\envs\\fastai\\lib\\site-packages\\ipykernel_launcher.py:59: DataConversionWarning: A column-vector y was passed when a 1d array was expected. Please change the shape of y to (n_samples,), for example using ravel().\n",
      "C:\\Users\\scott\\Anaconda3\\envs\\fastai\\lib\\site-packages\\ipykernel_launcher.py:59: DataConversionWarning: A column-vector y was passed when a 1d array was expected. Please change the shape of y to (n_samples,), for example using ravel().\n",
      "C:\\Users\\scott\\Anaconda3\\envs\\fastai\\lib\\site-packages\\ipykernel_launcher.py:59: DataConversionWarning: A column-vector y was passed when a 1d array was expected. Please change the shape of y to (n_samples,), for example using ravel().\n",
      "C:\\Users\\scott\\Anaconda3\\envs\\fastai\\lib\\site-packages\\ipykernel_launcher.py:59: DataConversionWarning: A column-vector y was passed when a 1d array was expected. Please change the shape of y to (n_samples,), for example using ravel().\n",
      "C:\\Users\\scott\\Anaconda3\\envs\\fastai\\lib\\site-packages\\ipykernel_launcher.py:59: DataConversionWarning: A column-vector y was passed when a 1d array was expected. Please change the shape of y to (n_samples,), for example using ravel().\n",
      "C:\\Users\\scott\\Anaconda3\\envs\\fastai\\lib\\site-packages\\ipykernel_launcher.py:59: DataConversionWarning: A column-vector y was passed when a 1d array was expected. Please change the shape of y to (n_samples,), for example using ravel().\n",
      "C:\\Users\\scott\\Anaconda3\\envs\\fastai\\lib\\site-packages\\ipykernel_launcher.py:59: DataConversionWarning: A column-vector y was passed when a 1d array was expected. Please change the shape of y to (n_samples,), for example using ravel().\n",
      "C:\\Users\\scott\\Anaconda3\\envs\\fastai\\lib\\site-packages\\ipykernel_launcher.py:59: DataConversionWarning: A column-vector y was passed when a 1d array was expected. Please change the shape of y to (n_samples,), for example using ravel().\n",
      "C:\\Users\\scott\\Anaconda3\\envs\\fastai\\lib\\site-packages\\ipykernel_launcher.py:59: DataConversionWarning: A column-vector y was passed when a 1d array was expected. Please change the shape of y to (n_samples,), for example using ravel().\n",
      "C:\\Users\\scott\\Anaconda3\\envs\\fastai\\lib\\site-packages\\ipykernel_launcher.py:59: DataConversionWarning: A column-vector y was passed when a 1d array was expected. Please change the shape of y to (n_samples,), for example using ravel().\n",
      "C:\\Users\\scott\\Anaconda3\\envs\\fastai\\lib\\site-packages\\ipykernel_launcher.py:59: DataConversionWarning: A column-vector y was passed when a 1d array was expected. Please change the shape of y to (n_samples,), for example using ravel().\n",
      "C:\\Users\\scott\\Anaconda3\\envs\\fastai\\lib\\site-packages\\ipykernel_launcher.py:59: DataConversionWarning: A column-vector y was passed when a 1d array was expected. Please change the shape of y to (n_samples,), for example using ravel().\n",
      "C:\\Users\\scott\\Anaconda3\\envs\\fastai\\lib\\site-packages\\ipykernel_launcher.py:59: DataConversionWarning: A column-vector y was passed when a 1d array was expected. Please change the shape of y to (n_samples,), for example using ravel().\n",
      "C:\\Users\\scott\\Anaconda3\\envs\\fastai\\lib\\site-packages\\ipykernel_launcher.py:59: DataConversionWarning: A column-vector y was passed when a 1d array was expected. Please change the shape of y to (n_samples,), for example using ravel().\n",
      "C:\\Users\\scott\\Anaconda3\\envs\\fastai\\lib\\site-packages\\ipykernel_launcher.py:59: DataConversionWarning: A column-vector y was passed when a 1d array was expected. Please change the shape of y to (n_samples,), for example using ravel().\n"
     ]
    },
    {
     "data": {
      "image/png": "[encoded data removed]",
      "text/plain": [
       "<Figure size 432x288 with 1 Axes>"
      ]
     },
     "metadata": {
      "needs_background": "light"
     },
     "output_type": "display_data"
    }
   ],
   "source": [
    "import matplotlib.pyplot as plt\n",
    "\n",
    "from collections import OrderedDict\n",
    "from sklearn.datasets import make_classification\n",
    "from sklearn.ensemble import RandomForestClassifier, ExtraTreesClassifier\n",
    "\n",
    "# Author: Kian Ho <hui.kian.ho@gmail.com>\n",
    "#         Gilles Louppe <g.louppe@gmail.com>\n",
    "#         Andreas Mueller <amueller@ais.uni-bonn.de>\n",
    "#\n",
    "# License: BSD 3 Clause\n",
    "\n",
    "print(__doc__)\n",
    "\n",
    "RANDOM_STATE = 123\n",
    "\n",
    "# Generate a binary classification dataset.\n",
    "#X, y = make_classification(n_samples=500, n_features=25,\n",
    "#                           n_clusters_per_class=1, n_informative=15,\n",
    "#                           random_state=RANDOM_STATE)\n",
    "X = X_Above_train\n",
    "y = y_Above_train[yColumns]\n",
    "\n",
    "# NOTE: Setting the `warm_start` construction parameter to `True` disables\n",
    "# support for parallelized ensembles but is necessary for tracking the OOB\n",
    "# error trajectory during training.\n",
    "ensemble_clfs = [\n",
    "    (\"RandomForestClassifier, max_features='sqrt'\",\n",
    "        RandomForestClassifier(n_estimators=100,\n",
    "                               warm_start=True, oob_score=True,\n",
    "                               max_features=\"sqrt\",\n",
    "                               n_jobs = 3,\n",
    "                               random_state=RANDOM_STATE)),\n",
    "    (\"RandomForestClassifier, max_features='log2'\",\n",
    "        RandomForestClassifier(n_estimators=100,\n",
    "                               warm_start=True, max_features='log2',\n",
    "                               n_jobs = 3,\n",
    "                               oob_score=True,\n",
    "                               random_state=RANDOM_STATE)),\n",
    "    (\"RandomForestClassifier, max_features=None\",\n",
    "        RandomForestClassifier(n_estimators=100,\n",
    "                               warm_start=True, max_features=None,\n",
    "                               n_jobs=3,\n",
    "                               oob_score=True,\n",
    "                               random_state=RANDOM_STATE))\n",
    "]\n",
    "\n",
    "# Map a classifier name to a list of (<n_estimators>, <error rate>) pairs.\n",
    "error_rate = OrderedDict((label, []) for label, _ in ensemble_clfs)\n",
    "\n",
    "# Range of `n_estimators` values to explore.\n",
    "min_estimators = 15\n",
    "max_estimators = 300\n",
    "\n",
    "for label, clf in ensemble_clfs:\n",
    "    i = min_estimators\n",
    "    for i in range(min_estimators, max_estimators + 1, 10):\n",
    "        clf.set_params(n_estimators=i)\n",
    "        clf.fit(X, y)\n",
    "\n",
    "        # Record the OOB error for each `n_estimators=i` setting.\n",
    "        oob_error = 1 - clf.oob_score_\n",
    "        error_rate[label].append((i, oob_error))\n",
    "\n",
    "# Generate the \"OOB error rate\" vs. \"n_estimators\" plot.\n",
    "for label, clf_err in error_rate.items():\n",
    "    xs, ys = zip(*clf_err)\n",
    "    plt.plot(xs, ys, label=label)\n",
    "\n",
    "plt.xlim(min_estimators, max_estimators)\n",
    "plt.xlabel(\"n_estimators\")\n",
    "plt.ylabel(\"OOB error rate\")\n",
    "plt.legend(loc=\"upper right\")\n",
    "plt.show()"
   ]
  },
  {
   "cell_type": "code",
   "execution_count": null,
   "metadata": {},
   "outputs": [],
   "source": [
    "best_preds = [np.argmax(line) for line in resultAbove]"
   ]
  },
  {
   "cell_type": "code",
   "execution_count": null,
   "metadata": {},
   "outputs": [],
   "source": [
    "best_preds_df = pd.DataFrame(best_preds, columns=['o_Day1DangerAboveTreeline'])"
   ]
  },
  {
   "cell_type": "code",
   "execution_count": null,
   "metadata": {},
   "outputs": [],
   "source": [
    "best_preds_df.head()"
   ]
  },
  {
   "cell_type": "code",
   "execution_count": null,
   "metadata": {},
   "outputs": [],
   "source": [
    "mapping = {0:'Considerable', 1:'High', 2:'Low', 3:'Moderate'}\n",
    "best_preds_df = best_preds_df.replace({'o_Day1DangerAboveTreeline': mapping})\n",
    "best_preds_df['o_Day1DangerAboveTreeline'].head()"
   ]
  },
  {
   "cell_type": "code",
   "execution_count": null,
   "metadata": {},
   "outputs": [],
   "source": [
    "evaluateSingleClassShort(y_Above_test['o_Day1DangerAboveTreeline'], best_preds_df)\n",
    "cnf_matrix = confusion_matrix(y_Above_test['o_Day1DangerAboveTreeline'], best_preds_df)\n",
    "plt.figure()\n",
    "plot_confusion_matrix(cnf_matrix, classes=['Considerable', 'High', 'Low', 'Moderate'], normalize=True,\n",
    "                      title='Normalized confusion matrix')\n",
    "plt.figure()\n",
    "plot_confusion_matrix(cnf_matrix, classes=['Considerable', 'High', 'Low', 'Moderate'],\n",
    "                      title='Confusion matrix, without normalization')\n",
    "plt.show()"
   ]
  },
  {
   "cell_type": "code",
   "execution_count": null,
   "metadata": {},
   "outputs": [],
   "source": [
    "def evaluateSingleClass(y_test, result):\n",
    "    cm = confusion_matrix(y_test, result)\n",
    "    print(cm)\n",
    "    accuracy = accuracy_score(y_test.values, result)\n",
    "    print(\"Accuracy: \" + str(accuracy))\n",
    "    print(\"Classification Report\")\n",
    "    print(classification_report(y_test.values, result))\n",
    "\n",
    "def evaluateSingleClassShort(y_test, result):\n",
    "    accuracy = accuracy_score(y_test.values, result)\n",
    "    print(\"Accuracy: \" + str(accuracy))\n",
    "    print(\"Classification Report\")\n",
    "    print(classification_report(y_test.values, result))\n",
    "\n",
    "#nice confustion matrix plot taken from scikit-learn docs\n",
    "import itertools\n",
    "import matplotlib.pyplot as plt\n",
    "def plot_confusion_matrix(cm, classes,\n",
    "                          normalize=False,\n",
    "                          title='Confusion matrix',\n",
    "                          cmap=plt.cm.Blues):\n",
    "    \"\"\"\n",
    "    This function prints and plots the confusion matrix.\n",
    "    Normalization can be applied by setting `normalize=True`.\n",
    "    \"\"\"\n",
    "    if normalize:\n",
    "        cm = cm.astype('float') / cm.sum(axis=1)[:, np.newaxis]\n",
    "        print(\"Normalized confusion matrix\")\n",
    "    else:\n",
    "        print('Confusion matrix, without normalization')\n",
    "\n",
    "    #print(cm)\n",
    "\n",
    "    plt.imshow(cm, interpolation='nearest', cmap=cmap)\n",
    "    plt.title(title)\n",
    "    plt.colorbar()\n",
    "    tick_marks = np.arange(len(classes))\n",
    "    plt.xticks(tick_marks, classes, rotation=45)\n",
    "    plt.yticks(tick_marks, classes)\n",
    "\n",
    "    fmt = '.2f' if normalize else 'd'\n",
    "    thresh = cm.max() / 2.\n",
    "    for i, j in itertools.product(range(cm.shape[0]), range(cm.shape[1])):\n",
    "        plt.text(j, i, format(cm[i, j], fmt),\n",
    "                 horizontalalignment=\"center\",\n",
    "                 color=\"white\" if cm[i, j] > thresh else \"black\")\n",
    "\n",
    "    plt.tight_layout()\n",
    "    plt.ylabel('True label')\n",
    "    plt.xlabel('Predicted label')"
   ]
  },
  {
   "cell_type": "code",
   "execution_count": null,
   "metadata": {},
   "outputs": [],
   "source": [
    "importances = pd.Series(gbmgpu.feature_importances_)\n",
    "out = pd.concat([pd.Series(X_Above_train.columns), importances], axis=1)"
   ]
  },
  {
   "cell_type": "code",
   "execution_count": null,
   "metadata": {},
   "outputs": [],
   "source": [
    "out.columns = ['feature', 'importance']"
   ]
  },
  {
   "cell_type": "code",
   "execution_count": null,
   "metadata": {},
   "outputs": [],
   "source": [
    "out.sort_values('importance',ascending=False)[:100]"
   ]
  },
  {
   "cell_type": "code",
   "execution_count": null,
   "metadata": {},
   "outputs": [],
   "source": []
  }
 ],
 "metadata": {
  "kernelspec": {
   "display_name": "Python 3",
   "language": "python",
   "name": "python3"
  },
  "language_info": {
   "codemirror_mode": {
    "name": "ipython",
    "version": 3
   },
   "file_extension": ".py",
   "mimetype": "text/x-python",
   "name": "python",
   "nbconvert_exporter": "python",
   "pygments_lexer": "ipython3",
   "version": "3.5.3"
  }
 },
 "nbformat": 4,
 "nbformat_minor": 2
}
