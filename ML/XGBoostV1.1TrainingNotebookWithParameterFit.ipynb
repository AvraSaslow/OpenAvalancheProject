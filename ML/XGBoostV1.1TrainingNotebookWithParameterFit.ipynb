{
 "cells": [
  {
   "cell_type": "code",
   "execution_count": 1,
   "metadata": {},
   "outputs": [],
   "source": [
    "import numpy as np\n",
    "import pandas as pd\n",
    "import re\n",
    "from sklearn.model_selection import train_test_split\n",
    "from sklearn.ensemble import RandomForestClassifier, GradientBoostingClassifier, AdaBoostClassifier, VotingClassifier\n",
    "from sklearn.preprocessing import Normalizer\n",
    "from sklearn.metrics import confusion_matrix, accuracy_score, classification_report\n",
    "from sklearn.model_selection import GridSearchCV\n",
    "from sklearn.model_selection import StratifiedKFold, cross_val_score\n",
    "from xgboost import XGBClassifier\n",
    "import datetime\n",
    "import matplotlib\n",
    "from matplotlib import pyplot"
   ]
  },
  {
   "cell_type": "code",
   "execution_count": 2,
   "metadata": {},
   "outputs": [
    {
     "ename": "SyntaxError",
     "evalue": "invalid syntax (structured.py, line 33)",
     "output_type": "error",
     "traceback": [
      "Traceback \u001b[1;36m(most recent call last)\u001b[0m:\n",
      "  File \u001b[0;32m\"C:\\Users\\scott\\Anaconda3\\envs\\python35\\lib\\site-packages\\IPython\\core\\interactiveshell.py\"\u001b[0m, line \u001b[0;32m2910\u001b[0m, in \u001b[0;35mrun_code\u001b[0m\n    exec(code_obj, self.user_global_ns, self.user_ns)\n",
      "\u001b[1;36m  File \u001b[1;32m\"<ipython-input-2-2848748cf8b1>\"\u001b[1;36m, line \u001b[1;32m2\u001b[1;36m, in \u001b[1;35m<module>\u001b[1;36m\u001b[0m\n\u001b[1;33m    from fastai.structured import *\u001b[0m\n",
      "\u001b[1;36m  File \u001b[1;32m\"D:\\src\\GitHub\\OpenAvalancheProject\\ML\\fastai\\structured.py\"\u001b[1;36m, line \u001b[1;32m33\u001b[0m\n\u001b[1;33m    f'Tree {{ size={size}; ratio={ratio}', s)))\u001b[0m\n\u001b[1;37m                                        ^\u001b[0m\n\u001b[1;31mSyntaxError\u001b[0m\u001b[1;31m:\u001b[0m invalid syntax\n"
     ]
    }
   ],
   "source": [
    "#from fastai.imports import *\n",
    "#from fastai.structured import *"
   ]
  },
  {
   "cell_type": "code",
   "execution_count": 3,
   "metadata": {},
   "outputs": [],
   "source": [
    "prediction_trend_data = [] \n",
    "input_numeric_columns = []\n",
    "input_categorical_columns = []\n",
    "output_columns = []\n",
    "\n",
    "normalize = False\n",
    "dfOriginal = pd.read_csv('../Data/V1.1FeaturesWithLabelsTestRegion220131201To20180430.csv', parse_dates=['Date'], low_memory=False)\n",
    "df = dfOriginal\n",
    "all_columns = list(df)\n",
    "numeric_regex = re.compile(\"n_*\")\n",
    "input_numeric_columns = list(filter(numeric_regex.match, all_columns))\n",
    "categorical_regex = re.compile(\"c_*\")                               \n",
    "input_categorical_columns = list(filter(categorical_regex.match, all_columns))\n",
    "output_regex = re.compile(\"o_*\")                               \n",
    "output_columns = list(filter(output_regex.match, all_columns))\n",
    "metadata_columns = [\"Lat\", \"Lon\", \"UnifiedRegion\", \"Date\"]\n",
    "df = df[input_numeric_columns+input_categorical_columns+output_columns+prediction_trend_data+metadata_columns]\n",
    "    \n",
    "if(normalize):\n",
    "    #normalize data; not necessary for xgboost\n",
    "    scaler = Normalizer()\n",
    "    dontNormalize = input_categorical_columns + output_columns + prediction_trend_data + metadata_columns\n",
    "    df.loc[:, ~df.columns.isin(dontNormalize)] = scaler.fit_transform(df.loc[:, ~df.columns.isin(dontNormalize)])"
   ]
  },
  {
   "cell_type": "code",
   "execution_count": 4,
   "metadata": {},
   "outputs": [],
   "source": [
    "df = df[df['o_Day1DangerAboveTreeline']!='no-data']\n",
    "df = df[df['o_Day1DangerNearTreeline']!='no-data']\n",
    "df = df[df['o_Day1DangerBelowTreeline']!='no-data']\n",
    "\n",
    "\n",
    "df = df[df['o_Day1DangerAboveTreeline']!='Extreme']\n",
    "df = df[df['o_Day1DangerNearTreeline']!='Extreme']\n",
    "df = df[df['o_Day1DangerBelowTreeline']!='Extreme']"
   ]
  },
  {
   "cell_type": "code",
   "execution_count": 5,
   "metadata": {},
   "outputs": [],
   "source": [
    "df['DayOfYear'] = df['Date'].dt.dayofyear"
   ]
  },
  {
   "cell_type": "code",
   "execution_count": 7,
   "metadata": {},
   "outputs": [],
   "source": [
    "splitBySeason = True\n",
    "testAsMostRecent = False\n",
    "yColumns = ['o_Day1DangerAboveTreeline']\n",
    "yNearColumn = ['o_Day1DangerNearTreeline']\n",
    "yBelowColumn = ['o_Day1DangerBelowTreeline']\n",
    "\n",
    "if(splitBySeason):\n",
    "    if(testAsMostRecent):\n",
    "        df_train = df[df['Date'] < datetime.datetime(2017, 5, 1)] \n",
    "        df_test = df[df['Date'] > datetime.datetime(2017, 5, 1)]\n",
    "    else:\n",
    "        df_train = df[(df['Date'] < datetime.datetime(2016, 5, 1)) | (df['Date'] > datetime.datetime(2017, 5, 1))] \n",
    "        df_test = df[(df['Date'] > datetime.datetime(2016, 5, 1)) & (df['Date'] < datetime.datetime(2017, 5, 1))]\n",
    "    \n",
    "    y_Above_train = df_train[yColumns + metadata_columns]\n",
    "    y_Near_train = df_train[yNearColumn + metadata_columns]\n",
    "    y_Below_train = df_train[yBelowColumn + metadata_columns]\n",
    "    \n",
    "    y_Above_test = df_test[yColumns + metadata_columns]\n",
    "    y_Near_test = df_test[yNearColumn + metadata_columns]\n",
    "    y_Below_test = df_test[yBelowColumn + metadata_columns]\n",
    "    \n",
    "    #feature engineer date\n",
    "    #add_datepart(df_train, 'Date')\n",
    "    #add_datepart(df_test, 'Date')\n",
    "    date_columns = ['DayOfYear']\n",
    "    \n",
    "    #same x input trained to get a different output\n",
    "    X_Above_train = X_Near_train = X_Below_train = df_train[input_numeric_columns+input_categorical_columns+date_columns]\n",
    "    X_Above_test = X_Near_test = X_Below_test = df_test[input_numeric_columns+input_categorical_columns+date_columns]\n",
    "    \n",
    "   \n",
    "    \n",
    "else:\n",
    "    #random stratified split\n",
    "    X = df[input_numeric_columns+input_categorical_columns]\n",
    "    \n",
    "    yAbove=df[yColumns + metadata_columns]\n",
    "    X_Above_train, X_Above_test, y_Above_train, y_Above_test = train_test_split(X, yAbove, stratify=yAbove[\"o_Day1DangerAboveTreeline\"], test_size=0.20, random_state=1)\n",
    "    \n",
    "    yNear=df[yNearColumn+metadata_columns]\n",
    "    X_Near_train, X_Near_test, y_Near_train, y_Near_test = train_test_split(X, yNear, stratify=yNear['o_Day1DangerNearTreeline'], test_size=0.20, random_state=1)\n",
    "    \n",
    "    yBelow=df[yBelowColumn+metadata_columns]\n",
    "    X_Below_train, X_Below_test, y_Below_train, y_Below_test = train_test_split(X, yBelow, stratify=yBelow['o_Day1DangerBelowTreeline'], test_size=0.20, random_state=1)"
   ]
  },
  {
   "cell_type": "code",
   "execution_count": 10,
   "metadata": {},
   "outputs": [
    {
     "data": {
      "text/html": [
       "<div>\n",
       "<style scoped>\n",
       "    .dataframe tbody tr th:only-of-type {\n",
       "        vertical-align: middle;\n",
       "    }\n",
       "\n",
       "    .dataframe tbody tr th {\n",
       "        vertical-align: top;\n",
       "    }\n",
       "\n",
       "    .dataframe thead th {\n",
       "        text-align: right;\n",
       "    }\n",
       "</style>\n",
       "<table border=\"1\" class=\"dataframe\">\n",
       "  <thead>\n",
       "    <tr style=\"text-align: right;\">\n",
       "      <th></th>\n",
       "      <th>n_f_APCPsurface1HourForecast</th>\n",
       "      <th>n_f_10mWindSpeed1HourForecast</th>\n",
       "      <th>n_f_APCPsurface2HourForecast</th>\n",
       "      <th>n_f_10mWindSpeed2HourForecast</th>\n",
       "      <th>n_f_APCPsurface3HourForecast</th>\n",
       "      <th>n_f_10mWindSpeed3HourForecast</th>\n",
       "      <th>n_f_APCPsurface4HourForecast</th>\n",
       "      <th>n_f_10mWindSpeed4HourForecast</th>\n",
       "      <th>n_f_APCPsurface5HourForecast</th>\n",
       "      <th>n_f_10mWindSpeed5HourForecast</th>\n",
       "      <th>...</th>\n",
       "      <th>c_r_Prev7DayWindSlabLikeliness8InPast</th>\n",
       "      <th>c_r_Prev3DayFreezeThawLikeliness9InPast</th>\n",
       "      <th>c_r_Prev7DayFreezeThawLikeliness9InPast</th>\n",
       "      <th>c_r_Prev3DayWindSlabLikeliness9InPast</th>\n",
       "      <th>c_r_Prev7DayWindSlabLikeliness9InPast</th>\n",
       "      <th>c_r_Prev3DayFreezeThawLikeliness10InPast</th>\n",
       "      <th>c_r_Prev7DayFreezeThawLikeliness10InPast</th>\n",
       "      <th>c_r_Prev3DayWindSlabLikeliness10InPast</th>\n",
       "      <th>c_r_Prev7DayWindSlabLikeliness10InPast</th>\n",
       "      <th>DayOfYear</th>\n",
       "    </tr>\n",
       "  </thead>\n",
       "  <tbody>\n",
       "    <tr>\n",
       "      <th>134242</th>\n",
       "      <td>0.250</td>\n",
       "      <td>3.498339</td>\n",
       "      <td>0.250</td>\n",
       "      <td>2.991883</td>\n",
       "      <td>0.375</td>\n",
       "      <td>3.180753</td>\n",
       "      <td>0.625</td>\n",
       "      <td>2.986401</td>\n",
       "      <td>0.875</td>\n",
       "      <td>2.337439</td>\n",
       "      <td>...</td>\n",
       "      <td>0</td>\n",
       "      <td>1</td>\n",
       "      <td>1</td>\n",
       "      <td>0</td>\n",
       "      <td>0</td>\n",
       "      <td>1</td>\n",
       "      <td>1</td>\n",
       "      <td>0</td>\n",
       "      <td>0</td>\n",
       "      <td>347</td>\n",
       "    </tr>\n",
       "    <tr>\n",
       "      <th>134243</th>\n",
       "      <td>0.500</td>\n",
       "      <td>3.412153</td>\n",
       "      <td>0.750</td>\n",
       "      <td>2.453915</td>\n",
       "      <td>1.375</td>\n",
       "      <td>2.238766</td>\n",
       "      <td>2.000</td>\n",
       "      <td>1.594356</td>\n",
       "      <td>2.625</td>\n",
       "      <td>1.469435</td>\n",
       "      <td>...</td>\n",
       "      <td>0</td>\n",
       "      <td>1</td>\n",
       "      <td>1</td>\n",
       "      <td>0</td>\n",
       "      <td>0</td>\n",
       "      <td>1</td>\n",
       "      <td>1</td>\n",
       "      <td>0</td>\n",
       "      <td>0</td>\n",
       "      <td>347</td>\n",
       "    </tr>\n",
       "    <tr>\n",
       "      <th>134244</th>\n",
       "      <td>0.125</td>\n",
       "      <td>3.844089</td>\n",
       "      <td>0.125</td>\n",
       "      <td>3.638352</td>\n",
       "      <td>0.375</td>\n",
       "      <td>3.879538</td>\n",
       "      <td>0.500</td>\n",
       "      <td>3.780000</td>\n",
       "      <td>0.750</td>\n",
       "      <td>2.853918</td>\n",
       "      <td>...</td>\n",
       "      <td>0</td>\n",
       "      <td>1</td>\n",
       "      <td>1</td>\n",
       "      <td>0</td>\n",
       "      <td>0</td>\n",
       "      <td>1</td>\n",
       "      <td>1</td>\n",
       "      <td>0</td>\n",
       "      <td>0</td>\n",
       "      <td>347</td>\n",
       "    </tr>\n",
       "    <tr>\n",
       "      <th>134245</th>\n",
       "      <td>0.500</td>\n",
       "      <td>3.654338</td>\n",
       "      <td>0.750</td>\n",
       "      <td>2.830525</td>\n",
       "      <td>1.250</td>\n",
       "      <td>2.489981</td>\n",
       "      <td>1.625</td>\n",
       "      <td>1.786699</td>\n",
       "      <td>2.250</td>\n",
       "      <td>1.566147</td>\n",
       "      <td>...</td>\n",
       "      <td>0</td>\n",
       "      <td>1</td>\n",
       "      <td>1</td>\n",
       "      <td>0</td>\n",
       "      <td>0</td>\n",
       "      <td>1</td>\n",
       "      <td>1</td>\n",
       "      <td>0</td>\n",
       "      <td>0</td>\n",
       "      <td>347</td>\n",
       "    </tr>\n",
       "    <tr>\n",
       "      <th>134246</th>\n",
       "      <td>0.250</td>\n",
       "      <td>3.458072</td>\n",
       "      <td>0.375</td>\n",
       "      <td>2.713073</td>\n",
       "      <td>0.750</td>\n",
       "      <td>2.500116</td>\n",
       "      <td>1.125</td>\n",
       "      <td>1.872651</td>\n",
       "      <td>1.500</td>\n",
       "      <td>1.674750</td>\n",
       "      <td>...</td>\n",
       "      <td>0</td>\n",
       "      <td>1</td>\n",
       "      <td>1</td>\n",
       "      <td>0</td>\n",
       "      <td>0</td>\n",
       "      <td>1</td>\n",
       "      <td>1</td>\n",
       "      <td>0</td>\n",
       "      <td>0</td>\n",
       "      <td>347</td>\n",
       "    </tr>\n",
       "  </tbody>\n",
       "</table>\n",
       "<p>5 rows × 342 columns</p>\n",
       "</div>"
      ],
      "text/plain": [
       "        n_f_APCPsurface1HourForecast  n_f_10mWindSpeed1HourForecast  \\\n",
       "134242                         0.250                       3.498339   \n",
       "134243                         0.500                       3.412153   \n",
       "134244                         0.125                       3.844089   \n",
       "134245                         0.500                       3.654338   \n",
       "134246                         0.250                       3.458072   \n",
       "\n",
       "        n_f_APCPsurface2HourForecast  n_f_10mWindSpeed2HourForecast  \\\n",
       "134242                         0.250                       2.991883   \n",
       "134243                         0.750                       2.453915   \n",
       "134244                         0.125                       3.638352   \n",
       "134245                         0.750                       2.830525   \n",
       "134246                         0.375                       2.713073   \n",
       "\n",
       "        n_f_APCPsurface3HourForecast  n_f_10mWindSpeed3HourForecast  \\\n",
       "134242                         0.375                       3.180753   \n",
       "134243                         1.375                       2.238766   \n",
       "134244                         0.375                       3.879538   \n",
       "134245                         1.250                       2.489981   \n",
       "134246                         0.750                       2.500116   \n",
       "\n",
       "        n_f_APCPsurface4HourForecast  n_f_10mWindSpeed4HourForecast  \\\n",
       "134242                         0.625                       2.986401   \n",
       "134243                         2.000                       1.594356   \n",
       "134244                         0.500                       3.780000   \n",
       "134245                         1.625                       1.786699   \n",
       "134246                         1.125                       1.872651   \n",
       "\n",
       "        n_f_APCPsurface5HourForecast  n_f_10mWindSpeed5HourForecast  \\\n",
       "134242                         0.875                       2.337439   \n",
       "134243                         2.625                       1.469435   \n",
       "134244                         0.750                       2.853918   \n",
       "134245                         2.250                       1.566147   \n",
       "134246                         1.500                       1.674750   \n",
       "\n",
       "          ...      c_r_Prev7DayWindSlabLikeliness8InPast  \\\n",
       "134242    ...                                          0   \n",
       "134243    ...                                          0   \n",
       "134244    ...                                          0   \n",
       "134245    ...                                          0   \n",
       "134246    ...                                          0   \n",
       "\n",
       "        c_r_Prev3DayFreezeThawLikeliness9InPast  \\\n",
       "134242                                        1   \n",
       "134243                                        1   \n",
       "134244                                        1   \n",
       "134245                                        1   \n",
       "134246                                        1   \n",
       "\n",
       "        c_r_Prev7DayFreezeThawLikeliness9InPast  \\\n",
       "134242                                        1   \n",
       "134243                                        1   \n",
       "134244                                        1   \n",
       "134245                                        1   \n",
       "134246                                        1   \n",
       "\n",
       "        c_r_Prev3DayWindSlabLikeliness9InPast  \\\n",
       "134242                                      0   \n",
       "134243                                      0   \n",
       "134244                                      0   \n",
       "134245                                      0   \n",
       "134246                                      0   \n",
       "\n",
       "        c_r_Prev7DayWindSlabLikeliness9InPast  \\\n",
       "134242                                      0   \n",
       "134243                                      0   \n",
       "134244                                      0   \n",
       "134245                                      0   \n",
       "134246                                      0   \n",
       "\n",
       "        c_r_Prev3DayFreezeThawLikeliness10InPast  \\\n",
       "134242                                         1   \n",
       "134243                                         1   \n",
       "134244                                         1   \n",
       "134245                                         1   \n",
       "134246                                         1   \n",
       "\n",
       "        c_r_Prev7DayFreezeThawLikeliness10InPast  \\\n",
       "134242                                         1   \n",
       "134243                                         1   \n",
       "134244                                         1   \n",
       "134245                                         1   \n",
       "134246                                         1   \n",
       "\n",
       "        c_r_Prev3DayWindSlabLikeliness10InPast  \\\n",
       "134242                                       0   \n",
       "134243                                       0   \n",
       "134244                                       0   \n",
       "134245                                       0   \n",
       "134246                                       0   \n",
       "\n",
       "        c_r_Prev7DayWindSlabLikeliness10InPast  DayOfYear  \n",
       "134242                                       0        347  \n",
       "134243                                       0        347  \n",
       "134244                                       0        347  \n",
       "134245                                       0        347  \n",
       "134246                                       0        347  \n",
       "\n",
       "[5 rows x 342 columns]"
      ]
     },
     "execution_count": 10,
     "metadata": {},
     "output_type": "execute_result"
    }
   ],
   "source": [
    "X_Above_train.tail()"
   ]
  },
  {
   "cell_type": "code",
   "execution_count": 11,
   "metadata": {},
   "outputs": [
    {
     "data": {
      "text/plain": [
       "Moderate        36016\n",
       "Considerable    27156\n",
       "Low             23843\n",
       "High             6084\n",
       "Name: o_Day1DangerAboveTreeline, dtype: int64"
      ]
     },
     "execution_count": 11,
     "metadata": {},
     "output_type": "execute_result"
    }
   ],
   "source": [
    "y_Above_train['o_Day1DangerAboveTreeline'].value_counts()"
   ]
  },
  {
   "cell_type": "code",
   "execution_count": 18,
   "metadata": {},
   "outputs": [
    {
     "data": {
      "text/plain": [
       "XGBClassifier(base_score=0.5, booster='gbtree', colsample_bylevel=1,\n",
       "       colsample_bytree=0.9, gamma=1, learning_rate=0.1, max_delta_step=0,\n",
       "       max_depth=7, min_child_weight=5, missing=None, n_estimators=250,\n",
       "       n_jobs=10, nthread=None, objective='multi:softmax', random_state=0,\n",
       "       reg_alpha=1, reg_lambda=1, scale_pos_weight=1, seed=None,\n",
       "       silent=True, subsample=0.9)"
      ]
     },
     "execution_count": 18,
     "metadata": {},
     "output_type": "execute_result"
    }
   ],
   "source": [
    "\n",
    "#parameters derived from a several step parameter search\n",
    "grid = {'min_child_weight': 5, 'n_estimators': 250, 'colsample_bytree': 0.9, 'reg_alpha': 1, 'gamma': 1, 'learning_rate': 0.1, 'subsample': 0.9, 'objective': 'multi:softmax', 'max_depth': 7}\n",
    "#modelAbove = XGBClassifier(tree_method='gpu_hist', n_jobs=10)\n",
    "modelAbove = XGBClassifier(n_jobs=10)\n",
    "modelAbove.set_params(**grid)\n"
   ]
  },
  {
   "cell_type": "code",
   "execution_count": null,
   "metadata": {},
   "outputs": [],
   "source": [
    "modelNear = XGBClassifier(n_jobs=10)\n",
    "modelNear.set_params(**grid)\n",
    "\n",
    "modelBelow = XGBClassifier(n_jobs=10)\n",
    "modelBelow.set_params(**grid)"
   ]
  },
  {
   "cell_type": "code",
   "execution_count": 19,
   "metadata": {},
   "outputs": [
    {
     "name": "stdout",
     "output_type": "stream",
     "text": [
      "Wall time: 6min 8s\n"
     ]
    }
   ],
   "source": [
    "%%time\n",
    "val = modelAbove.fit(X_Above_train, y_Above_train[yColumns].values.ravel())\n"
   ]
  },
  {
   "cell_type": "code",
   "execution_count": 6,
   "metadata": {},
   "outputs": [
    {
     "ename": "ValueError",
     "evalue": "Invalid parameter tree_method for estimator XGBClassifier(base_score=0.5, booster='gbtree', colsample_bylevel=1,\n       colsample_bytree=0.9, gamma=1, learning_rate=0.1, max_delta_step=0,\n       max_depth=7, min_child_weight=5, missing=None, n_estimators=250,\n       n_jobs=10, nthread=None, objective='multi:softmax', random_state=0,\n       reg_alpha=1, reg_lambda=1, scale_pos_weight=1, seed=None,\n       silent=True, subsample=0.9). Check the list of available parameters with `estimator.get_params().keys()`.",
     "output_type": "error",
     "traceback": [
      "\u001b[1;31m---------------------------------------------------------------------------\u001b[0m",
      "\u001b[1;31mValueError\u001b[0m                                Traceback (most recent call last)",
      "\u001b[1;32m<ipython-input-6-c696b45cfc5c>\u001b[0m in \u001b[0;36m<module>\u001b[1;34m()\u001b[0m\n\u001b[0;32m      2\u001b[0m \u001b[1;33m\u001b[0m\u001b[0m\n\u001b[0;32m      3\u001b[0m \u001b[0mmodelAboveGPU\u001b[0m \u001b[1;33m=\u001b[0m \u001b[0mXGBClassifier\u001b[0m\u001b[1;33m(\u001b[0m\u001b[0mn_jobs\u001b[0m\u001b[1;33m=\u001b[0m\u001b[1;36m10\u001b[0m\u001b[1;33m)\u001b[0m\u001b[1;33m\u001b[0m\u001b[0m\n\u001b[1;32m----> 4\u001b[1;33m \u001b[0mmodelAboveGPU\u001b[0m\u001b[1;33m.\u001b[0m\u001b[0mset_params\u001b[0m\u001b[1;33m(\u001b[0m\u001b[1;33m**\u001b[0m\u001b[0mgrid\u001b[0m\u001b[1;33m)\u001b[0m\u001b[1;33m\u001b[0m\u001b[0m\n\u001b[0m",
      "\u001b[1;32m~\\Anaconda3\\envs\\python35gpu\\lib\\site-packages\\sklearn\\base.py\u001b[0m in \u001b[0;36mset_params\u001b[1;34m(self, **params)\u001b[0m\n\u001b[0;32m    272\u001b[0m                                  \u001b[1;34m'Check the list of available parameters '\u001b[0m\u001b[1;33m\u001b[0m\u001b[0m\n\u001b[0;32m    273\u001b[0m                                  \u001b[1;34m'with `estimator.get_params().keys()`.'\u001b[0m \u001b[1;33m%\u001b[0m\u001b[1;33m\u001b[0m\u001b[0m\n\u001b[1;32m--> 274\u001b[1;33m                                  (key, self))\n\u001b[0m\u001b[0;32m    275\u001b[0m \u001b[1;33m\u001b[0m\u001b[0m\n\u001b[0;32m    276\u001b[0m             \u001b[1;32mif\u001b[0m \u001b[0mdelim\u001b[0m\u001b[1;33m:\u001b[0m\u001b[1;33m\u001b[0m\u001b[0m\n",
      "\u001b[1;31mValueError\u001b[0m: Invalid parameter tree_method for estimator XGBClassifier(base_score=0.5, booster='gbtree', colsample_bylevel=1,\n       colsample_bytree=0.9, gamma=1, learning_rate=0.1, max_delta_step=0,\n       max_depth=7, min_child_weight=5, missing=None, n_estimators=250,\n       n_jobs=10, nthread=None, objective='multi:softmax', random_state=0,\n       reg_alpha=1, reg_lambda=1, scale_pos_weight=1, seed=None,\n       silent=True, subsample=0.9). Check the list of available parameters with `estimator.get_params().keys()`."
     ]
    }
   ],
   "source": [
    "#grid = {'min_child_weight': 5, 'n_estimators': 250, 'colsample_bytree': 0.9, 'reg_alpha': 1, 'gamma': 1, 'learning_rate': 0.1, 'subsample': 0.9, 'objective': 'multi:softmax', 'max_depth': 7, 'tree_method':'gpu_hist'}\n",
    "\n",
    "#modelAboveGPU = XGBClassifier(n_jobs=10)\n",
    "#modelAboveGPU.set_params(**grid)"
   ]
  },
  {
   "cell_type": "code",
   "execution_count": null,
   "metadata": {},
   "outputs": [],
   "source": [
    "mapping = {'Low': 0, 'Moderate': 1, 'Considerable': 2, 'High': 3, 'Extreme': 4}\n",
    "df = y_Above_train.replace({'o_Day1DangerAboveTreeline': mapping})"
   ]
  },
  {
   "cell_type": "code",
   "execution_count": null,
   "metadata": {},
   "outputs": [],
   "source": [
    "df['o_Day1DangerAboveTreeline'].values[:10]"
   ]
  },
  {
   "cell_type": "code",
   "execution_count": 14,
   "metadata": {},
   "outputs": [
    {
     "ename": "ValueError",
     "evalue": "could not convert string to float: 'Considerable'",
     "output_type": "error",
     "traceback": [
      "\u001b[1;31m---------------------------------------------------------------------------\u001b[0m",
      "\u001b[1;31mValueError\u001b[0m                                Traceback (most recent call last)",
      "\u001b[1;32m<ipython-input-14-376d5b75e09e>\u001b[0m in \u001b[0;36m<module>\u001b[1;34m()\u001b[0m\n\u001b[0;32m      4\u001b[0m \u001b[0mnum_round\u001b[0m \u001b[1;33m=\u001b[0m \u001b[1;36m100\u001b[0m\u001b[1;33m\u001b[0m\u001b[0m\n\u001b[0;32m      5\u001b[0m \u001b[1;33m\u001b[0m\u001b[0m\n\u001b[1;32m----> 6\u001b[1;33m \u001b[0mdtrain\u001b[0m \u001b[1;33m=\u001b[0m \u001b[0mxgb\u001b[0m\u001b[1;33m.\u001b[0m\u001b[0mDMatrix\u001b[0m\u001b[1;33m(\u001b[0m\u001b[0mX_Above_train\u001b[0m\u001b[1;33m,\u001b[0m \u001b[0mdf\u001b[0m\u001b[1;33m[\u001b[0m\u001b[1;34m'o_Day1DangerAboveTreeline'\u001b[0m\u001b[1;33m]\u001b[0m\u001b[1;33m.\u001b[0m\u001b[0mvalues\u001b[0m\u001b[1;33m)\u001b[0m\u001b[1;33m\u001b[0m\u001b[0m\n\u001b[0m",
      "\u001b[1;32m~\\Anaconda3\\envs\\python35\\lib\\site-packages\\xgboost-0.71-py3.5.egg\\xgboost\\core.py\u001b[0m in \u001b[0;36m__init__\u001b[1;34m(self, data, label, missing, weight, silent, feature_names, feature_types, nthread)\u001b[0m\n\u001b[0;32m    285\u001b[0m         \u001b[1;32mif\u001b[0m \u001b[0mlabel\u001b[0m \u001b[1;32mis\u001b[0m \u001b[1;32mnot\u001b[0m \u001b[1;32mNone\u001b[0m\u001b[1;33m:\u001b[0m\u001b[1;33m\u001b[0m\u001b[0m\n\u001b[0;32m    286\u001b[0m             \u001b[1;32mif\u001b[0m \u001b[0misinstance\u001b[0m\u001b[1;33m(\u001b[0m\u001b[0mdata\u001b[0m\u001b[1;33m,\u001b[0m \u001b[0mnp\u001b[0m\u001b[1;33m.\u001b[0m\u001b[0mndarray\u001b[0m\u001b[1;33m)\u001b[0m\u001b[1;33m:\u001b[0m\u001b[1;33m\u001b[0m\u001b[0m\n\u001b[1;32m--> 287\u001b[1;33m                 \u001b[0mself\u001b[0m\u001b[1;33m.\u001b[0m\u001b[0mset_label_npy2d\u001b[0m\u001b[1;33m(\u001b[0m\u001b[0mlabel\u001b[0m\u001b[1;33m)\u001b[0m\u001b[1;33m\u001b[0m\u001b[0m\n\u001b[0m\u001b[0;32m    288\u001b[0m             \u001b[1;32melse\u001b[0m\u001b[1;33m:\u001b[0m\u001b[1;33m\u001b[0m\u001b[0m\n\u001b[0;32m    289\u001b[0m                 \u001b[0mself\u001b[0m\u001b[1;33m.\u001b[0m\u001b[0mset_label\u001b[0m\u001b[1;33m(\u001b[0m\u001b[0mlabel\u001b[0m\u001b[1;33m)\u001b[0m\u001b[1;33m\u001b[0m\u001b[0m\n",
      "\u001b[1;32m~\\Anaconda3\\envs\\python35\\lib\\site-packages\\xgboost-0.71-py3.5.egg\\xgboost\\core.py\u001b[0m in \u001b[0;36mset_label_npy2d\u001b[1;34m(self, label)\u001b[0m\n\u001b[0;32m    495\u001b[0m             \u001b[1;32mfrom\u001b[0m \u001b[0mnumpy\u001b[0m \u001b[1;36m2\u001b[0m\u001b[0mD\u001b[0m \u001b[0marray\u001b[0m\u001b[1;33m\u001b[0m\u001b[0m\n\u001b[0;32m    496\u001b[0m         \"\"\"\n\u001b[1;32m--> 497\u001b[1;33m         \u001b[0mself\u001b[0m\u001b[1;33m.\u001b[0m\u001b[0mset_float_info_npy2d\u001b[0m\u001b[1;33m(\u001b[0m\u001b[1;34m'label'\u001b[0m\u001b[1;33m,\u001b[0m \u001b[0mlabel\u001b[0m\u001b[1;33m)\u001b[0m\u001b[1;33m\u001b[0m\u001b[0m\n\u001b[0m\u001b[0;32m    498\u001b[0m \u001b[1;33m\u001b[0m\u001b[0m\n\u001b[0;32m    499\u001b[0m     \u001b[1;32mdef\u001b[0m \u001b[0mset_weight\u001b[0m\u001b[1;33m(\u001b[0m\u001b[0mself\u001b[0m\u001b[1;33m,\u001b[0m \u001b[0mweight\u001b[0m\u001b[1;33m)\u001b[0m\u001b[1;33m:\u001b[0m\u001b[1;33m\u001b[0m\u001b[0m\n",
      "\u001b[1;32m~\\Anaconda3\\envs\\python35\\lib\\site-packages\\xgboost-0.71-py3.5.egg\\xgboost\\core.py\u001b[0m in \u001b[0;36mset_float_info_npy2d\u001b[1;34m(self, field, data)\u001b[0m\n\u001b[0;32m    439\u001b[0m             \u001b[0mThe\u001b[0m \u001b[0marray\u001b[0m \u001b[0mof\u001b[0m \u001b[0mdata\u001b[0m \u001b[0mto\u001b[0m \u001b[0mbe\u001b[0m \u001b[0mset\u001b[0m\u001b[1;33m\u001b[0m\u001b[0m\n\u001b[0;32m    440\u001b[0m         \"\"\"\n\u001b[1;32m--> 441\u001b[1;33m         \u001b[0mdata\u001b[0m \u001b[1;33m=\u001b[0m \u001b[0mnp\u001b[0m\u001b[1;33m.\u001b[0m\u001b[0marray\u001b[0m\u001b[1;33m(\u001b[0m\u001b[0mdata\u001b[0m\u001b[1;33m,\u001b[0m \u001b[0mcopy\u001b[0m\u001b[1;33m=\u001b[0m\u001b[1;32mFalse\u001b[0m\u001b[1;33m,\u001b[0m \u001b[0mdtype\u001b[0m\u001b[1;33m=\u001b[0m\u001b[0mnp\u001b[0m\u001b[1;33m.\u001b[0m\u001b[0mfloat32\u001b[0m\u001b[1;33m)\u001b[0m\u001b[1;33m\u001b[0m\u001b[0m\n\u001b[0m\u001b[0;32m    442\u001b[0m         \u001b[0mc_data\u001b[0m \u001b[1;33m=\u001b[0m \u001b[0mdata\u001b[0m\u001b[1;33m.\u001b[0m\u001b[0mctypes\u001b[0m\u001b[1;33m.\u001b[0m\u001b[0mdata_as\u001b[0m\u001b[1;33m(\u001b[0m\u001b[0mctypes\u001b[0m\u001b[1;33m.\u001b[0m\u001b[0mPOINTER\u001b[0m\u001b[1;33m(\u001b[0m\u001b[0mctypes\u001b[0m\u001b[1;33m.\u001b[0m\u001b[0mc_float\u001b[0m\u001b[1;33m)\u001b[0m\u001b[1;33m)\u001b[0m\u001b[1;33m\u001b[0m\u001b[0m\n\u001b[0;32m    443\u001b[0m         _check_call(_LIB.XGDMatrixSetFloatInfo(self.handle,\n",
      "\u001b[1;31mValueError\u001b[0m: could not convert string to float: 'Considerable'"
     ]
    }
   ],
   "source": [
    "\n",
    "import xgboost as xgb\n",
    "param = {'min_child_weight': 5, 'n_estimators': 250, 'colsample_bytree': 0.9, 'reg_alpha': 1, 'gamma': 1, 'learning_rate': 0.1, 'subsample': 0.9, 'objective': 'multi:softmax', 'max_depth': 7, 'tree_method':'gpu_hist', 'num_class' : 5}\n",
    "num_round = 100\n",
    "\n",
    "dtrain = xgb.DMatrix(X_Above_train, df['o_Day1DangerAboveTreeline'].values)\n"
   ]
  },
  {
   "cell_type": "code",
   "execution_count": null,
   "metadata": {},
   "outputs": [],
   "source": [
    "%%time\n",
    "model = xgb.train(param, dtrain, num_round)"
   ]
  },
  {
   "cell_type": "code",
   "execution_count": null,
   "metadata": {},
   "outputs": [],
   "source": [
    "paramcpu = {'min_child_weight': 5, 'n_estimators': 250, 'colsample_bytree': 0.9, 'reg_alpha': 1, 'gamma': 1, 'learning_rate': 0.1, 'subsample': 0.9, 'objective': 'multi:softmax', 'max_depth': 7, 'n_jobs': 10, 'num_class' : 5}\n",
    "num_round = 100\n",
    "\n",
    "dtraincpu = xgb.DMatrix(X_Above_train, df['o_Day1DangerAboveTreeline'].values)"
   ]
  },
  {
   "cell_type": "code",
   "execution_count": null,
   "metadata": {},
   "outputs": [],
   "source": [
    "%%time\n",
    "modelcpu = xgb.train(paramcpu, dtraincpu, num_round)"
   ]
  },
  {
   "cell_type": "code",
   "execution_count": null,
   "metadata": {},
   "outputs": [],
   "source": [
    "modelAboveGPU.get_params().keys()"
   ]
  },
  {
   "cell_type": "code",
   "execution_count": null,
   "metadata": {},
   "outputs": [],
   "source": [
    "%%time\n",
    "val = modelAboveGPU.fit(X_Above_train, y_Above_train[yColumns].values.ravel())"
   ]
  },
  {
   "cell_type": "code",
   "execution_count": null,
   "metadata": {},
   "outputs": [],
   "source": [
    "valnear = modelNear.fit(X_Near_train, y_Near_train[yNearColumn].values.ravel())\n",
    "valbelow = modelBelow.fit(X_Below_train, y_Below_train[yBelowColumn].values.ravel())"
   ]
  },
  {
   "cell_type": "code",
   "execution_count": 20,
   "metadata": {},
   "outputs": [
    {
     "name": "stderr",
     "output_type": "stream",
     "text": [
      "C:\\Users\\scott\\Anaconda3\\envs\\python35\\lib\\site-packages\\sklearn\\preprocessing\\label.py:151: DeprecationWarning: The truth value of an empty array is ambiguous. Returning False, but in future this will result in an error. Use `array.size > 0` to check that an array is not empty.\n",
      "  if diff:\n"
     ]
    }
   ],
   "source": [
    "resultAbove = modelAbove.predict(X_Above_test)\n",
    "#resultNear = modelNear.predict(X_Near_test)\n",
    "#resultBelow = modelBelow.predict(X_Below_test)"
   ]
  },
  {
   "cell_type": "code",
   "execution_count": 21,
   "metadata": {},
   "outputs": [],
   "source": [
    "def evaluateSingleClass(y_test, result):\n",
    "    cm = confusion_matrix(y_test, result)\n",
    "    print(cm)\n",
    "    accuracy = accuracy_score(y_test.values, result)\n",
    "    print(\"Accuracy: \" + str(accuracy))\n",
    "    print(\"Classification Report\")\n",
    "    print(classification_report(y_test.values, result))\n",
    "\n",
    "def evaluateSingleClassShort(y_test, result):\n",
    "    accuracy = accuracy_score(y_test.values, result)\n",
    "    print(\"Accuracy: \" + str(accuracy))\n",
    "    print(\"Classification Report\")\n",
    "    print(classification_report(y_test.values, result))\n",
    "\n",
    "#nice confustion matrix plot taken from scikit-learn docs\n",
    "import itertools\n",
    "import matplotlib.pyplot as plt\n",
    "def plot_confusion_matrix(cm, classes,\n",
    "                          normalize=False,\n",
    "                          title='Confusion matrix',\n",
    "                          cmap=plt.cm.Blues):\n",
    "    \"\"\"\n",
    "    This function prints and plots the confusion matrix.\n",
    "    Normalization can be applied by setting `normalize=True`.\n",
    "    \"\"\"\n",
    "    if normalize:\n",
    "        cm = cm.astype('float') / cm.sum(axis=1)[:, np.newaxis]\n",
    "        print(\"Normalized confusion matrix\")\n",
    "    else:\n",
    "        print('Confusion matrix, without normalization')\n",
    "\n",
    "    #print(cm)\n",
    "\n",
    "    plt.imshow(cm, interpolation='nearest', cmap=cmap)\n",
    "    plt.title(title)\n",
    "    plt.colorbar()\n",
    "    tick_marks = np.arange(len(classes))\n",
    "    plt.xticks(tick_marks, classes, rotation=45)\n",
    "    plt.yticks(tick_marks, classes)\n",
    "\n",
    "    fmt = '.2f' if normalize else 'd'\n",
    "    thresh = cm.max() / 2.\n",
    "    for i, j in itertools.product(range(cm.shape[0]), range(cm.shape[1])):\n",
    "        plt.text(j, i, format(cm[i, j], fmt),\n",
    "                 horizontalalignment=\"center\",\n",
    "                 color=\"white\" if cm[i, j] > thresh else \"black\")\n",
    "\n",
    "    plt.tight_layout()\n",
    "    plt.ylabel('True label')\n",
    "    plt.xlabel('Predicted label')"
   ]
  },
  {
   "cell_type": "code",
   "execution_count": 22,
   "metadata": {},
   "outputs": [
    {
     "name": "stdout",
     "output_type": "stream",
     "text": [
      "Accuracy: 0.5636343422552045\n",
      "Classification Report\n",
      "              precision    recall  f1-score   support\n",
      "\n",
      "Considerable       0.46      0.59      0.52     12692\n",
      "        High       0.35      0.08      0.13      4056\n",
      "         Low       0.92      0.73      0.81      6383\n",
      "    Moderate       0.57      0.61      0.59     12848\n",
      "\n",
      " avg / total       0.57      0.56      0.55     35979\n",
      "\n",
      "Normalized confusion matrix\n",
      "Confusion matrix, without normalization\n"
     ]
    },
    {
     "data": {
      "image/png": "[encoded data removed]",
      "text/plain": [
       "<Figure size 432x288 with 2 Axes>"
      ]
     },
     "metadata": {},
     "output_type": "display_data"
    },
    {
     "data": {
      "image/png": "[encoded data removed]",
      "text/plain": [
       "<Figure size 432x288 with 2 Axes>"
      ]
     },
     "metadata": {},
     "output_type": "display_data"
    }
   ],
   "source": [
    "evaluateSingleClassShort(y_Above_test['o_Day1DangerAboveTreeline'], resultAbove)\n",
    "cnf_matrix = confusion_matrix(y_Above_test['o_Day1DangerAboveTreeline'], resultAbove)\n",
    "plt.figure()\n",
    "plot_confusion_matrix(cnf_matrix, classes=['Considerable', 'High', 'Low', 'Moderate'], normalize=True,\n",
    "                      title='Normalized confusion matrix')\n",
    "plt.figure()\n",
    "plot_confusion_matrix(cnf_matrix, classes=['Considerable', 'High', 'Low', 'Moderate'],\n",
    "                      title='Confusion matrix, without normalization')\n",
    "plt.show()"
   ]
  },
  {
   "cell_type": "code",
   "execution_count": null,
   "metadata": {},
   "outputs": [],
   "source": [
    "evaluateSingleClassShort(y_Near_test['o_Day1DangerNearTreeline'], resultNear)\n",
    "\n",
    "cnf_matrix = confusion_matrix(y_Near_test['o_Day1DangerNearTreeline'], resultNear)\n",
    "plt.figure()\n",
    "plot_confusion_matrix(cnf_matrix, classes=['Considerable', 'High', 'Low', 'Moderate'], normalize=True,\n",
    "                      title='Normalized confusion matrix')\n",
    "plt.figure()\n",
    "plot_confusion_matrix(cnf_matrix, classes=['Considerable', 'High', 'Low', 'Moderate'],\n",
    "                      title='Confusion matrix, without normalization')\n",
    "plt.show()"
   ]
  },
  {
   "cell_type": "code",
   "execution_count": null,
   "metadata": {},
   "outputs": [],
   "source": [
    "evaluateSingleClassShort(y_Below_test['o_Day1DangerBelowTreeline'], resultBelow)\n",
    "cnf_matrix = confusion_matrix(y_Below_test['o_Day1DangerBelowTreeline'], resultBelow)\n",
    "plt.figure()\n",
    "plot_confusion_matrix(cnf_matrix, classes=['Considerable', 'High', 'Low', 'Moderate'], normalize=True,\n",
    "                      title='Normalized confusion matrix')\n",
    "plt.figure()\n",
    "plot_confusion_matrix(cnf_matrix, classes=['Considerable', 'High', 'Low', 'Moderate'],\n",
    "                      title='Confusion matrix, without normalization')\n",
    "plt.show()"
   ]
  },
  {
   "cell_type": "code",
   "execution_count": null,
   "metadata": {},
   "outputs": [],
   "source": [
    "#check out the feature importances\n",
    "featureImportance = dict(zip(X_Above_train.columns, modelAbove.feature_importances_))\n",
    "sortedFeatureImportance = sorted(featureImportance, key=featureImportance.get, reverse=True)"
   ]
  },
  {
   "cell_type": "code",
   "execution_count": null,
   "metadata": {},
   "outputs": [],
   "source": [
    "sortedFeatureImportance[:100]"
   ]
  },
  {
   "cell_type": "code",
   "execution_count": null,
   "metadata": {},
   "outputs": [],
   "source": [
    "#save the models\n",
    "modelAbove._Booster.save_model(\"ModelAboveV1.bin\")\n",
    "modelNear._Booster.save_model(\"ModelNearV1.bin\")\n",
    "modelBelow._Booster.save_model(\"ModelBelowV1.bin\")"
   ]
  },
  {
   "cell_type": "code",
   "execution_count": null,
   "metadata": {},
   "outputs": [],
   "source": [
    "%%time #3 mins\n",
    "# grid search\n",
    "model = XGBClassifier(tree_method='gpu_hist')\n",
    "learning_rate = [0.01]\n",
    "n_estimators = [100, 200]\n",
    "#max_depth = range(3,10,2)\n",
    "#min_child_weight = range(1,6,2)\n",
    "#gamma = [i/10.0 for i in range(0,5)]\n",
    "param_grid = dict(learning_rate=learning_rate, n_estimators=n_estimators, objective=[\"gpu:multi:softmax\"])\n",
    "kfold = StratifiedKFold(n_splits=10, shuffle=True, random_state=7)\n",
    "grid_search = GridSearchCV(model, param_grid, scoring=\"neg_log_loss\", n_jobs=8, cv=kfold)\n",
    "#(X_Near_train, y_Near_train[yNearColumn].values.ravel()\n",
    "grid_result = grid_search.fit(X_Above_train.values, y_Above_train[yColumns].values.ravel())\n",
    "# summarize results\n",
    "print(\"Best: %f using %s\" % (grid_result.best_score_, grid_result.best_params_))\n",
    "means = grid_result.cv_results_['mean_test_score']\n",
    "stds = grid_result.cv_results_['std_test_score']\n",
    "params = grid_result.cv_results_['params']\n",
    "for mean, stdev, param in zip(means, stds, params):\n",
    "    print(\"%f (%f) with: %r\" % (mean, stdev, param))"
   ]
  },
  {
   "cell_type": "code",
   "execution_count": null,
   "metadata": {},
   "outputs": [],
   "source": [
    "%%time #1 hour 30 mins\n",
    "# grid search\n",
    "model = XGBClassifier()\n",
    "learning_rate = [0.01]\n",
    "n_estimators = [100, 200]\n",
    "#max_depth = range(3,10,2)\n",
    "#min_child_weight = range(1,6,2)\n",
    "#gamma = [i/10.0 for i in range(0,5)]\n",
    "param_grid = dict(learning_rate=learning_rate, n_estimators=n_estimators, objective=[\"multi:softmax\"])\n",
    "kfold = StratifiedKFold(n_splits=10, shuffle=True, random_state=7)\n",
    "grid_search = GridSearchCV(model, param_grid, scoring=\"neg_log_loss\", n_jobs=8, cv=kfold)\n",
    "#(X_Near_train, y_Near_train[yNearColumn].values.ravel()\n",
    "grid_result = grid_search.fit(X_Above_train.values, y_Above_train[yColumns].values.ravel())\n",
    "# summarize results\n",
    "print(\"Best: %f using %s\" % (grid_result.best_score_, grid_result.best_params_))\n",
    "means = grid_result.cv_results_['mean_test_score']\n",
    "stds = grid_result.cv_results_['std_test_score']\n",
    "params = grid_result.cv_results_['params']\n",
    "for mean, stdev, param in zip(means, stds, params):\n",
    "    print(\"%f (%f) with: %r\" % (mean, stdev, param))"
   ]
  },
  {
   "cell_type": "code",
   "execution_count": null,
   "metadata": {},
   "outputs": [
    {
     "name": "stdout",
     "output_type": "stream",
     "text": [
      "Fitting 10 folds for each of 4 candidates, totalling 40 fits\n",
      "[CV] objective=gpu:multi:softmax, learning_rate=0.01, n_estimators=400 \n",
      "[CV]  objective=gpu:multi:softmax, learning_rate=0.01, n_estimators=400, score=-0.7615631388412664, total=  33.3s\n",
      "[CV] objective=gpu:multi:softmax, learning_rate=0.01, n_estimators=400 \n"
     ]
    },
    {
     "name": "stderr",
     "output_type": "stream",
     "text": [
      "[Parallel(n_jobs=1)]: Done   1 out of   1 | elapsed:   36.9s remaining:    0.0s\n"
     ]
    }
   ],
   "source": [
    "%%time\n",
    "# grid search\n",
    "model = XGBClassifier(tree_method='gpu_hist')\n",
    "learning_rate = [0.01, .1]\n",
    "n_estimators = [400, 700]\n",
    "#max_depth = range(3,10,2)\n",
    "#min_child_weight = range(1,6,2)\n",
    "#gamma = [i/10.0 for i in range(0,5)]\n",
    "param_grid = dict(learning_rate=learning_rate, n_estimators=n_estimators, objective=[\"gpu:multi:softmax\"])\n",
    "kfold = StratifiedKFold(n_splits=10, shuffle=True, random_state=7)\n",
    "grid_search = GridSearchCV(model, param_grid, scoring=\"neg_log_loss\", cv=kfold, verbose=20)\n",
    "#(X_Near_train, y_Near_train[yNearColumn].values.ravel()\n",
    "grid_result = grid_search.fit(X_Above_train.values, y_Above_train[yColumns].values.ravel())\n",
    "# summarize results\n",
    "print(\"Best: %f using %s\" % (grid_result.best_score_, grid_result.best_params_))\n",
    "means = grid_result.cv_results_['mean_test_score']\n",
    "stds = grid_result.cv_results_['std_test_score']\n",
    "params = grid_result.cv_results_['params']\n",
    "for mean, stdev, param in zip(means, stds, params):\n",
    "    print(\"%f (%f) with: %r\" % (mean, stdev, param))"
   ]
  },
  {
   "cell_type": "code",
   "execution_count": null,
   "metadata": {},
   "outputs": [],
   "source": []
  }
 ],
 "metadata": {
  "kernelspec": {
   "display_name": "Python 3",
   "language": "python",
   "name": "python3"
  },
  "language_info": {
   "codemirror_mode": {
    "name": "ipython",
    "version": 3
   },
   "file_extension": ".py",
   "mimetype": "text/x-python",
   "name": "python",
   "nbconvert_exporter": "python",
   "pygments_lexer": "ipython3",
   "version": "3.5.3"
  }
 },
 "nbformat": 4,
 "nbformat_minor": 2
}
