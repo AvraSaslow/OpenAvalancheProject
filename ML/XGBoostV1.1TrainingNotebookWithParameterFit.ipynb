{
 "cells": [
  {
   "cell_type": "code",
   "execution_count": 1,
   "metadata": {},
   "outputs": [],
   "source": [
    "import numpy as np\n",
    "import pandas as pd\n",
    "import re\n",
    "from sklearn.model_selection import train_test_split\n",
    "from sklearn.ensemble import RandomForestClassifier, GradientBoostingClassifier, AdaBoostClassifier, VotingClassifier\n",
    "from sklearn.preprocessing import Normalizer\n",
    "from sklearn.metrics import confusion_matrix, accuracy_score, classification_report\n",
    "from sklearn.model_selection import GridSearchCV\n",
    "from sklearn.model_selection import StratifiedKFold, cross_val_score\n",
    "from xgboost import XGBClassifier\n",
    "import datetime\n",
    "import matplotlib\n",
    "from matplotlib import pyplot"
   ]
  },
  {
   "cell_type": "code",
   "execution_count": 2,
   "metadata": {},
   "outputs": [],
   "source": [
    "import DataPrep\n",
    "import error_evaluation"
   ]
  },
  {
   "cell_type": "code",
   "execution_count": 3,
   "metadata": {},
   "outputs": [],
   "source": [
    "X_Above_test, X_Above_train, y_Above_test, y_Above_train, X_Near_test, X_Near_train, y_Near_test, y_Near_train, X_Below_test, X_Below_train, y_Below_test, y_Below_train = DataPrep.prep_day1_danger_train_test('../Data/V1.1FeaturesWithLabels20131201To20180430.csv', ignore_extreme=True)"
   ]
  },
  {
   "cell_type": "code",
   "execution_count": 4,
   "metadata": {},
   "outputs": [
    {
     "data": {
      "text/html": [
       "<div>\n",
       "<style scoped>\n",
       "    .dataframe tbody tr th:only-of-type {\n",
       "        vertical-align: middle;\n",
       "    }\n",
       "\n",
       "    .dataframe tbody tr th {\n",
       "        vertical-align: top;\n",
       "    }\n",
       "\n",
       "    .dataframe thead th {\n",
       "        text-align: right;\n",
       "    }\n",
       "</style>\n",
       "<table border=\"1\" class=\"dataframe\">\n",
       "  <thead>\n",
       "    <tr style=\"text-align: right;\">\n",
       "      <th></th>\n",
       "      <th>n_f_APCPsurface1HourForecast</th>\n",
       "      <th>n_f_10mWindSpeed1HourForecast</th>\n",
       "      <th>n_f_APCPsurface2HourForecast</th>\n",
       "      <th>n_f_10mWindSpeed2HourForecast</th>\n",
       "      <th>n_f_APCPsurface3HourForecast</th>\n",
       "      <th>n_f_10mWindSpeed3HourForecast</th>\n",
       "      <th>n_f_APCPsurface4HourForecast</th>\n",
       "      <th>n_f_10mWindSpeed4HourForecast</th>\n",
       "      <th>n_f_APCPsurface5HourForecast</th>\n",
       "      <th>n_f_10mWindSpeed5HourForecast</th>\n",
       "      <th>...</th>\n",
       "      <th>c_r_Prev7DayFreezeThawLikeliness9InPast</th>\n",
       "      <th>c_r_Prev3DayWindSlabLikeliness9InPast</th>\n",
       "      <th>c_r_Prev7DayWindSlabLikeliness9InPast</th>\n",
       "      <th>c_r_Prev3DayFreezeThawLikeliness10InPast</th>\n",
       "      <th>c_r_Prev7DayFreezeThawLikeliness10InPast</th>\n",
       "      <th>c_r_Prev3DayWindSlabLikeliness10InPast</th>\n",
       "      <th>c_r_Prev7DayWindSlabLikeliness10InPast</th>\n",
       "      <th>c_IsCoastalSnowpack</th>\n",
       "      <th>c_IsContenentalSnowpack</th>\n",
       "      <th>DayOfYear</th>\n",
       "    </tr>\n",
       "  </thead>\n",
       "  <tbody>\n",
       "    <tr>\n",
       "      <th>169317</th>\n",
       "      <td>0.250</td>\n",
       "      <td>3.498339</td>\n",
       "      <td>0.250</td>\n",
       "      <td>2.991883</td>\n",
       "      <td>0.375</td>\n",
       "      <td>3.180753</td>\n",
       "      <td>0.625</td>\n",
       "      <td>2.986401</td>\n",
       "      <td>0.875</td>\n",
       "      <td>2.337439</td>\n",
       "      <td>...</td>\n",
       "      <td>1.0</td>\n",
       "      <td>0.0</td>\n",
       "      <td>0.0</td>\n",
       "      <td>1.0</td>\n",
       "      <td>1.0</td>\n",
       "      <td>0.0</td>\n",
       "      <td>0.0</td>\n",
       "      <td>1.0</td>\n",
       "      <td>0.0</td>\n",
       "      <td>347.0</td>\n",
       "    </tr>\n",
       "    <tr>\n",
       "      <th>169318</th>\n",
       "      <td>0.500</td>\n",
       "      <td>3.412153</td>\n",
       "      <td>0.750</td>\n",
       "      <td>2.453915</td>\n",
       "      <td>1.375</td>\n",
       "      <td>2.238766</td>\n",
       "      <td>2.000</td>\n",
       "      <td>1.594356</td>\n",
       "      <td>2.625</td>\n",
       "      <td>1.469435</td>\n",
       "      <td>...</td>\n",
       "      <td>1.0</td>\n",
       "      <td>0.0</td>\n",
       "      <td>0.0</td>\n",
       "      <td>1.0</td>\n",
       "      <td>1.0</td>\n",
       "      <td>0.0</td>\n",
       "      <td>0.0</td>\n",
       "      <td>1.0</td>\n",
       "      <td>0.0</td>\n",
       "      <td>347.0</td>\n",
       "    </tr>\n",
       "    <tr>\n",
       "      <th>169319</th>\n",
       "      <td>0.125</td>\n",
       "      <td>3.844089</td>\n",
       "      <td>0.125</td>\n",
       "      <td>3.638352</td>\n",
       "      <td>0.375</td>\n",
       "      <td>3.879538</td>\n",
       "      <td>0.500</td>\n",
       "      <td>3.780000</td>\n",
       "      <td>0.750</td>\n",
       "      <td>2.853918</td>\n",
       "      <td>...</td>\n",
       "      <td>1.0</td>\n",
       "      <td>0.0</td>\n",
       "      <td>0.0</td>\n",
       "      <td>1.0</td>\n",
       "      <td>1.0</td>\n",
       "      <td>0.0</td>\n",
       "      <td>0.0</td>\n",
       "      <td>1.0</td>\n",
       "      <td>0.0</td>\n",
       "      <td>347.0</td>\n",
       "    </tr>\n",
       "    <tr>\n",
       "      <th>169320</th>\n",
       "      <td>0.500</td>\n",
       "      <td>3.654338</td>\n",
       "      <td>0.750</td>\n",
       "      <td>2.830525</td>\n",
       "      <td>1.250</td>\n",
       "      <td>2.489981</td>\n",
       "      <td>1.625</td>\n",
       "      <td>1.786699</td>\n",
       "      <td>2.250</td>\n",
       "      <td>1.566147</td>\n",
       "      <td>...</td>\n",
       "      <td>1.0</td>\n",
       "      <td>0.0</td>\n",
       "      <td>0.0</td>\n",
       "      <td>1.0</td>\n",
       "      <td>1.0</td>\n",
       "      <td>0.0</td>\n",
       "      <td>0.0</td>\n",
       "      <td>1.0</td>\n",
       "      <td>0.0</td>\n",
       "      <td>347.0</td>\n",
       "    </tr>\n",
       "    <tr>\n",
       "      <th>169321</th>\n",
       "      <td>0.250</td>\n",
       "      <td>3.458072</td>\n",
       "      <td>0.375</td>\n",
       "      <td>2.713073</td>\n",
       "      <td>0.750</td>\n",
       "      <td>2.500116</td>\n",
       "      <td>1.125</td>\n",
       "      <td>1.872651</td>\n",
       "      <td>1.500</td>\n",
       "      <td>1.674750</td>\n",
       "      <td>...</td>\n",
       "      <td>1.0</td>\n",
       "      <td>0.0</td>\n",
       "      <td>0.0</td>\n",
       "      <td>1.0</td>\n",
       "      <td>1.0</td>\n",
       "      <td>0.0</td>\n",
       "      <td>0.0</td>\n",
       "      <td>1.0</td>\n",
       "      <td>0.0</td>\n",
       "      <td>347.0</td>\n",
       "    </tr>\n",
       "  </tbody>\n",
       "</table>\n",
       "<p>5 rows × 344 columns</p>\n",
       "</div>"
      ],
      "text/plain": [
       "        n_f_APCPsurface1HourForecast  n_f_10mWindSpeed1HourForecast  \\\n",
       "169317                         0.250                       3.498339   \n",
       "169318                         0.500                       3.412153   \n",
       "169319                         0.125                       3.844089   \n",
       "169320                         0.500                       3.654338   \n",
       "169321                         0.250                       3.458072   \n",
       "\n",
       "        n_f_APCPsurface2HourForecast  n_f_10mWindSpeed2HourForecast  \\\n",
       "169317                         0.250                       2.991883   \n",
       "169318                         0.750                       2.453915   \n",
       "169319                         0.125                       3.638352   \n",
       "169320                         0.750                       2.830525   \n",
       "169321                         0.375                       2.713073   \n",
       "\n",
       "        n_f_APCPsurface3HourForecast  n_f_10mWindSpeed3HourForecast  \\\n",
       "169317                         0.375                       3.180753   \n",
       "169318                         1.375                       2.238766   \n",
       "169319                         0.375                       3.879538   \n",
       "169320                         1.250                       2.489981   \n",
       "169321                         0.750                       2.500116   \n",
       "\n",
       "        n_f_APCPsurface4HourForecast  n_f_10mWindSpeed4HourForecast  \\\n",
       "169317                         0.625                       2.986401   \n",
       "169318                         2.000                       1.594356   \n",
       "169319                         0.500                       3.780000   \n",
       "169320                         1.625                       1.786699   \n",
       "169321                         1.125                       1.872651   \n",
       "\n",
       "        n_f_APCPsurface5HourForecast  n_f_10mWindSpeed5HourForecast  \\\n",
       "169317                         0.875                       2.337439   \n",
       "169318                         2.625                       1.469435   \n",
       "169319                         0.750                       2.853918   \n",
       "169320                         2.250                       1.566147   \n",
       "169321                         1.500                       1.674750   \n",
       "\n",
       "          ...      c_r_Prev7DayFreezeThawLikeliness9InPast  \\\n",
       "169317    ...                                          1.0   \n",
       "169318    ...                                          1.0   \n",
       "169319    ...                                          1.0   \n",
       "169320    ...                                          1.0   \n",
       "169321    ...                                          1.0   \n",
       "\n",
       "        c_r_Prev3DayWindSlabLikeliness9InPast  \\\n",
       "169317                                    0.0   \n",
       "169318                                    0.0   \n",
       "169319                                    0.0   \n",
       "169320                                    0.0   \n",
       "169321                                    0.0   \n",
       "\n",
       "        c_r_Prev7DayWindSlabLikeliness9InPast  \\\n",
       "169317                                    0.0   \n",
       "169318                                    0.0   \n",
       "169319                                    0.0   \n",
       "169320                                    0.0   \n",
       "169321                                    0.0   \n",
       "\n",
       "        c_r_Prev3DayFreezeThawLikeliness10InPast  \\\n",
       "169317                                       1.0   \n",
       "169318                                       1.0   \n",
       "169319                                       1.0   \n",
       "169320                                       1.0   \n",
       "169321                                       1.0   \n",
       "\n",
       "        c_r_Prev7DayFreezeThawLikeliness10InPast  \\\n",
       "169317                                       1.0   \n",
       "169318                                       1.0   \n",
       "169319                                       1.0   \n",
       "169320                                       1.0   \n",
       "169321                                       1.0   \n",
       "\n",
       "        c_r_Prev3DayWindSlabLikeliness10InPast  \\\n",
       "169317                                     0.0   \n",
       "169318                                     0.0   \n",
       "169319                                     0.0   \n",
       "169320                                     0.0   \n",
       "169321                                     0.0   \n",
       "\n",
       "        c_r_Prev7DayWindSlabLikeliness10InPast  c_IsCoastalSnowpack  \\\n",
       "169317                                     0.0                  1.0   \n",
       "169318                                     0.0                  1.0   \n",
       "169319                                     0.0                  1.0   \n",
       "169320                                     0.0                  1.0   \n",
       "169321                                     0.0                  1.0   \n",
       "\n",
       "        c_IsContenentalSnowpack  DayOfYear  \n",
       "169317                      0.0      347.0  \n",
       "169318                      0.0      347.0  \n",
       "169319                      0.0      347.0  \n",
       "169320                      0.0      347.0  \n",
       "169321                      0.0      347.0  \n",
       "\n",
       "[5 rows x 344 columns]"
      ]
     },
     "execution_count": 4,
     "metadata": {},
     "output_type": "execute_result"
    }
   ],
   "source": [
    "X_Above_train.tail()"
   ]
  },
  {
   "cell_type": "code",
   "execution_count": 5,
   "metadata": {},
   "outputs": [
    {
     "data": {
      "text/plain": [
       "Moderate        44376\n",
       "Low             33407\n",
       "Considerable    31790\n",
       "High             8132\n",
       "Name: o_Day1DangerAboveTreeline, dtype: int64"
      ]
     },
     "execution_count": 5,
     "metadata": {},
     "output_type": "execute_result"
    }
   ],
   "source": [
    "y_Above_train['o_Day1DangerAboveTreeline'].value_counts()"
   ]
  },
  {
   "cell_type": "code",
   "execution_count": 6,
   "metadata": {},
   "outputs": [
    {
     "data": {
      "text/plain": [
       "XGBClassifier(base_score=0.5, booster='gbtree', colsample_bylevel=1,\n",
       "       colsample_bytree=0.9, gamma=1, learning_rate=0.1, max_delta_step=0,\n",
       "       max_depth=7, min_child_weight=5, missing=None, n_estimators=250,\n",
       "       n_jobs=10, nthread=None, objective='multi:softmax', random_state=0,\n",
       "       reg_alpha=1, reg_lambda=1, scale_pos_weight=1, seed=None,\n",
       "       silent=True, subsample=0.9)"
      ]
     },
     "execution_count": 6,
     "metadata": {},
     "output_type": "execute_result"
    }
   ],
   "source": [
    "\n",
    "#parameters derived from a several step parameter search\n",
    "grid = {'min_child_weight': 5, 'n_estimators': 250, 'colsample_bytree': 0.9, 'reg_alpha': 1, 'gamma': 1, 'learning_rate': 0.1, 'subsample': 0.9, 'objective': 'multi:softmax', 'max_depth': 7}\n",
    "#modelAbove = XGBClassifier(tree_method='gpu_hist', n_jobs=10)\n",
    "modelAbove = XGBClassifier(n_jobs=10)\n",
    "modelAbove.set_params(**grid)\n"
   ]
  },
  {
   "cell_type": "code",
   "execution_count": null,
   "metadata": {},
   "outputs": [],
   "source": [
    "modelNear = XGBClassifier(n_jobs=10)\n",
    "modelNear.set_params(**grid)\n",
    "\n",
    "modelBelow = XGBClassifier(n_jobs=10)\n",
    "modelBelow.set_params(**grid)"
   ]
  },
  {
   "cell_type": "code",
   "execution_count": 9,
   "metadata": {},
   "outputs": [
    {
     "name": "stdout",
     "output_type": "stream",
     "text": [
      "Wall time: 7min 29s\n"
     ]
    }
   ],
   "source": [
    "\n",
    "%%time\n",
    "yColumns = ['o_Day1DangerAboveTreeline']\n",
    "val = modelAbove.fit(X_Above_train, y_Above_train[yColumns].values.ravel())\n"
   ]
  },
  {
   "cell_type": "code",
   "execution_count": 33,
   "metadata": {},
   "outputs": [
    {
     "data": {
      "text/plain": [
       "XGBClassifier(base_score=0.5, booster='gbtree', colsample_bylevel=1,\n",
       "       colsample_bytree=1, gamma=0, learning_rate=0.01, max_delta_step=0,\n",
       "       max_depth=3, min_child_weight=1, missing=None, n_estimators=1000,\n",
       "       n_jobs=10, nthread=None, objective='multi:softmax', random_state=0,\n",
       "       reg_alpha=0, reg_lambda=1, scale_pos_weight=1, seed=None,\n",
       "       silent=True, subsample=1, tree_method='gpu_hist')"
      ]
     },
     "execution_count": 33,
     "metadata": {},
     "output_type": "execute_result"
    }
   ],
   "source": [
    "#'min_child_weight': 5, 'n_estimators': 500, 'colsample_bytree': 0.9, 'reg_alpha': 1, 'gamma': 1, 'learning_rate': 0.1, 'subsample': 0.9,'max_depth': 7, 'tree_method':'gpu_hist' \n",
    "grid = {'objective': 'multi:softmax', 'n_estimators': 1000, 'learning_rate': 0.01}\n",
    "\n",
    "modelAboveGPU = XGBClassifier(n_jobs=10, tree_method='gpu_hist')\n",
    "modelAboveGPU.set_params(**grid)"
   ]
  },
  {
   "cell_type": "code",
   "execution_count": 17,
   "metadata": {},
   "outputs": [],
   "source": [
    "#mapping = {'Low': 0, 'Moderate': 1, 'Considerable': 2, 'High': 3, 'Extreme': 4}\n",
    "#df = y_Above_train.replace({'o_Day1DangerAboveTreeline': mapping})"
   ]
  },
  {
   "cell_type": "code",
   "execution_count": 34,
   "metadata": {},
   "outputs": [
    {
     "name": "stdout",
     "output_type": "stream",
     "text": [
      "Wall time: 50.4 s\n"
     ]
    }
   ],
   "source": [
    "%%time\n",
    "val = modelAboveGPU.fit(X_Above_train, y_Above_train[yColumns].values.ravel())"
   ]
  },
  {
   "cell_type": "code",
   "execution_count": null,
   "metadata": {},
   "outputs": [],
   "source": [
    "valnear = modelNear.fit(X_Near_train, y_Near_train[yNearColumn].values.ravel())\n",
    "valbelow = modelBelow.fit(X_Below_train, y_Below_train[yBelowColumn].values.ravel())"
   ]
  },
  {
   "cell_type": "code",
   "execution_count": 35,
   "metadata": {},
   "outputs": [],
   "source": [
    "resultAbove = modelAboveGPU.predict(X_Above_test)\n",
    "#resultNear = modelNear.predict(X_Near_test)\n",
    "#resultBelow = modelBelow.predict(X_Below_test)"
   ]
  },
  {
   "cell_type": "code",
   "execution_count": 36,
   "metadata": {},
   "outputs": [
    {
     "name": "stdout",
     "output_type": "stream",
     "text": [
      "Accuracy: 0.605725157831\n",
      "Classification Report\n",
      "              precision    recall  f1-score   support\n",
      "\n",
      "Considerable       0.50      0.60      0.54     14753\n",
      "        High       0.46      0.25      0.32      4696\n",
      "         Low       0.93      0.64      0.76     10024\n",
      "    Moderate       0.61      0.69      0.65     16779\n",
      "\n",
      " avg / total       0.63      0.61      0.61     46252\n",
      "\n",
      "Normalized confusion matrix\n",
      "Confusion matrix, without normalization\n"
     ]
    },
    {
     "data": {
      "image/png": "[encoded data removed]",
      "text/plain": [
       "<Figure size 432x288 with 2 Axes>"
      ]
     },
     "metadata": {},
     "output_type": "display_data"
    },
    {
     "data": {
      "image/png": "[encoded data removed]",
      "text/plain": [
       "<Figure size 432x288 with 2 Axes>"
      ]
     },
     "metadata": {},
     "output_type": "display_data"
    }
   ],
   "source": [
    "import matplotlib.pyplot as plt\n",
    "error_evaluation.evaluateSingleClassShort(y_Above_test[yColumns[0]], resultAbove)\n",
    "cnf_matrix = confusion_matrix(y_Above_test[yColumns[0]], resultAbove)\n",
    "plt.figure()\n",
    "error_evaluation.plot_confusion_matrix(cnf_matrix, classes=['Considerable', 'High', 'Low', 'Moderate'], normalize=True,\n",
    "                      title='Normalized confusion matrix')\n",
    "\n",
    "plt.figure()\n",
    "error_evaluation.plot_confusion_matrix(cnf_matrix, classes=['Considerable', 'High', 'Low', 'Moderate'],\n",
    "                      title='Confusion matrix, without normalization')\n",
    "plt.show()"
   ]
  },
  {
   "cell_type": "code",
   "execution_count": null,
   "metadata": {},
   "outputs": [],
   "source": [
    "evaluateSingleClassShort(y_Near_test['o_Day1DangerNearTreeline'], resultNear)\n",
    "\n",
    "cnf_matrix = confusion_matrix(y_Near_test['o_Day1DangerNearTreeline'], resultNear)\n",
    "plt.figure()\n",
    "plot_confusion_matrix(cnf_matrix, classes=['Considerable', 'High', 'Low', 'Moderate'], normalize=True,\n",
    "                      title='Normalized confusion matrix')\n",
    "plt.figure()\n",
    "plot_confusion_matrix(cnf_matrix, classes=['Considerable', 'High', 'Low', 'Moderate'],\n",
    "                      title='Confusion matrix, without normalization')\n",
    "plt.show()"
   ]
  },
  {
   "cell_type": "code",
   "execution_count": null,
   "metadata": {},
   "outputs": [],
   "source": [
    "evaluateSingleClassShort(y_Below_test['o_Day1DangerBelowTreeline'], resultBelow)\n",
    "cnf_matrix = confusion_matrix(y_Below_test['o_Day1DangerBelowTreeline'], resultBelow)\n",
    "plt.figure()\n",
    "plot_confusion_matrix(cnf_matrix, classes=['Considerable', 'High', 'Low', 'Moderate'], normalize=True,\n",
    "                      title='Normalized confusion matrix')\n",
    "plt.figure()\n",
    "plot_confusion_matrix(cnf_matrix, classes=['Considerable', 'High', 'Low', 'Moderate'],\n",
    "                      title='Confusion matrix, without normalization')\n",
    "plt.show()"
   ]
  },
  {
   "cell_type": "code",
   "execution_count": null,
   "metadata": {},
   "outputs": [],
   "source": [
    "#check out the feature importances\n",
    "featureImportance = dict(zip(X_Above_train.columns, modelAbove.feature_importances_))\n",
    "sortedFeatureImportance = sorted(featureImportance, key=featureImportance.get, reverse=True)"
   ]
  },
  {
   "cell_type": "code",
   "execution_count": null,
   "metadata": {},
   "outputs": [],
   "source": [
    "sortedFeatureImportance[:100]"
   ]
  },
  {
   "cell_type": "code",
   "execution_count": null,
   "metadata": {},
   "outputs": [],
   "source": [
    "#save the models\n",
    "modelAbove._Booster.save_model(\"ModelAboveV1.bin\")\n",
    "modelNear._Booster.save_model(\"ModelNearV1.bin\")\n",
    "modelBelow._Booster.save_model(\"ModelBelowV1.bin\")"
   ]
  },
  {
   "cell_type": "code",
   "execution_count": null,
   "metadata": {},
   "outputs": [],
   "source": [
    "%%time #3 mins\n",
    "# grid search\n",
    "model = XGBClassifier(tree_method='gpu_hist')\n",
    "learning_rate = [0.01]\n",
    "n_estimators = [100, 200]\n",
    "#max_depth = range(3,10,2)\n",
    "#min_child_weight = range(1,6,2)\n",
    "#gamma = [i/10.0 for i in range(0,5)]\n",
    "param_grid = dict(learning_rate=learning_rate, n_estimators=n_estimators, objective=[\"gpu:multi:softmax\"])\n",
    "kfold = StratifiedKFold(n_splits=10, shuffle=True, random_state=7)\n",
    "grid_search = GridSearchCV(model, param_grid, scoring=\"neg_log_loss\", n_jobs=8, cv=kfold)\n",
    "#(X_Near_train, y_Near_train[yNearColumn].values.ravel()\n",
    "grid_result = grid_search.fit(X_Above_train.values, y_Above_train[yColumns].values.ravel())\n",
    "# summarize results\n",
    "print(\"Best: %f using %s\" % (grid_result.best_score_, grid_result.best_params_))\n",
    "means = grid_result.cv_results_['mean_test_score']\n",
    "stds = grid_result.cv_results_['std_test_score']\n",
    "params = grid_result.cv_results_['params']\n",
    "for mean, stdev, param in zip(means, stds, params):\n",
    "    print(\"%f (%f) with: %r\" % (mean, stdev, param))"
   ]
  },
  {
   "cell_type": "code",
   "execution_count": null,
   "metadata": {},
   "outputs": [],
   "source": [
    "%%time #1 hour 30 mins\n",
    "# grid search\n",
    "model = XGBClassifier()\n",
    "learning_rate = [0.01]\n",
    "n_estimators = [100, 200]\n",
    "#max_depth = range(3,10,2)\n",
    "#min_child_weight = range(1,6,2)\n",
    "#gamma = [i/10.0 for i in range(0,5)]\n",
    "param_grid = dict(learning_rate=learning_rate, n_estimators=n_estimators, objective=[\"multi:softmax\"])\n",
    "kfold = StratifiedKFold(n_splits=10, shuffle=True, random_state=7)\n",
    "grid_search = GridSearchCV(model, param_grid, scoring=\"neg_log_loss\", n_jobs=8, cv=kfold)\n",
    "#(X_Near_train, y_Near_train[yNearColumn].values.ravel()\n",
    "grid_result = grid_search.fit(X_Above_train.values, y_Above_train[yColumns].values.ravel())\n",
    "# summarize results\n",
    "print(\"Best: %f using %s\" % (grid_result.best_score_, grid_result.best_params_))\n",
    "means = grid_result.cv_results_['mean_test_score']\n",
    "stds = grid_result.cv_results_['std_test_score']\n",
    "params = grid_result.cv_results_['params']\n",
    "for mean, stdev, param in zip(means, stds, params):\n",
    "    print(\"%f (%f) with: %r\" % (mean, stdev, param))"
   ]
  },
  {
   "cell_type": "code",
   "execution_count": null,
   "metadata": {},
   "outputs": [
    {
     "name": "stdout",
     "output_type": "stream",
     "text": [
      "Fitting 7 folds for each of 180 candidates, totalling 1260 fits\n",
      "[CV] n_estimators=400, gamma=0.0, learning_rate=0.1, max_depth=3, objective=gpu:multi:softmax, min_child_weight=1 \n",
      "[CV]  n_estimators=400, gamma=0.0, learning_rate=0.1, max_depth=3, objective=gpu:multi:softmax, min_child_weight=1, score=-0.43067055515189157, total=  21.0s\n",
      "[CV] n_estimators=400, gamma=0.0, learning_rate=0.1, max_depth=3, objective=gpu:multi:softmax, min_child_weight=1 \n"
     ]
    },
    {
     "name": "stderr",
     "output_type": "stream",
     "text": [
      "[Parallel(n_jobs=1)]: Done   1 out of   1 | elapsed:   23.6s remaining:    0.0s\n"
     ]
    },
    {
     "name": "stdout",
     "output_type": "stream",
     "text": [
      "[CV]  n_estimators=400, gamma=0.0, learning_rate=0.1, max_depth=3, objective=gpu:multi:softmax, min_child_weight=1, score=-0.43092237396318045, total=  21.9s\n",
      "[CV] n_estimators=400, gamma=0.0, learning_rate=0.1, max_depth=3, objective=gpu:multi:softmax, min_child_weight=1 \n"
     ]
    },
    {
     "name": "stderr",
     "output_type": "stream",
     "text": [
      "[Parallel(n_jobs=1)]: Done   2 out of   2 | elapsed:   48.3s remaining:    0.0s\n"
     ]
    },
    {
     "name": "stdout",
     "output_type": "stream",
     "text": [
      "[CV]  n_estimators=400, gamma=0.0, learning_rate=0.1, max_depth=3, objective=gpu:multi:softmax, min_child_weight=1, score=-0.4249493529830228, total=  21.0s\n",
      "[CV] n_estimators=400, gamma=0.0, learning_rate=0.1, max_depth=3, objective=gpu:multi:softmax, min_child_weight=1 \n"
     ]
    },
    {
     "name": "stderr",
     "output_type": "stream",
     "text": [
      "[Parallel(n_jobs=1)]: Done   3 out of   3 | elapsed:  1.2min remaining:    0.0s\n"
     ]
    },
    {
     "name": "stdout",
     "output_type": "stream",
     "text": [
      "[CV]  n_estimators=400, gamma=0.0, learning_rate=0.1, max_depth=3, objective=gpu:multi:softmax, min_child_weight=1, score=-0.42850439237430865, total=  20.2s\n",
      "[CV] n_estimators=400, gamma=0.0, learning_rate=0.1, max_depth=3, objective=gpu:multi:softmax, min_child_weight=1 \n"
     ]
    },
    {
     "name": "stderr",
     "output_type": "stream",
     "text": [
      "[Parallel(n_jobs=1)]: Done   4 out of   4 | elapsed:  1.6min remaining:    0.0s\n"
     ]
    },
    {
     "name": "stdout",
     "output_type": "stream",
     "text": [
      "[CV]  n_estimators=400, gamma=0.0, learning_rate=0.1, max_depth=3, objective=gpu:multi:softmax, min_child_weight=1, score=-0.43170260531966864, total=  20.9s\n",
      "[CV] n_estimators=400, gamma=0.0, learning_rate=0.1, max_depth=3, objective=gpu:multi:softmax, min_child_weight=1 \n"
     ]
    },
    {
     "name": "stderr",
     "output_type": "stream",
     "text": [
      "[Parallel(n_jobs=1)]: Done   5 out of   5 | elapsed:  2.0min remaining:    0.0s\n"
     ]
    },
    {
     "name": "stdout",
     "output_type": "stream",
     "text": [
      "[CV]  n_estimators=400, gamma=0.0, learning_rate=0.1, max_depth=3, objective=gpu:multi:softmax, min_child_weight=1, score=-0.423006056386163, total=  21.0s\n",
      "[CV] n_estimators=400, gamma=0.0, learning_rate=0.1, max_depth=3, objective=gpu:multi:softmax, min_child_weight=1 \n"
     ]
    },
    {
     "name": "stderr",
     "output_type": "stream",
     "text": [
      "[Parallel(n_jobs=1)]: Done   6 out of   6 | elapsed:  2.4min remaining:    0.0s\n"
     ]
    },
    {
     "name": "stdout",
     "output_type": "stream",
     "text": [
      "[CV]  n_estimators=400, gamma=0.0, learning_rate=0.1, max_depth=3, objective=gpu:multi:softmax, min_child_weight=1, score=-0.42782897282104515, total=  20.6s\n",
      "[CV] n_estimators=700, gamma=0.0, learning_rate=0.1, max_depth=3, objective=gpu:multi:softmax, min_child_weight=1 \n"
     ]
    },
    {
     "name": "stderr",
     "output_type": "stream",
     "text": [
      "[Parallel(n_jobs=1)]: Done   7 out of   7 | elapsed:  2.8min remaining:    0.0s\n"
     ]
    }
   ],
   "source": [
    "%%time\n",
    "# grid search\n",
    "model = XGBClassifier(tree_method='gpu_hist')\n",
    "learning_rate = [.1]\n",
    "n_estimators = [400, 700, 900]\n",
    "max_depth = range(3,10,2)\n",
    "min_child_weight = range(1,6,2)\n",
    "gamma = [i/10.0 for i in range(0,5)]\n",
    "param_grid = dict(learning_rate=learning_rate, n_estimators=n_estimators,max_depth=max_depth, min_child_weight=min_child_weight, gamma=gamma, objective=[\"gpu:multi:softmax\"])\n",
    "kfold = StratifiedKFold(n_splits=7, shuffle=True, random_state=7)\n",
    "grid_search = GridSearchCV(model, param_grid, scoring=\"neg_log_loss\", cv=kfold, verbose=20)\n",
    "#(X_Near_train, y_Near_train[yNearColumn].values.ravel()\n",
    "grid_result = grid_search.fit(X_Above_train.values, y_Above_train[yColumns].values.ravel())\n",
    "# summarize results\n",
    "print(\"Best: %f using %s\" % (grid_result.best_score_, grid_result.best_params_))\n",
    "means = grid_result.cv_results_['mean_test_score']\n",
    "stds = grid_result.cv_results_['std_test_score']\n",
    "params = grid_result.cv_results_['params']\n",
    "for mean, stdev, param in zip(means, stds, params):\n",
    "    print(\"%f (%f) with: %r\" % (mean, stdev, param))"
   ]
  },
  {
   "cell_type": "code",
   "execution_count": null,
   "metadata": {},
   "outputs": [],
   "source": []
  }
 ],
 "metadata": {
  "kernelspec": {
   "display_name": "Python 3",
   "language": "python",
   "name": "python3"
  },
  "language_info": {
   "codemirror_mode": {
    "name": "ipython",
    "version": 3
   },
   "file_extension": ".py",
   "mimetype": "text/x-python",
   "name": "python",
   "nbconvert_exporter": "python",
   "pygments_lexer": "ipython3",
   "version": "3.5.3"
  }
 },
 "nbformat": 4,
 "nbformat_minor": 2
}
