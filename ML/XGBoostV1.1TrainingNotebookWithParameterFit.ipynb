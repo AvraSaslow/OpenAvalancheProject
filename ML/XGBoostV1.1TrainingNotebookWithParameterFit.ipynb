{
 "cells": [
  {
   "cell_type": "code",
   "execution_count": 1,
   "metadata": {},
   "outputs": [],
   "source": [
    "import numpy as np\n",
    "import pandas as pd\n",
    "import re\n",
    "from sklearn.model_selection import train_test_split\n",
    "from sklearn.ensemble import RandomForestClassifier, GradientBoostingClassifier, AdaBoostClassifier, VotingClassifier\n",
    "from sklearn.preprocessing import Normalizer\n",
    "from sklearn.metrics import confusion_matrix, accuracy_score, classification_report\n",
    "from sklearn.model_selection import GridSearchCV\n",
    "from sklearn.model_selection import StratifiedKFold, cross_val_score\n",
    "from xgboost import XGBClassifier\n",
    "import datetime\n",
    "import matplotlib\n",
    "from matplotlib import pyplot"
   ]
  },
  {
   "cell_type": "code",
   "execution_count": 2,
   "metadata": {},
   "outputs": [
    {
     "name": "stderr",
     "output_type": "stream",
     "text": [
      "Using TensorFlow backend.\n"
     ]
    }
   ],
   "source": [
    "import DataPrep\n",
    "import error_evaluation"
   ]
  },
  {
   "cell_type": "code",
   "execution_count": null,
   "metadata": {},
   "outputs": [],
   "source": [
    "X_Above_test, X_Above_train, y_Above_test, y_Above_train, X_Near_test, X_Near_train, y_Near_test, y_Near_train, X_Below_test, X_Below_train, y_Below_test, y_Below_train = DataPrep.prep_day1_danger_train_test('../Data/V1.1FeaturesWithLabels20131201To20180430.csv', ignore_extreme=True)"
   ]
  },
  {
   "cell_type": "code",
   "execution_count": 9,
   "metadata": {},
   "outputs": [],
   "source": [
    "X_Above_test = pd.read_pickle('E:/Temp/X_test.pkl')\n",
    "y_Above_test = pd.read_pickle('E:/Temp/y_test.pkl')\n",
    "\n",
    "X_Above_train = np.load('E:/Temp/X_train_ADASYN.npy')\n",
    "y_Above_train = np.load('E:/Temp/y_train_ADASYN.npy')"
   ]
  },
  {
   "cell_type": "code",
   "execution_count": null,
   "metadata": {},
   "outputs": [],
   "source": [
    "#y_Above_train['o_Day1DangerAboveTreeline'].value_counts()"
   ]
  },
  {
   "cell_type": "code",
   "execution_count": null,
   "metadata": {},
   "outputs": [],
   "source": [
    "\n",
    "#parameters derived from a several step parameter search\n",
    "grid = {'min_child_weight': 5, 'n_estimators': 250, 'colsample_bytree': 0.9, 'reg_alpha': 1, 'gamma': 1, 'learning_rate': 0.1, 'subsample': 0.9, 'objective': 'multi:softmax', 'max_depth': 7}\n",
    "#modelAbove = XGBClassifier(tree_method='gpu_hist', n_jobs=10)\n",
    "modelAbove = XGBClassifier(n_jobs=10)\n",
    "modelAbove.set_params(**grid)\n"
   ]
  },
  {
   "cell_type": "code",
   "execution_count": null,
   "metadata": {},
   "outputs": [],
   "source": [
    "modelNear = XGBClassifier(n_jobs=10)\n",
    "modelNear.set_params(**grid)\n",
    "\n",
    "modelBelow = XGBClassifier(n_jobs=10)\n",
    "modelBelow.set_params(**grid)"
   ]
  },
  {
   "cell_type": "code",
   "execution_count": null,
   "metadata": {},
   "outputs": [],
   "source": [
    "\n",
    "%%time\n",
    "yColumns = ['o_Day1DangerAboveTreeline']\n",
    "val = modelAbove.fit(X_Above_train, y_Above_train)\n"
   ]
  },
  {
   "cell_type": "code",
   "execution_count": null,
   "metadata": {},
   "outputs": [],
   "source": [
    "m = modelAboveGPU"
   ]
  },
  {
   "cell_type": "code",
   "execution_count": null,
   "metadata": {},
   "outputs": [],
   "source": [
    "m.score(X_Above_test.values, y_Above_test['o_Day1DangerAboveTreeline'].values.ravel())\n"
   ]
  },
  {
   "cell_type": "code",
   "execution_count": null,
   "metadata": {},
   "outputs": [],
   "source": [
    "#only look at critical points\n",
    "y_Above_test_crit = y_Above_test[y_Above_test['IsCriticalPoint']==True]\n",
    "X_Above_test_crit = X_Above_test.loc[y_Above_test_crit.index, :]\n",
    "preds_crit = m.predict(X_Above_test_crit.values)"
   ]
  },
  {
   "cell_type": "code",
   "execution_count": null,
   "metadata": {},
   "outputs": [],
   "source": [
    "#split in to forecast types\n",
    "X_Above_test_cont = X_Above_test[X_Above_test['c_IsContenentalSnowpack']==True]\n",
    "y_Above_test_cont = y_Above_test.loc[X_Above_test_cont.index, :]\n",
    "\n",
    "X_Above_test_coast = X_Above_test[X_Above_test['c_IsCoastalSnowpack']==True]\n",
    "y_Above_test_coast = y_Above_test.loc[X_Above_test_coast.index, :]\n",
    "\n",
    "preds_cont = m.predict(X_Above_test_cont.values)\n",
    "preds_coast = m.predict(X_Above_test_coast.values)"
   ]
  },
  {
   "cell_type": "code",
   "execution_count": null,
   "metadata": {},
   "outputs": [],
   "source": [
    "preds = m.predict(X_Above_test.values)\n",
    "y_Above_test['Prediction'] = preds"
   ]
  },
  {
   "cell_type": "code",
   "execution_count": null,
   "metadata": {},
   "outputs": [],
   "source": [
    "#remove synthetic regions from the evaluation\n",
    "\n",
    "synthetic_regions = ['Low West', 'Low East', 'In The Desert', 'In The Lake']\n",
    "y_Above_test = y_Above_test[~y_Above_test['UnifiedRegion'].isin(synthetic_regions)]"
   ]
  },
  {
   "cell_type": "code",
   "execution_count": null,
   "metadata": {},
   "outputs": [],
   "source": [
    "preds = y_Above_test['Prediction']"
   ]
  },
  {
   "cell_type": "code",
   "execution_count": null,
   "metadata": {},
   "outputs": [],
   "source": [
    "import matplotlib.pyplot as plt\n",
    "error_evaluation.evaluateSingleClassShort(y_Above_test['o_Day1DangerAboveTreeline'], preds)\n",
    "cnf_matrix = confusion_matrix(y_Above_test['o_Day1DangerAboveTreeline'], preds)\n",
    "plt.figure()\n",
    "error_evaluation.plot_confusion_matrix(cnf_matrix, classes=['Low', 'Moderate', 'Considerable', 'High'], normalize=True,\n",
    "                      title='Normalized confusion matrix')\n",
    "\n",
    "plt.figure()\n",
    "error_evaluation.plot_confusion_matrix(cnf_matrix, classes=['Low', 'Moderate', 'Considerable', 'High'],\n",
    "                      title='Confusion matrix, without normalization')\n",
    "plt.figure()\n",
    "cnf_matrix_crit = confusion_matrix(y_Above_test_crit['o_Day1DangerAboveTreeline'], preds_crit)\n",
    "\n",
    "error_evaluation.plot_confusion_matrix(cnf_matrix_crit, classes=['Low', 'Moderate', 'Considerable', 'High'], normalize=True,\n",
    "                      title='Critcial Point Normalized confusion matrix')\n",
    "plt.figure()\n",
    "error_evaluation.plot_confusion_matrix(cnf_matrix_crit, classes=['Low', 'Moderate', 'Considerable', 'High'],\n",
    "                      title='Critcial Point Confusion matrix, without normalization')\n",
    "\n",
    "plt.figure()\n",
    "error_evaluation.evaluateSingleClassShort(y_Above_test_cont['o_Day1DangerAboveTreeline'], preds_cont)\n",
    "cnf_matrix_cont = confusion_matrix(y_Above_test_cont['o_Day1DangerAboveTreeline'], preds_cont)\n",
    "\n",
    "error_evaluation.plot_confusion_matrix(cnf_matrix_cont, classes=['Low', 'Moderate', 'Considerable', 'High'], normalize=True,\n",
    "                      title='Continental Forecast Normalized confusion matrix')\n",
    "plt.figure()\n",
    "error_evaluation.plot_confusion_matrix(cnf_matrix_cont, classes=['Low', 'Moderate', 'Considerable', 'High'],\n",
    "                      title='Continental Forecast Confusion matrix, without normalization')\n",
    "\n",
    "plt.figure()\n",
    "error_evaluation.evaluateSingleClassShort(y_Above_test_coast['o_Day1DangerAboveTreeline'], preds_coast)\n",
    "cnf_matrix_coast = confusion_matrix(y_Above_test_coast['o_Day1DangerAboveTreeline'], preds_coast)\n",
    "\n",
    "error_evaluation.plot_confusion_matrix(cnf_matrix_coast, classes=['Low', 'Moderate', 'Considerable', 'High'], normalize=True,\n",
    "                      title='Coastal Forecast Normalized confusion matrix')\n",
    "plt.figure()\n",
    "error_evaluation.plot_confusion_matrix(cnf_matrix_coast, classes=['Low', 'Moderate', 'Considerable', 'High'],\n",
    "                      title='Coastal Forecast Confusion matrix, without normalization')\n",
    "plt.show()"
   ]
  },
  {
   "cell_type": "code",
   "execution_count": 5,
   "metadata": {},
   "outputs": [
    {
     "data": {
      "text/plain": [
       "XGBClassifier(base_score=0.5, booster='gbtree', colsample_bylevel=1,\n",
       "       colsample_bytree=1, gamma=0, learning_rate=0.01, max_delta_step=0,\n",
       "       max_depth=3, min_child_weight=1, missing=None, n_estimators=1000,\n",
       "       n_jobs=10, nthread=None, objective='multi:softmax', random_state=0,\n",
       "       reg_alpha=0, reg_lambda=1, scale_pos_weight=1, seed=None,\n",
       "       silent=True, subsample=1, tree_method='gpu_hist')"
      ]
     },
     "execution_count": 5,
     "metadata": {},
     "output_type": "execute_result"
    }
   ],
   "source": [
    "#'min_child_weight': 5, 'n_estimators': 500, 'colsample_bytree': 0.9, 'reg_alpha': 1, 'gamma': 1, 'learning_rate': 0.1, 'subsample': 0.9,'max_depth': 7, 'tree_method':'gpu_hist' \n",
    "grid = {'objective': 'multi:softmax', 'n_estimators': 1000, 'learning_rate': 0.01}\n",
    "#grid = {'min_child_weight': 5, 'n_estimators': 250, 'colsample_bytree': 0.9, 'reg_alpha': 1, 'gamma': 1, 'learning_rate': 0.1, 'subsample': 0.9, 'objective': 'multi:softmax', 'max_depth': 7}\n",
    "modelAboveGPU = XGBClassifier(n_jobs=10, tree_method='gpu_hist')\n",
    "modelAboveGPU.set_params(**grid)"
   ]
  },
  {
   "cell_type": "code",
   "execution_count": 6,
   "metadata": {},
   "outputs": [],
   "source": [
    "#mapping = {'Low': 0, 'Moderate': 1, 'Considerable': 2, 'High': 3, 'Extreme': 4}\n",
    "#df = y_Above_train.replace({'o_Day1DangerAboveTreeline': mapping})"
   ]
  },
  {
   "cell_type": "code",
   "execution_count": 7,
   "metadata": {},
   "outputs": [
    {
     "name": "stdout",
     "output_type": "stream",
     "text": [
      "Wall time: 9min 43s\n"
     ]
    }
   ],
   "source": [
    "%%time\n",
    "val = modelAboveGPU.fit(X_Above_train, y_Above_train)"
   ]
  },
  {
   "cell_type": "code",
   "execution_count": null,
   "metadata": {},
   "outputs": [],
   "source": [
    "valnear = modelNear.fit(X_Near_train, y_Near_train[yNearColumn].values.ravel())\n",
    "valbelow = modelBelow.fit(X_Below_train, y_Below_train[yBelowColumn].values.ravel())"
   ]
  },
  {
   "cell_type": "code",
   "execution_count": null,
   "metadata": {},
   "outputs": [],
   "source": [
    "resultAbove = modelAboveGPU.predict(X_Above_test.values)\n",
    "#resultNear = modelNear.predict(X_Near_test)\n",
    "#resultBelow = modelBelow.predict(X_Below_test)"
   ]
  },
  {
   "cell_type": "code",
   "execution_count": null,
   "metadata": {},
   "outputs": [],
   "source": [
    "import matplotlib.pyplot as plt\n",
    "error_evaluation.evaluateSingleClassShort(y_Above_test[yColumns[0]], resultAbove)\n",
    "cnf_matrix = confusion_matrix(y_Above_test[yColumns[0]], resultAbove)\n",
    "plt.figure()\n",
    "error_evaluation.plot_confusion_matrix(cnf_matrix, classes=['Considerable', 'High', 'Low', 'Moderate'], normalize=True,\n",
    "                      title='Normalized confusion matrix')\n",
    "\n",
    "plt.figure()\n",
    "error_evaluation.plot_confusion_matrix(cnf_matrix, classes=['Considerable', 'High', 'Low', 'Moderate'],\n",
    "                      title='Confusion matrix, without normalization')\n",
    "plt.show()"
   ]
  },
  {
   "cell_type": "code",
   "execution_count": null,
   "metadata": {},
   "outputs": [],
   "source": [
    "evaluateSingleClassShort(y_Near_test['o_Day1DangerNearTreeline'], resultNear)\n",
    "\n",
    "cnf_matrix = confusion_matrix(y_Near_test['o_Day1DangerNearTreeline'], resultNear)\n",
    "plt.figure()\n",
    "plot_confusion_matrix(cnf_matrix, classes=['Considerable', 'High', 'Low', 'Moderate'], normalize=True,\n",
    "                      title='Normalized confusion matrix')\n",
    "plt.figure()\n",
    "plot_confusion_matrix(cnf_matrix, classes=['Considerable', 'High', 'Low', 'Moderate'],\n",
    "                      title='Confusion matrix, without normalization')\n",
    "plt.show()"
   ]
  },
  {
   "cell_type": "code",
   "execution_count": null,
   "metadata": {},
   "outputs": [],
   "source": [
    "evaluateSingleClassShort(y_Below_test['o_Day1DangerBelowTreeline'], resultBelow)\n",
    "cnf_matrix = confusion_matrix(y_Below_test['o_Day1DangerBelowTreeline'], resultBelow)\n",
    "plt.figure()\n",
    "plot_confusion_matrix(cnf_matrix, classes=['Considerable', 'High', 'Low', 'Moderate'], normalize=True,\n",
    "                      title='Normalized confusion matrix')\n",
    "plt.figure()\n",
    "plot_confusion_matrix(cnf_matrix, classes=['Considerable', 'High', 'Low', 'Moderate'],\n",
    "                      title='Confusion matrix, without normalization')\n",
    "plt.show()"
   ]
  },
  {
   "cell_type": "code",
   "execution_count": null,
   "metadata": {},
   "outputs": [],
   "source": [
    "#check out the feature importances\n",
    "featureImportance = dict(zip(X_Above_train.columns, modelAbove.feature_importances_))\n",
    "sortedFeatureImportance = sorted(featureImportance, key=featureImportance.get, reverse=True)"
   ]
  },
  {
   "cell_type": "code",
   "execution_count": null,
   "metadata": {},
   "outputs": [],
   "source": [
    "sortedFeatureImportance[:100]"
   ]
  },
  {
   "cell_type": "code",
   "execution_count": null,
   "metadata": {},
   "outputs": [],
   "source": [
    "#save the models\n",
    "modelAbove._Booster.save_model(\"ModelAboveV1.bin\")\n",
    "modelNear._Booster.save_model(\"ModelNearV1.bin\")\n",
    "modelBelow._Booster.save_model(\"ModelBelowV1.bin\")"
   ]
  },
  {
   "cell_type": "code",
   "execution_count": null,
   "metadata": {},
   "outputs": [],
   "source": [
    "%%time #3 mins\n",
    "# grid search\n",
    "model = XGBClassifier(tree_method='gpu_hist')\n",
    "learning_rate = [0.01]\n",
    "n_estimators = [100, 200]\n",
    "#max_depth = range(3,10,2)\n",
    "#min_child_weight = range(1,6,2)\n",
    "#gamma = [i/10.0 for i in range(0,5)]\n",
    "param_grid = dict(learning_rate=learning_rate, n_estimators=n_estimators, objective=[\"gpu:multi:softmax\"])\n",
    "kfold = StratifiedKFold(n_splits=10, shuffle=True, random_state=7)\n",
    "grid_search = GridSearchCV(model, param_grid, scoring=\"neg_log_loss\", n_jobs=8, cv=kfold)\n",
    "#(X_Near_train, y_Near_train[yNearColumn].values.ravel()\n",
    "grid_result = grid_search.fit(X_Above_train.values, y_Above_train[yColumns].values.ravel())\n",
    "# summarize results\n",
    "print(\"Best: %f using %s\" % (grid_result.best_score_, grid_result.best_params_))\n",
    "means = grid_result.cv_results_['mean_test_score']\n",
    "stds = grid_result.cv_results_['std_test_score']\n",
    "params = grid_result.cv_results_['params']\n",
    "for mean, stdev, param in zip(means, stds, params):\n",
    "    print(\"%f (%f) with: %r\" % (mean, stdev, param))"
   ]
  },
  {
   "cell_type": "code",
   "execution_count": null,
   "metadata": {},
   "outputs": [],
   "source": [
    "%%time #1 hour 30 mins\n",
    "# grid search\n",
    "model = XGBClassifier()\n",
    "learning_rate = [0.01]\n",
    "n_estimators = [100, 200]\n",
    "#max_depth = range(3,10,2)\n",
    "#min_child_weight = range(1,6,2)\n",
    "#gamma = [i/10.0 for i in range(0,5)]\n",
    "param_grid = dict(learning_rate=learning_rate, n_estimators=n_estimators, objective=[\"multi:softmax\"])\n",
    "kfold = StratifiedKFold(n_splits=10, shuffle=True, random_state=7)\n",
    "grid_search = GridSearchCV(model, param_grid, scoring=\"neg_log_loss\", n_jobs=8, cv=kfold)\n",
    "#(X_Near_train, y_Near_train[yNearColumn].values.ravel()\n",
    "grid_result = grid_search.fit(X_Above_train.values, y_Above_train[yColumns].values.ravel())\n",
    "# summarize results\n",
    "print(\"Best: %f using %s\" % (grid_result.best_score_, grid_result.best_params_))\n",
    "means = grid_result.cv_results_['mean_test_score']\n",
    "stds = grid_result.cv_results_['std_test_score']\n",
    "params = grid_result.cv_results_['params']\n",
    "for mean, stdev, param in zip(means, stds, params):\n",
    "    print(\"%f (%f) with: %r\" % (mean, stdev, param))"
   ]
  },
  {
   "cell_type": "code",
   "execution_count": null,
   "metadata": {},
   "outputs": [],
   "source": [
    "%%time\n",
    "# grid search\n",
    "model = XGBClassifier(tree_method='gpu_hist')\n",
    "learning_rate = [.1]\n",
    "n_estimators = [400, 700, 900]\n",
    "max_depth = range(3,10,2)\n",
    "min_child_weight = range(1,6,2)\n",
    "gamma = [i/10.0 for i in range(0,5)]\n",
    "param_grid = dict(learning_rate=learning_rate, n_estimators=n_estimators,max_depth=max_depth, min_child_weight=min_child_weight, gamma=gamma, objective=[\"gpu:multi:softmax\"])\n",
    "kfold = StratifiedKFold(n_splits=7, shuffle=True, random_state=7)\n",
    "grid_search = GridSearchCV(model, param_grid, scoring=\"neg_log_loss\", cv=kfold, verbose=20)\n",
    "#(X_Near_train, y_Near_train[yNearColumn].values.ravel()\n",
    "grid_result = grid_search.fit(X_Above_train.values, y_Above_train[yColumns].values.ravel())\n",
    "# summarize results\n",
    "print(\"Best: %f using %s\" % (grid_result.best_score_, grid_result.best_params_))\n",
    "means = grid_result.cv_results_['mean_test_score']\n",
    "stds = grid_result.cv_results_['std_test_score']\n",
    "params = grid_result.cv_results_['params']\n",
    "for mean, stdev, param in zip(means, stds, params):\n",
    "    print(\"%f (%f) with: %r\" % (mean, stdev, param))"
   ]
  },
  {
   "cell_type": "code",
   "execution_count": null,
   "metadata": {},
   "outputs": [],
   "source": []
  }
 ],
 "metadata": {
  "kernelspec": {
   "display_name": "Python [conda env:python35gpu]",
   "language": "python",
   "name": "conda-env-python35gpu-py"
  },
  "language_info": {
   "codemirror_mode": {
    "name": "ipython",
    "version": 3
   },
   "file_extension": ".py",
   "mimetype": "text/x-python",
   "name": "python",
   "nbconvert_exporter": "python",
   "pygments_lexer": "ipython3",
   "version": "3.5.3"
  }
 },
 "nbformat": 4,
 "nbformat_minor": 2
}
