{
 "cells": [
  {
   "cell_type": "code",
   "execution_count": null,
   "metadata": {},
   "outputs": [],
   "source": [
    "#necessary on linux/mac\n",
    "#import multiprocessing\n",
    "\n",
    "#if __name__ == '__main__':\n",
    "#    multiprocessing.set_start_method('forkserver')"
   ]
  },
  {
   "cell_type": "code",
   "execution_count": 2,
   "metadata": {},
   "outputs": [
    {
     "name": "stderr",
     "output_type": "stream",
     "text": [
      "c:\\users\\scott\\anaconda3\\envs\\python35gpu\\lib\\site-packages\\h5py\\__init__.py:36: FutureWarning: Conversion of the second argument of issubdtype from `float` to `np.floating` is deprecated. In future, it will be treated as `np.float64 == np.dtype(float).type`.\n",
      "  from ._conv import register_converters as _register_converters\n",
      "Using TensorFlow backend.\n"
     ]
    },
    {
     "ename": "ImportError",
     "evalue": "Traceback (most recent call last):\n  File \"c:\\users\\scott\\anaconda3\\envs\\python35gpu\\lib\\site-packages\\tensorflow\\python\\pywrap_tensorflow.py\", line 58, in <module>\n    from tensorflow.python.pywrap_tensorflow_internal import *\n  File \"c:\\users\\scott\\anaconda3\\envs\\python35gpu\\lib\\site-packages\\tensorflow\\python\\pywrap_tensorflow_internal.py\", line 28, in <module>\n    _pywrap_tensorflow_internal = swig_import_helper()\n  File \"c:\\users\\scott\\anaconda3\\envs\\python35gpu\\lib\\site-packages\\tensorflow\\python\\pywrap_tensorflow_internal.py\", line 24, in swig_import_helper\n    _mod = imp.load_module('_pywrap_tensorflow_internal', fp, pathname, description)\n  File \"c:\\users\\scott\\anaconda3\\envs\\python35gpu\\lib\\imp.py\", line 242, in load_module\n    return load_dynamic(name, filename, file)\n  File \"c:\\users\\scott\\anaconda3\\envs\\python35gpu\\lib\\imp.py\", line 342, in load_dynamic\n    return _load(spec)\nImportError: DLL load failed: The specified module could not be found.\n\n\nFailed to load the native TensorFlow runtime.\n\nSee https://www.tensorflow.org/install/errors\n\nfor some common reasons and solutions.  Include the entire stack trace\nabove this error message when asking for help.",
     "output_type": "error",
     "traceback": [
      "\u001b[1;31m---------------------------------------------------------------------------\u001b[0m",
      "\u001b[1;31mImportError\u001b[0m                               Traceback (most recent call last)",
      "\u001b[1;32mc:\\users\\scott\\anaconda3\\envs\\python35gpu\\lib\\site-packages\\tensorflow\\python\\pywrap_tensorflow.py\u001b[0m in \u001b[0;36m<module>\u001b[1;34m\u001b[0m\n\u001b[0;32m     57\u001b[0m \u001b[1;33m\u001b[0m\u001b[0m\n\u001b[1;32m---> 58\u001b[1;33m   \u001b[1;32mfrom\u001b[0m \u001b[0mtensorflow\u001b[0m\u001b[1;33m.\u001b[0m\u001b[0mpython\u001b[0m\u001b[1;33m.\u001b[0m\u001b[0mpywrap_tensorflow_internal\u001b[0m \u001b[1;32mimport\u001b[0m \u001b[1;33m*\u001b[0m\u001b[1;33m\u001b[0m\u001b[0m\n\u001b[0m\u001b[0;32m     59\u001b[0m   \u001b[1;32mfrom\u001b[0m \u001b[0mtensorflow\u001b[0m\u001b[1;33m.\u001b[0m\u001b[0mpython\u001b[0m\u001b[1;33m.\u001b[0m\u001b[0mpywrap_tensorflow_internal\u001b[0m \u001b[1;32mimport\u001b[0m \u001b[0m__version__\u001b[0m\u001b[1;33m\u001b[0m\u001b[0m\n",
      "\u001b[1;32mc:\\users\\scott\\anaconda3\\envs\\python35gpu\\lib\\site-packages\\tensorflow\\python\\pywrap_tensorflow_internal.py\u001b[0m in \u001b[0;36m<module>\u001b[1;34m\u001b[0m\n\u001b[0;32m     27\u001b[0m             \u001b[1;32mreturn\u001b[0m \u001b[0m_mod\u001b[0m\u001b[1;33m\u001b[0m\u001b[0m\n\u001b[1;32m---> 28\u001b[1;33m     \u001b[0m_pywrap_tensorflow_internal\u001b[0m \u001b[1;33m=\u001b[0m \u001b[0mswig_import_helper\u001b[0m\u001b[1;33m(\u001b[0m\u001b[1;33m)\u001b[0m\u001b[1;33m\u001b[0m\u001b[0m\n\u001b[0m\u001b[0;32m     29\u001b[0m     \u001b[1;32mdel\u001b[0m \u001b[0mswig_import_helper\u001b[0m\u001b[1;33m\u001b[0m\u001b[0m\n",
      "\u001b[1;32mc:\\users\\scott\\anaconda3\\envs\\python35gpu\\lib\\site-packages\\tensorflow\\python\\pywrap_tensorflow_internal.py\u001b[0m in \u001b[0;36mswig_import_helper\u001b[1;34m()\u001b[0m\n\u001b[0;32m     23\u001b[0m             \u001b[1;32mtry\u001b[0m\u001b[1;33m:\u001b[0m\u001b[1;33m\u001b[0m\u001b[0m\n\u001b[1;32m---> 24\u001b[1;33m                 \u001b[0m_mod\u001b[0m \u001b[1;33m=\u001b[0m \u001b[0mimp\u001b[0m\u001b[1;33m.\u001b[0m\u001b[0mload_module\u001b[0m\u001b[1;33m(\u001b[0m\u001b[1;34m'_pywrap_tensorflow_internal'\u001b[0m\u001b[1;33m,\u001b[0m \u001b[0mfp\u001b[0m\u001b[1;33m,\u001b[0m \u001b[0mpathname\u001b[0m\u001b[1;33m,\u001b[0m \u001b[0mdescription\u001b[0m\u001b[1;33m)\u001b[0m\u001b[1;33m\u001b[0m\u001b[0m\n\u001b[0m\u001b[0;32m     25\u001b[0m             \u001b[1;32mfinally\u001b[0m\u001b[1;33m:\u001b[0m\u001b[1;33m\u001b[0m\u001b[0m\n",
      "\u001b[1;32mc:\\users\\scott\\anaconda3\\envs\\python35gpu\\lib\\imp.py\u001b[0m in \u001b[0;36mload_module\u001b[1;34m(name, file, filename, details)\u001b[0m\n\u001b[0;32m    241\u001b[0m         \u001b[1;32melse\u001b[0m\u001b[1;33m:\u001b[0m\u001b[1;33m\u001b[0m\u001b[0m\n\u001b[1;32m--> 242\u001b[1;33m             \u001b[1;32mreturn\u001b[0m \u001b[0mload_dynamic\u001b[0m\u001b[1;33m(\u001b[0m\u001b[0mname\u001b[0m\u001b[1;33m,\u001b[0m \u001b[0mfilename\u001b[0m\u001b[1;33m,\u001b[0m \u001b[0mfile\u001b[0m\u001b[1;33m)\u001b[0m\u001b[1;33m\u001b[0m\u001b[0m\n\u001b[0m\u001b[0;32m    243\u001b[0m     \u001b[1;32melif\u001b[0m \u001b[0mtype_\u001b[0m \u001b[1;33m==\u001b[0m \u001b[0mPKG_DIRECTORY\u001b[0m\u001b[1;33m:\u001b[0m\u001b[1;33m\u001b[0m\u001b[0m\n",
      "\u001b[1;32mc:\\users\\scott\\anaconda3\\envs\\python35gpu\\lib\\imp.py\u001b[0m in \u001b[0;36mload_dynamic\u001b[1;34m(name, path, file)\u001b[0m\n\u001b[0;32m    341\u001b[0m             name=name, loader=loader, origin=path)\n\u001b[1;32m--> 342\u001b[1;33m         \u001b[1;32mreturn\u001b[0m \u001b[0m_load\u001b[0m\u001b[1;33m(\u001b[0m\u001b[0mspec\u001b[0m\u001b[1;33m)\u001b[0m\u001b[1;33m\u001b[0m\u001b[0m\n\u001b[0m\u001b[0;32m    343\u001b[0m \u001b[1;33m\u001b[0m\u001b[0m\n",
      "\u001b[1;31mImportError\u001b[0m: DLL load failed: The specified module could not be found.",
      "\nDuring handling of the above exception, another exception occurred:\n",
      "\u001b[1;31mImportError\u001b[0m                               Traceback (most recent call last)",
      "\u001b[1;32m<ipython-input-2-22156999421e>\u001b[0m in \u001b[0;36m<module>\u001b[1;34m\u001b[0m\n\u001b[0;32m     18\u001b[0m \u001b[1;32mimport\u001b[0m \u001b[0mmatplotlib\u001b[0m\u001b[1;33m.\u001b[0m\u001b[0mpyplot\u001b[0m \u001b[1;32mas\u001b[0m \u001b[0mplt\u001b[0m\u001b[1;33m\u001b[0m\u001b[0m\n\u001b[0;32m     19\u001b[0m \u001b[1;33m\u001b[0m\u001b[0m\n\u001b[1;32m---> 20\u001b[1;33m \u001b[1;32mimport\u001b[0m \u001b[0mDataPrep\u001b[0m\u001b[1;33m\u001b[0m\u001b[0m\n\u001b[0m\u001b[0;32m     21\u001b[0m \u001b[1;32mimport\u001b[0m \u001b[0merror_evaluation\u001b[0m\u001b[1;33m\u001b[0m\u001b[0m\n",
      "\u001b[1;32mD:\\src\\GitHub\\OpenAvalancheProject\\ML\\DataPrep.py\u001b[0m in \u001b[0;36m<module>\u001b[1;34m\u001b[0m\n\u001b[0;32m      8\u001b[0m \u001b[1;32mimport\u001b[0m \u001b[0mshapely\u001b[0m\u001b[1;33m\u001b[0m\u001b[0m\n\u001b[0;32m      9\u001b[0m \u001b[1;32mimport\u001b[0m \u001b[0mshapely\u001b[0m\u001b[1;33m.\u001b[0m\u001b[0mgeometry\u001b[0m\u001b[1;33m\u001b[0m\u001b[0m\n\u001b[1;32m---> 10\u001b[1;33m \u001b[1;32mfrom\u001b[0m \u001b[0mkeras\u001b[0m\u001b[1;33m.\u001b[0m\u001b[0mpreprocessing\u001b[0m\u001b[1;33m.\u001b[0m\u001b[0msequence\u001b[0m \u001b[1;32mimport\u001b[0m \u001b[0mpad_sequences\u001b[0m\u001b[1;33m\u001b[0m\u001b[0m\n\u001b[0m\u001b[0;32m     11\u001b[0m \u001b[1;32mfrom\u001b[0m \u001b[0msklearn\u001b[0m\u001b[1;33m.\u001b[0m\u001b[0mpreprocessing\u001b[0m \u001b[1;32mimport\u001b[0m \u001b[0mMinMaxScaler\u001b[0m\u001b[1;33m,\u001b[0m \u001b[0mNormalizer\u001b[0m\u001b[1;33m\u001b[0m\u001b[0m\n\u001b[0;32m     12\u001b[0m \u001b[1;33m\u001b[0m\u001b[0m\n",
      "\u001b[1;32mc:\\users\\scott\\anaconda3\\envs\\python35gpu\\lib\\site-packages\\keras\\__init__.py\u001b[0m in \u001b[0;36m<module>\u001b[1;34m\u001b[0m\n\u001b[0;32m      1\u001b[0m \u001b[1;32mfrom\u001b[0m \u001b[0m__future__\u001b[0m \u001b[1;32mimport\u001b[0m \u001b[0mabsolute_import\u001b[0m\u001b[1;33m\u001b[0m\u001b[0m\n\u001b[0;32m      2\u001b[0m \u001b[1;33m\u001b[0m\u001b[0m\n\u001b[1;32m----> 3\u001b[1;33m \u001b[1;32mfrom\u001b[0m \u001b[1;33m.\u001b[0m \u001b[1;32mimport\u001b[0m \u001b[0mutils\u001b[0m\u001b[1;33m\u001b[0m\u001b[0m\n\u001b[0m\u001b[0;32m      4\u001b[0m \u001b[1;32mfrom\u001b[0m \u001b[1;33m.\u001b[0m \u001b[1;32mimport\u001b[0m \u001b[0mactivations\u001b[0m\u001b[1;33m\u001b[0m\u001b[0m\n\u001b[0;32m      5\u001b[0m \u001b[1;32mfrom\u001b[0m \u001b[1;33m.\u001b[0m \u001b[1;32mimport\u001b[0m \u001b[0mapplications\u001b[0m\u001b[1;33m\u001b[0m\u001b[0m\n",
      "\u001b[1;32mc:\\users\\scott\\anaconda3\\envs\\python35gpu\\lib\\site-packages\\keras\\utils\\__init__.py\u001b[0m in \u001b[0;36m<module>\u001b[1;34m\u001b[0m\n\u001b[0;32m      4\u001b[0m \u001b[1;32mfrom\u001b[0m \u001b[1;33m.\u001b[0m \u001b[1;32mimport\u001b[0m \u001b[0mdata_utils\u001b[0m\u001b[1;33m\u001b[0m\u001b[0m\n\u001b[0;32m      5\u001b[0m \u001b[1;32mfrom\u001b[0m \u001b[1;33m.\u001b[0m \u001b[1;32mimport\u001b[0m \u001b[0mio_utils\u001b[0m\u001b[1;33m\u001b[0m\u001b[0m\n\u001b[1;32m----> 6\u001b[1;33m \u001b[1;32mfrom\u001b[0m \u001b[1;33m.\u001b[0m \u001b[1;32mimport\u001b[0m \u001b[0mconv_utils\u001b[0m\u001b[1;33m\u001b[0m\u001b[0m\n\u001b[0m\u001b[0;32m      7\u001b[0m \u001b[1;33m\u001b[0m\u001b[0m\n\u001b[0;32m      8\u001b[0m \u001b[1;31m# Globally-importable utils.\u001b[0m\u001b[1;33m\u001b[0m\u001b[1;33m\u001b[0m\u001b[0m\n",
      "\u001b[1;32mc:\\users\\scott\\anaconda3\\envs\\python35gpu\\lib\\site-packages\\keras\\utils\\conv_utils.py\u001b[0m in \u001b[0;36m<module>\u001b[1;34m\u001b[0m\n\u001b[0;32m      7\u001b[0m \u001b[1;32mfrom\u001b[0m \u001b[0msix\u001b[0m\u001b[1;33m.\u001b[0m\u001b[0mmoves\u001b[0m \u001b[1;32mimport\u001b[0m \u001b[0mrange\u001b[0m\u001b[1;33m\u001b[0m\u001b[0m\n\u001b[0;32m      8\u001b[0m \u001b[1;32mimport\u001b[0m \u001b[0mnumpy\u001b[0m \u001b[1;32mas\u001b[0m \u001b[0mnp\u001b[0m\u001b[1;33m\u001b[0m\u001b[0m\n\u001b[1;32m----> 9\u001b[1;33m \u001b[1;32mfrom\u001b[0m \u001b[1;33m.\u001b[0m\u001b[1;33m.\u001b[0m \u001b[1;32mimport\u001b[0m \u001b[0mbackend\u001b[0m \u001b[1;32mas\u001b[0m \u001b[0mK\u001b[0m\u001b[1;33m\u001b[0m\u001b[0m\n\u001b[0m\u001b[0;32m     10\u001b[0m \u001b[1;33m\u001b[0m\u001b[0m\n\u001b[0;32m     11\u001b[0m \u001b[1;33m\u001b[0m\u001b[0m\n",
      "\u001b[1;32mc:\\users\\scott\\anaconda3\\envs\\python35gpu\\lib\\site-packages\\keras\\backend\\__init__.py\u001b[0m in \u001b[0;36m<module>\u001b[1;34m\u001b[0m\n\u001b[0;32m     87\u001b[0m \u001b[1;32melif\u001b[0m \u001b[0m_BACKEND\u001b[0m \u001b[1;33m==\u001b[0m \u001b[1;34m'tensorflow'\u001b[0m\u001b[1;33m:\u001b[0m\u001b[1;33m\u001b[0m\u001b[0m\n\u001b[0;32m     88\u001b[0m     \u001b[0msys\u001b[0m\u001b[1;33m.\u001b[0m\u001b[0mstderr\u001b[0m\u001b[1;33m.\u001b[0m\u001b[0mwrite\u001b[0m\u001b[1;33m(\u001b[0m\u001b[1;34m'Using TensorFlow backend.\\n'\u001b[0m\u001b[1;33m)\u001b[0m\u001b[1;33m\u001b[0m\u001b[0m\n\u001b[1;32m---> 89\u001b[1;33m     \u001b[1;32mfrom\u001b[0m \u001b[1;33m.\u001b[0m\u001b[0mtensorflow_backend\u001b[0m \u001b[1;32mimport\u001b[0m \u001b[1;33m*\u001b[0m\u001b[1;33m\u001b[0m\u001b[0m\n\u001b[0m\u001b[0;32m     90\u001b[0m \u001b[1;32melse\u001b[0m\u001b[1;33m:\u001b[0m\u001b[1;33m\u001b[0m\u001b[0m\n\u001b[0;32m     91\u001b[0m     \u001b[1;31m# Try and load external backend.\u001b[0m\u001b[1;33m\u001b[0m\u001b[1;33m\u001b[0m\u001b[0m\n",
      "\u001b[1;32mc:\\users\\scott\\anaconda3\\envs\\python35gpu\\lib\\site-packages\\keras\\backend\\tensorflow_backend.py\u001b[0m in \u001b[0;36m<module>\u001b[1;34m\u001b[0m\n\u001b[0;32m      3\u001b[0m \u001b[1;32mfrom\u001b[0m \u001b[0m__future__\u001b[0m \u001b[1;32mimport\u001b[0m \u001b[0mprint_function\u001b[0m\u001b[1;33m\u001b[0m\u001b[0m\n\u001b[0;32m      4\u001b[0m \u001b[1;33m\u001b[0m\u001b[0m\n\u001b[1;32m----> 5\u001b[1;33m \u001b[1;32mimport\u001b[0m \u001b[0mtensorflow\u001b[0m \u001b[1;32mas\u001b[0m \u001b[0mtf\u001b[0m\u001b[1;33m\u001b[0m\u001b[0m\n\u001b[0m\u001b[0;32m      6\u001b[0m \u001b[1;32mfrom\u001b[0m \u001b[0mtensorflow\u001b[0m\u001b[1;33m.\u001b[0m\u001b[0mpython\u001b[0m\u001b[1;33m.\u001b[0m\u001b[0mframework\u001b[0m \u001b[1;32mimport\u001b[0m \u001b[0mops\u001b[0m \u001b[1;32mas\u001b[0m \u001b[0mtf_ops\u001b[0m\u001b[1;33m\u001b[0m\u001b[0m\n\u001b[0;32m      7\u001b[0m \u001b[1;32mfrom\u001b[0m \u001b[0mtensorflow\u001b[0m\u001b[1;33m.\u001b[0m\u001b[0mpython\u001b[0m\u001b[1;33m.\u001b[0m\u001b[0mtraining\u001b[0m \u001b[1;32mimport\u001b[0m \u001b[0mmoving_averages\u001b[0m\u001b[1;33m\u001b[0m\u001b[0m\n",
      "\u001b[1;32mc:\\users\\scott\\anaconda3\\envs\\python35gpu\\lib\\site-packages\\tensorflow\\__init__.py\u001b[0m in \u001b[0;36m<module>\u001b[1;34m\u001b[0m\n\u001b[0;32m     22\u001b[0m \u001b[1;33m\u001b[0m\u001b[0m\n\u001b[0;32m     23\u001b[0m \u001b[1;31m# pylint: disable=g-bad-import-order\u001b[0m\u001b[1;33m\u001b[0m\u001b[1;33m\u001b[0m\u001b[0m\n\u001b[1;32m---> 24\u001b[1;33m \u001b[1;32mfrom\u001b[0m \u001b[0mtensorflow\u001b[0m\u001b[1;33m.\u001b[0m\u001b[0mpython\u001b[0m \u001b[1;32mimport\u001b[0m \u001b[0mpywrap_tensorflow\u001b[0m  \u001b[1;31m# pylint: disable=unused-import\u001b[0m\u001b[1;33m\u001b[0m\u001b[0m\n\u001b[0m\u001b[0;32m     25\u001b[0m \u001b[1;33m\u001b[0m\u001b[0m\n\u001b[0;32m     26\u001b[0m \u001b[1;32mtry\u001b[0m\u001b[1;33m:\u001b[0m\u001b[1;33m\u001b[0m\u001b[0m\n",
      "\u001b[1;32mc:\\users\\scott\\anaconda3\\envs\\python35gpu\\lib\\site-packages\\tensorflow\\python\\__init__.py\u001b[0m in \u001b[0;36m<module>\u001b[1;34m\u001b[0m\n\u001b[0;32m     47\u001b[0m \u001b[1;32mimport\u001b[0m \u001b[0mnumpy\u001b[0m \u001b[1;32mas\u001b[0m \u001b[0mnp\u001b[0m\u001b[1;33m\u001b[0m\u001b[0m\n\u001b[0;32m     48\u001b[0m \u001b[1;33m\u001b[0m\u001b[0m\n\u001b[1;32m---> 49\u001b[1;33m \u001b[1;32mfrom\u001b[0m \u001b[0mtensorflow\u001b[0m\u001b[1;33m.\u001b[0m\u001b[0mpython\u001b[0m \u001b[1;32mimport\u001b[0m \u001b[0mpywrap_tensorflow\u001b[0m\u001b[1;33m\u001b[0m\u001b[0m\n\u001b[0m\u001b[0;32m     50\u001b[0m \u001b[1;33m\u001b[0m\u001b[0m\n\u001b[0;32m     51\u001b[0m \u001b[1;32mfrom\u001b[0m \u001b[0mtensorflow\u001b[0m\u001b[1;33m.\u001b[0m\u001b[0mpython\u001b[0m\u001b[1;33m.\u001b[0m\u001b[0mtools\u001b[0m \u001b[1;32mimport\u001b[0m \u001b[0mcomponent_api_helper\u001b[0m\u001b[1;33m\u001b[0m\u001b[0m\n",
      "\u001b[1;32mc:\\users\\scott\\anaconda3\\envs\\python35gpu\\lib\\site-packages\\tensorflow\\python\\pywrap_tensorflow.py\u001b[0m in \u001b[0;36m<module>\u001b[1;34m\u001b[0m\n\u001b[0;32m     72\u001b[0m \u001b[1;32mfor\u001b[0m \u001b[0msome\u001b[0m \u001b[0mcommon\u001b[0m \u001b[0mreasons\u001b[0m \u001b[1;32mand\u001b[0m \u001b[0msolutions\u001b[0m\u001b[1;33m.\u001b[0m  \u001b[0mInclude\u001b[0m \u001b[0mthe\u001b[0m \u001b[0mentire\u001b[0m \u001b[0mstack\u001b[0m \u001b[0mtrace\u001b[0m\u001b[1;33m\u001b[0m\u001b[0m\n\u001b[0;32m     73\u001b[0m above this error message when asking for help.\"\"\" % traceback.format_exc()\n\u001b[1;32m---> 74\u001b[1;33m   \u001b[1;32mraise\u001b[0m \u001b[0mImportError\u001b[0m\u001b[1;33m(\u001b[0m\u001b[0mmsg\u001b[0m\u001b[1;33m)\u001b[0m\u001b[1;33m\u001b[0m\u001b[0m\n\u001b[0m\u001b[0;32m     75\u001b[0m \u001b[1;33m\u001b[0m\u001b[0m\n\u001b[0;32m     76\u001b[0m \u001b[1;31m# pylint: enable=wildcard-import,g-import-not-at-top,unused-import,line-too-long\u001b[0m\u001b[1;33m\u001b[0m\u001b[1;33m\u001b[0m\u001b[0m\n",
      "\u001b[1;31mImportError\u001b[0m: Traceback (most recent call last):\n  File \"c:\\users\\scott\\anaconda3\\envs\\python35gpu\\lib\\site-packages\\tensorflow\\python\\pywrap_tensorflow.py\", line 58, in <module>\n    from tensorflow.python.pywrap_tensorflow_internal import *\n  File \"c:\\users\\scott\\anaconda3\\envs\\python35gpu\\lib\\site-packages\\tensorflow\\python\\pywrap_tensorflow_internal.py\", line 28, in <module>\n    _pywrap_tensorflow_internal = swig_import_helper()\n  File \"c:\\users\\scott\\anaconda3\\envs\\python35gpu\\lib\\site-packages\\tensorflow\\python\\pywrap_tensorflow_internal.py\", line 24, in swig_import_helper\n    _mod = imp.load_module('_pywrap_tensorflow_internal', fp, pathname, description)\n  File \"c:\\users\\scott\\anaconda3\\envs\\python35gpu\\lib\\imp.py\", line 242, in load_module\n    return load_dynamic(name, filename, file)\n  File \"c:\\users\\scott\\anaconda3\\envs\\python35gpu\\lib\\imp.py\", line 342, in load_dynamic\n    return _load(spec)\nImportError: DLL load failed: The specified module could not be found.\n\n\nFailed to load the native TensorFlow runtime.\n\nSee https://www.tensorflow.org/install/errors\n\nfor some common reasons and solutions.  Include the entire stack trace\nabove this error message when asking for help."
     ]
    }
   ],
   "source": [
    "import numpy as np\n",
    "import pandas as pd\n",
    "\n",
    "from sklearn.metrics import mean_squared_error\n",
    "from sklearn.model_selection import GridSearchCV\n",
    "\n",
    "import re\n",
    "from sklearn.model_selection import train_test_split\n",
    "from sklearn.ensemble import RandomForestClassifier, GradientBoostingClassifier, AdaBoostClassifier, VotingClassifier\n",
    "from sklearn.preprocessing import Normalizer\n",
    "from sklearn.metrics import confusion_matrix, accuracy_score, classification_report\n",
    "from sklearn.model_selection import GridSearchCV\n",
    "from sklearn.model_selection import StratifiedKFold, cross_val_score\n",
    "from imblearn.ensemble import BalancedRandomForestClassifier\n",
    "import datetime\n",
    "import matplotlib\n",
    "\n",
    "import matplotlib.pyplot as plt\n",
    "\n",
    "import DataPrep\n",
    "import error_evaluation\n"
   ]
  },
  {
   "cell_type": "code",
   "execution_count": 2,
   "metadata": {},
   "outputs": [
    {
     "name": "stderr",
     "output_type": "stream",
     "text": [
      "Falling back to use azure cli credentials. This fall back to use azure cli credentials will be removed in the next release. \n",
      "Make sure your code doesn't require 'az login' to have happened before using azureml-sdk, except the case when you are specifying AzureCliAuthentication in azureml-sdk.\n"
     ]
    },
    {
     "name": "stdout",
     "output_type": "stream",
     "text": [
      "Wrote the config file config.json to: D:\\src\\GitHub\\OpenAvalancheProject\\ML\\aml_config\\config.json\n"
     ]
    }
   ],
   "source": [
    "from azureml.core import Workspace\n",
    "from azureml.core import Experiment\n",
    "ws = Workspace.get('scottchamlworkspace', subscription_id='7d2d1e21-7718-415a-b98e-780ef0b02ad5', resource_group='mlworkspacerg')\n",
    "ws.write_config()"
   ]
  },
  {
   "cell_type": "code",
   "execution_count": 9,
   "metadata": {},
   "outputs": [
    {
     "name": "stdout",
     "output_type": "stream",
     "text": [
      "Wrote the config file config.json to: D:\\src\\GitHub\\OpenAvalancheProject\\ML\\aml_config\\config.json\n"
     ]
    }
   ],
   "source": []
  },
  {
   "cell_type": "code",
   "execution_count": 122,
   "metadata": {},
   "outputs": [],
   "source": [
    "exp = Experiment(workspace=ws, name='lightgbm-exp1')"
   ]
  },
  {
   "cell_type": "code",
   "execution_count": null,
   "metadata": {},
   "outputs": [],
   "source": [
    "dp = DataPrep.DataPrep()\n",
    "X_Above_test, X_Above_train, y_Above_test, y_Above_train, X_Near_test, X_Near_train, y_Near_test, y_Near_train, X_Below_test, X_Below_train, y_Below_test, y_Below_train = dp.prep_day1_danger_train_test(input_file='E:/Data/OAPMLData/V1.1CIAC_UAC_NWAC_FeaturesWithLabels30Days20131201To20180430.csv', ignore_extreme=True, only_critical_points=False, oversample=True, only_precise_points = False, label_critical_points=True)\n"
   ]
  },
  {
   "cell_type": "code",
   "execution_count": 123,
   "metadata": {},
   "outputs": [],
   "source": []
  },
  {
   "cell_type": "code",
   "execution_count": 124,
   "metadata": {},
   "outputs": [],
   "source": [
    "run = exp.start_logging()\n",
    "run.log(name=\"Model Type\", value=\"EasyEnsembleClassifier\")\n",
    "run.log(name=\"Imbalance Correction\", value=\"Remove Low Regions\")\n",
    "run.log(name=\"Amount of Lookback\", value=\"30 days\")\n",
    "run.log(name=\"Feature Pruning\", value=\"None\")\n"
   ]
  },
  {
   "cell_type": "code",
   "execution_count": null,
   "metadata": {},
   "outputs": [],
   "source": [
    "X_Above_test.to_pickle('E:/Temp/X_test.pkl')\n",
    "X_Above_train.to_pickle('E:/Temp/X_train.pkl')\n",
    "\n",
    "y_Above_test.to_pickle('E:/Temp/y_test.pkl')\n",
    "y_Above_train.to_pickle('E:/Temp/y_train.pkl')"
   ]
  },
  {
   "cell_type": "code",
   "execution_count": 3,
   "metadata": {},
   "outputs": [],
   "source": [
    "X_Above_test = pd.read_pickle('E:/Temp/X_test.pkl')\n",
    "X_Above_train = pd.read_pickle('E:/Temp/X_train.pkl')\n",
    "\n",
    "y_Above_test = pd.read_pickle('E:/Temp/y_test.pkl')\n",
    "y_Above_train = pd.read_pickle('E:/Temp/y_train.pkl')"
   ]
  },
  {
   "cell_type": "code",
   "execution_count": 6,
   "metadata": {},
   "outputs": [
    {
     "data": {
      "text/plain": [
       "1    115837\n",
       "2     66295\n",
       "0     64432\n",
       "3     13361\n",
       "Name: o_Day1DangerAboveTreeline, dtype: int64"
      ]
     },
     "execution_count": 6,
     "metadata": {},
     "output_type": "execute_result"
    }
   ],
   "source": [
    "y_Above_train['o_Day1DangerAboveTreeline'].value_counts()"
   ]
  },
  {
   "cell_type": "code",
   "execution_count": 126,
   "metadata": {},
   "outputs": [],
   "source": [
    "X_Above_test = X_Above_test.reset_index(drop=True)\n",
    "X_Above_train = X_Above_train.reset_index(drop=True)\n",
    "y_Above_test = y_Above_test.reset_index(drop=True)\n",
    "y_Above_train = y_Above_train.reset_index(drop=True)\n",
    "synthetic_regions = ['Low West', 'Low East', 'In The Desert', 'In The Lake']\n",
    "X_Above_test = X_Above_test[~y_Above_test['UnifiedRegion'].isin(synthetic_regions)]\n",
    "X_Above_train = X_Above_train[~y_Above_train['UnifiedRegion'].isin(synthetic_regions)]\n",
    "y_Above_test = y_Above_test[~y_Above_test['UnifiedRegion'].isin(synthetic_regions)]\n",
    "y_Above_train = y_Above_train[~y_Above_train['UnifiedRegion'].isin(synthetic_regions)]\n"
   ]
  },
  {
   "cell_type": "code",
   "execution_count": 127,
   "metadata": {},
   "outputs": [
    {
     "data": {
      "text/plain": [
       "226329"
      ]
     },
     "execution_count": 127,
     "metadata": {},
     "output_type": "execute_result"
    }
   ],
   "source": [
    "len(X_Above_train)"
   ]
  },
  {
   "cell_type": "code",
   "execution_count": 112,
   "metadata": {},
   "outputs": [
    {
     "data": {
      "text/plain": [
       "226329"
      ]
     },
     "execution_count": 112,
     "metadata": {},
     "output_type": "execute_result"
    }
   ],
   "source": [
    "len(y_Above_train['o_Day1DangerAboveTreeline'].values.ravel())"
   ]
  },
  {
   "cell_type": "code",
   "execution_count": 130,
   "metadata": {},
   "outputs": [
    {
     "data": {
      "text/plain": [
       "0.49269868200716654"
      ]
     },
     "execution_count": 130,
     "metadata": {},
     "output_type": "execute_result"
    }
   ],
   "source": [
    "from imblearn.ensemble import EasyEnsembleClassifier\n",
    "#m = BalancedRandomForestClassifier(n_jobs=-1, n_estimators=1400, max_features='sqrt', min_samples_leaf=1)\n",
    "m = EasyEnsembleClassifier(n_jobs=-1, n_estimators=700)\n",
    "m.fit(X_Above_train.values, y_Above_train['o_Day1DangerAboveTreeline'].values.ravel())\n",
    "m.score(X_Above_train.values, y_Above_train['o_Day1DangerAboveTreeline'].values.ravel())\n",
    "#m.fit(X_Above_train, y_Above_train)\n",
    "#m.score(X_Above_train, y_Above_train)"
   ]
  },
  {
   "cell_type": "code",
   "execution_count": 131,
   "metadata": {},
   "outputs": [],
   "source": [
    "preds = m.predict(X_Above_test)"
   ]
  },
  {
   "cell_type": "code",
   "execution_count": 132,
   "metadata": {},
   "outputs": [
    {
     "data": {
      "text/plain": [
       "1    20555\n",
       "2    20475\n",
       "3    11148\n",
       "0    10685\n",
       "dtype: int64"
      ]
     },
     "execution_count": 132,
     "metadata": {},
     "output_type": "execute_result"
    }
   ],
   "source": [
    "pd.Series(preds).value_counts()"
   ]
  },
  {
   "cell_type": "code",
   "execution_count": 133,
   "metadata": {},
   "outputs": [
    {
     "data": {
      "text/plain": [
       "0.4921495951513609"
      ]
     },
     "execution_count": 133,
     "metadata": {},
     "output_type": "execute_result"
    }
   ],
   "source": [
    "m.score(X_Above_test.values, y_Above_test['o_Day1DangerAboveTreeline'].values.ravel())\n"
   ]
  },
  {
   "cell_type": "code",
   "execution_count": 134,
   "metadata": {},
   "outputs": [
    {
     "data": {
      "text/plain": [
       "0.5592873824053276"
      ]
     },
     "execution_count": 134,
     "metadata": {},
     "output_type": "execute_result"
    }
   ],
   "source": [
    "from sklearn.metrics import balanced_accuracy_score\n",
    "balanced_accuracy_score(y_Above_test['o_Day1DangerAboveTreeline'].values.ravel(), preds)"
   ]
  },
  {
   "cell_type": "code",
   "execution_count": 135,
   "metadata": {},
   "outputs": [
    {
     "data": {
      "text/html": [
       "<div>\n",
       "<style scoped>\n",
       "    .dataframe tbody tr th:only-of-type {\n",
       "        vertical-align: middle;\n",
       "    }\n",
       "\n",
       "    .dataframe tbody tr th {\n",
       "        vertical-align: top;\n",
       "    }\n",
       "\n",
       "    .dataframe thead th {\n",
       "        text-align: right;\n",
       "    }\n",
       "</style>\n",
       "<table border=\"1\" class=\"dataframe\">\n",
       "  <thead>\n",
       "    <tr style=\"text-align: right;\">\n",
       "      <th></th>\n",
       "      <th>n_f_APCPsurface1HourForecast</th>\n",
       "      <th>n_f_10mWindSpeed1HourForecast</th>\n",
       "      <th>n_f_APCPsurface2HourForecast</th>\n",
       "      <th>n_f_10mWindSpeed2HourForecast</th>\n",
       "      <th>n_f_APCPsurface3HourForecast</th>\n",
       "      <th>n_f_10mWindSpeed3HourForecast</th>\n",
       "      <th>n_f_APCPsurface4HourForecast</th>\n",
       "      <th>n_f_10mWindSpeed4HourForecast</th>\n",
       "      <th>n_f_APCPsurface5HourForecast</th>\n",
       "      <th>n_f_10mWindSpeed5HourForecast</th>\n",
       "      <th>...</th>\n",
       "      <th>c_r_Prev3DayFreezeThawLikeliness29InPast</th>\n",
       "      <th>c_r_Prev7DayFreezeThawLikeliness29InPast</th>\n",
       "      <th>c_r_Prev3DayWindSlabLikeliness29InPast</th>\n",
       "      <th>c_r_Prev7DayWindSlabLikeliness29InPast</th>\n",
       "      <th>c_r_Prev3DayFreezeThawLikeliness30InPast</th>\n",
       "      <th>c_r_Prev7DayFreezeThawLikeliness30InPast</th>\n",
       "      <th>c_r_Prev3DayWindSlabLikeliness30InPast</th>\n",
       "      <th>c_r_Prev7DayWindSlabLikeliness30InPast</th>\n",
       "      <th>c_IsCoastalSnowpack</th>\n",
       "      <th>c_IsContenentalSnowpack</th>\n",
       "    </tr>\n",
       "  </thead>\n",
       "  <tbody>\n",
       "    <tr>\n",
       "      <th>0</th>\n",
       "      <td>0.00</td>\n",
       "      <td>2.830390</td>\n",
       "      <td>0.01</td>\n",
       "      <td>4.166778</td>\n",
       "      <td>0.05</td>\n",
       "      <td>3.875112</td>\n",
       "      <td>0.1</td>\n",
       "      <td>3.175281</td>\n",
       "      <td>0.1</td>\n",
       "      <td>2.613486</td>\n",
       "      <td>...</td>\n",
       "      <td>1.0</td>\n",
       "      <td>1.0</td>\n",
       "      <td>1.0</td>\n",
       "      <td>1.0</td>\n",
       "      <td>1.0</td>\n",
       "      <td>1.0</td>\n",
       "      <td>1.0</td>\n",
       "      <td>1.0</td>\n",
       "      <td>0.0</td>\n",
       "      <td>1.0</td>\n",
       "    </tr>\n",
       "    <tr>\n",
       "      <th>1</th>\n",
       "      <td>3.75</td>\n",
       "      <td>0.886337</td>\n",
       "      <td>7.20</td>\n",
       "      <td>1.988536</td>\n",
       "      <td>10.30</td>\n",
       "      <td>3.408619</td>\n",
       "      <td>12.0</td>\n",
       "      <td>4.518070</td>\n",
       "      <td>12.3</td>\n",
       "      <td>5.379788</td>\n",
       "      <td>...</td>\n",
       "      <td>1.0</td>\n",
       "      <td>1.0</td>\n",
       "      <td>1.0</td>\n",
       "      <td>1.0</td>\n",
       "      <td>1.0</td>\n",
       "      <td>1.0</td>\n",
       "      <td>1.0</td>\n",
       "      <td>1.0</td>\n",
       "      <td>0.0</td>\n",
       "      <td>1.0</td>\n",
       "    </tr>\n",
       "    <tr>\n",
       "      <th>2</th>\n",
       "      <td>0.00</td>\n",
       "      <td>1.908402</td>\n",
       "      <td>0.00</td>\n",
       "      <td>1.967396</td>\n",
       "      <td>0.00</td>\n",
       "      <td>2.083212</td>\n",
       "      <td>0.0</td>\n",
       "      <td>2.519561</td>\n",
       "      <td>0.0</td>\n",
       "      <td>2.239626</td>\n",
       "      <td>...</td>\n",
       "      <td>1.0</td>\n",
       "      <td>1.0</td>\n",
       "      <td>1.0</td>\n",
       "      <td>1.0</td>\n",
       "      <td>1.0</td>\n",
       "      <td>1.0</td>\n",
       "      <td>1.0</td>\n",
       "      <td>1.0</td>\n",
       "      <td>0.0</td>\n",
       "      <td>1.0</td>\n",
       "    </tr>\n",
       "    <tr>\n",
       "      <th>3</th>\n",
       "      <td>0.00</td>\n",
       "      <td>3.232829</td>\n",
       "      <td>0.00</td>\n",
       "      <td>3.107298</td>\n",
       "      <td>0.00</td>\n",
       "      <td>3.395886</td>\n",
       "      <td>0.0</td>\n",
       "      <td>4.155732</td>\n",
       "      <td>0.0</td>\n",
       "      <td>4.745046</td>\n",
       "      <td>...</td>\n",
       "      <td>1.0</td>\n",
       "      <td>1.0</td>\n",
       "      <td>1.0</td>\n",
       "      <td>1.0</td>\n",
       "      <td>1.0</td>\n",
       "      <td>1.0</td>\n",
       "      <td>1.0</td>\n",
       "      <td>1.0</td>\n",
       "      <td>0.0</td>\n",
       "      <td>1.0</td>\n",
       "    </tr>\n",
       "    <tr>\n",
       "      <th>4</th>\n",
       "      <td>1.05</td>\n",
       "      <td>3.241758</td>\n",
       "      <td>4.12</td>\n",
       "      <td>2.425065</td>\n",
       "      <td>8.69</td>\n",
       "      <td>2.687768</td>\n",
       "      <td>14.0</td>\n",
       "      <td>3.363188</td>\n",
       "      <td>16.1</td>\n",
       "      <td>4.923554</td>\n",
       "      <td>...</td>\n",
       "      <td>1.0</td>\n",
       "      <td>1.0</td>\n",
       "      <td>1.0</td>\n",
       "      <td>1.0</td>\n",
       "      <td>1.0</td>\n",
       "      <td>1.0</td>\n",
       "      <td>1.0</td>\n",
       "      <td>1.0</td>\n",
       "      <td>0.0</td>\n",
       "      <td>1.0</td>\n",
       "    </tr>\n",
       "  </tbody>\n",
       "</table>\n",
       "<p>5 rows × 865 columns</p>\n",
       "</div>"
      ],
      "text/plain": [
       "   n_f_APCPsurface1HourForecast  n_f_10mWindSpeed1HourForecast  \\\n",
       "0                          0.00                       2.830390   \n",
       "1                          3.75                       0.886337   \n",
       "2                          0.00                       1.908402   \n",
       "3                          0.00                       3.232829   \n",
       "4                          1.05                       3.241758   \n",
       "\n",
       "   n_f_APCPsurface2HourForecast  n_f_10mWindSpeed2HourForecast  \\\n",
       "0                          0.01                       4.166778   \n",
       "1                          7.20                       1.988536   \n",
       "2                          0.00                       1.967396   \n",
       "3                          0.00                       3.107298   \n",
       "4                          4.12                       2.425065   \n",
       "\n",
       "   n_f_APCPsurface3HourForecast  n_f_10mWindSpeed3HourForecast  \\\n",
       "0                          0.05                       3.875112   \n",
       "1                         10.30                       3.408619   \n",
       "2                          0.00                       2.083212   \n",
       "3                          0.00                       3.395886   \n",
       "4                          8.69                       2.687768   \n",
       "\n",
       "   n_f_APCPsurface4HourForecast  n_f_10mWindSpeed4HourForecast  \\\n",
       "0                           0.1                       3.175281   \n",
       "1                          12.0                       4.518070   \n",
       "2                           0.0                       2.519561   \n",
       "3                           0.0                       4.155732   \n",
       "4                          14.0                       3.363188   \n",
       "\n",
       "   n_f_APCPsurface5HourForecast  n_f_10mWindSpeed5HourForecast  \\\n",
       "0                           0.1                       2.613486   \n",
       "1                          12.3                       5.379788   \n",
       "2                           0.0                       2.239626   \n",
       "3                           0.0                       4.745046   \n",
       "4                          16.1                       4.923554   \n",
       "\n",
       "            ...             c_r_Prev3DayFreezeThawLikeliness29InPast  \\\n",
       "0           ...                                                  1.0   \n",
       "1           ...                                                  1.0   \n",
       "2           ...                                                  1.0   \n",
       "3           ...                                                  1.0   \n",
       "4           ...                                                  1.0   \n",
       "\n",
       "   c_r_Prev7DayFreezeThawLikeliness29InPast  \\\n",
       "0                                       1.0   \n",
       "1                                       1.0   \n",
       "2                                       1.0   \n",
       "3                                       1.0   \n",
       "4                                       1.0   \n",
       "\n",
       "   c_r_Prev3DayWindSlabLikeliness29InPast  \\\n",
       "0                                     1.0   \n",
       "1                                     1.0   \n",
       "2                                     1.0   \n",
       "3                                     1.0   \n",
       "4                                     1.0   \n",
       "\n",
       "   c_r_Prev7DayWindSlabLikeliness29InPast  \\\n",
       "0                                     1.0   \n",
       "1                                     1.0   \n",
       "2                                     1.0   \n",
       "3                                     1.0   \n",
       "4                                     1.0   \n",
       "\n",
       "   c_r_Prev3DayFreezeThawLikeliness30InPast  \\\n",
       "0                                       1.0   \n",
       "1                                       1.0   \n",
       "2                                       1.0   \n",
       "3                                       1.0   \n",
       "4                                       1.0   \n",
       "\n",
       "   c_r_Prev7DayFreezeThawLikeliness30InPast  \\\n",
       "0                                       1.0   \n",
       "1                                       1.0   \n",
       "2                                       1.0   \n",
       "3                                       1.0   \n",
       "4                                       1.0   \n",
       "\n",
       "   c_r_Prev3DayWindSlabLikeliness30InPast  \\\n",
       "0                                     1.0   \n",
       "1                                     1.0   \n",
       "2                                     1.0   \n",
       "3                                     1.0   \n",
       "4                                     1.0   \n",
       "\n",
       "   c_r_Prev7DayWindSlabLikeliness30InPast  c_IsCoastalSnowpack  \\\n",
       "0                                     1.0                  0.0   \n",
       "1                                     1.0                  0.0   \n",
       "2                                     1.0                  0.0   \n",
       "3                                     1.0                  0.0   \n",
       "4                                     1.0                  0.0   \n",
       "\n",
       "   c_IsContenentalSnowpack  \n",
       "0                      1.0  \n",
       "1                      1.0  \n",
       "2                      1.0  \n",
       "3                      1.0  \n",
       "4                      1.0  \n",
       "\n",
       "[5 rows x 865 columns]"
      ]
     },
     "execution_count": 135,
     "metadata": {},
     "output_type": "execute_result"
    }
   ],
   "source": [
    "X_Above_test.head()"
   ]
  },
  {
   "cell_type": "code",
   "execution_count": 136,
   "metadata": {},
   "outputs": [],
   "source": [
    "preds = m.predict(X_Above_test)\n",
    "#only look at critical points\n",
    "y_Above_test_crit = y_Above_test[y_Above_test['IsCriticalPoint']==True]\n",
    "X_Above_test_crit = X_Above_test.loc[y_Above_test_crit.index, :]\n",
    "preds_crit = m.predict(X_Above_test_crit)\n",
    "#split in to forecast types\n",
    "X_Above_test_cont = X_Above_test[X_Above_test['c_IsContenentalSnowpack']==True]\n",
    "y_Above_test_cont = y_Above_test.loc[X_Above_test_cont.index, :]\n",
    "preds_cont = m.predict(X_Above_test_cont)\n",
    "y_Above_test_cont['Prediction'] = preds_cont\n",
    "\n",
    "X_Above_test_coast = X_Above_test[X_Above_test['c_IsCoastalSnowpack']==True]\n",
    "y_Above_test_coast = y_Above_test.loc[X_Above_test_coast.index, :]\n",
    "preds_coast = m.predict(X_Above_test_coast)\n",
    "y_Above_test_coast['Prediction'] = preds_coast\n",
    "\n",
    "y_Above_test['Prediction'] = preds\n",
    "#remove synthetic regions from the evaluation\n",
    "synthetic_regions = ['Low West', 'Low East', 'In The Desert', 'In The Lake']\n",
    "y_Above_test = y_Above_test[~y_Above_test['UnifiedRegion'].isin(synthetic_regions)]\n",
    "y_Above_test_cont = y_Above_test_cont[~y_Above_test_cont['UnifiedRegion'].isin(synthetic_regions)]\n",
    "y_Above_test_coast = y_Above_test_coast[~y_Above_test_coast['UnifiedRegion'].isin(synthetic_regions)]\n",
    "\n",
    "preds = y_Above_test['Prediction']\n",
    "preds_cont = y_Above_test_cont['Prediction']\n",
    "preds_coast = y_Above_test_coast['Prediction']"
   ]
  },
  {
   "cell_type": "code",
   "execution_count": 137,
   "metadata": {
    "scrolled": false
   },
   "outputs": [
    {
     "name": "stdout",
     "output_type": "stream",
     "text": [
      "Accuracy: 0.4921495951513609\n",
      "Classification Report\n",
      "              precision    recall  f1-score   support\n",
      "\n",
      "           0       0.33      0.71      0.45      4979\n",
      "           1       0.74      0.46      0.57     32996\n",
      "           2       0.43      0.46      0.44     19113\n",
      "           3       0.32      0.62      0.42      5775\n",
      "\n",
      "   micro avg       0.49      0.49      0.49     62863\n",
      "   macro avg       0.45      0.56      0.47     62863\n",
      "weighted avg       0.57      0.49      0.51     62863\n",
      "\n",
      "Normalized confusion matrix\n",
      "Confusion matrix, without normalization\n",
      "Accuracy: 0.4850147741663149\n",
      "Classification Report\n",
      "              precision    recall  f1-score   support\n",
      "\n",
      "           0       0.38      0.68      0.49       184\n",
      "           1       0.76      0.42      0.54      1226\n",
      "           2       0.41      0.48      0.44       735\n",
      "           3       0.32      0.72      0.44       224\n",
      "\n",
      "   micro avg       0.49      0.49      0.49      2369\n",
      "   macro avg       0.47      0.57      0.48      2369\n",
      "weighted avg       0.58      0.49      0.50      2369\n",
      "\n",
      "Normalized confusion matrix\n",
      "Confusion matrix, without normalization\n",
      "Accuracy: 0.5045677294452175\n",
      "Classification Report\n",
      "              precision    recall  f1-score   support\n",
      "\n",
      "           0       0.39      0.74      0.51      4770\n",
      "           1       0.81      0.43      0.56     20148\n",
      "           2       0.35      0.46      0.40      6421\n",
      "           3       0.32      0.87      0.47      1719\n",
      "\n",
      "   micro avg       0.50      0.50      0.50     33058\n",
      "   macro avg       0.47      0.62      0.48     33058\n",
      "weighted avg       0.63      0.50      0.52     33058\n",
      "\n",
      "Normalized confusion matrix\n",
      "Confusion matrix, without normalization\n",
      "Accuracy: 0.47837611139070624\n",
      "Classification Report\n",
      "              precision    recall  f1-score   support\n",
      "\n",
      "           0       0.00      0.03      0.01       209\n",
      "           1       0.66      0.50      0.57     12848\n",
      "           2       0.48      0.45      0.47     12692\n",
      "           3       0.32      0.51      0.39      4056\n",
      "\n",
      "   micro avg       0.48      0.48      0.48     29805\n",
      "   macro avg       0.37      0.37      0.36     29805\n",
      "weighted avg       0.53      0.48      0.50     29805\n",
      "\n",
      "Normalized confusion matrix\n",
      "Confusion matrix, without normalization\n"
     ]
    },
    {
     "data": {
      "text/plain": [
       "<Figure size 432x288 with 0 Axes>"
      ]
     },
     "metadata": {},
     "output_type": "display_data"
    },
    {
     "data": {
      "image/png": "[encoded data removed]",
      "text/plain": [
       "<Figure size 432x288 with 2 Axes>"
      ]
     },
     "metadata": {
      "needs_background": "light"
     },
     "output_type": "display_data"
    },
    {
     "data": {
      "text/plain": [
       "<Figure size 432x288 with 0 Axes>"
      ]
     },
     "metadata": {},
     "output_type": "display_data"
    },
    {
     "data": {
      "image/png": "[encoded data removed]",
      "text/plain": [
       "<Figure size 432x288 with 2 Axes>"
      ]
     },
     "metadata": {
      "needs_background": "light"
     },
     "output_type": "display_data"
    },
    {
     "data": {
      "text/plain": [
       "<Figure size 432x288 with 0 Axes>"
      ]
     },
     "metadata": {},
     "output_type": "display_data"
    },
    {
     "data": {
      "image/png": "[encoded data removed]",
      "text/plain": [
       "<Figure size 432x288 with 2 Axes>"
      ]
     },
     "metadata": {
      "needs_background": "light"
     },
     "output_type": "display_data"
    },
    {
     "data": {
      "text/plain": [
       "<Figure size 432x288 with 0 Axes>"
      ]
     },
     "metadata": {},
     "output_type": "display_data"
    },
    {
     "data": {
      "image/png": "[encoded data removed]",
      "text/plain": [
       "<Figure size 432x288 with 2 Axes>"
      ]
     },
     "metadata": {
      "needs_background": "light"
     },
     "output_type": "display_data"
    },
    {
     "data": {
      "text/plain": [
       "<Figure size 432x288 with 0 Axes>"
      ]
     },
     "metadata": {},
     "output_type": "display_data"
    },
    {
     "data": {
      "image/png": "[encoded data removed]",
      "text/plain": [
       "<Figure size 432x288 with 2 Axes>"
      ]
     },
     "metadata": {
      "needs_background": "light"
     },
     "output_type": "display_data"
    },
    {
     "data": {
      "text/plain": [
       "<Figure size 432x288 with 0 Axes>"
      ]
     },
     "metadata": {},
     "output_type": "display_data"
    },
    {
     "data": {
      "image/png": "[encoded data removed]",
      "text/plain": [
       "<Figure size 432x288 with 2 Axes>"
      ]
     },
     "metadata": {
      "needs_background": "light"
     },
     "output_type": "display_data"
    },
    {
     "data": {
      "text/plain": [
       "<Figure size 432x288 with 0 Axes>"
      ]
     },
     "metadata": {},
     "output_type": "display_data"
    },
    {
     "data": {
      "image/png": "[encoded data removed]",
      "text/plain": [
       "<Figure size 432x288 with 2 Axes>"
      ]
     },
     "metadata": {
      "needs_background": "light"
     },
     "output_type": "display_data"
    },
    {
     "data": {
      "text/plain": [
       "<Figure size 432x288 with 0 Axes>"
      ]
     },
     "metadata": {},
     "output_type": "display_data"
    },
    {
     "data": {
      "image/png": "[encoded data removed]",
      "text/plain": [
       "<Figure size 432x288 with 2 Axes>"
      ]
     },
     "metadata": {
      "needs_background": "light"
     },
     "output_type": "display_data"
    }
   ],
   "source": [
    "\n",
    "report_all = error_evaluation.evaluateSingleClassShort(y_Above_test['o_Day1DangerAboveTreeline'], preds)\n",
    "cnf_matrix = confusion_matrix(y_Above_test['o_Day1DangerAboveTreeline'], preds)\n",
    "plt.figure()\n",
    "figure_all_norm = error_evaluation.plot_confusion_matrix(cnf_matrix, classes=['Low', 'Moderate', 'Considerable', 'High'], normalize=True,\n",
    "                                                         title='Normalized confusion matrix')\n",
    "\n",
    "plt.figure()\n",
    "figure_all = error_evaluation.plot_confusion_matrix(cnf_matrix, classes=['Low', 'Moderate', 'Considerable', 'High'],\n",
    "                          title='Confusion matrix, without normalization')\n",
    "plt.figure()\n",
    "report_crit = error_evaluation.evaluateSingleClassShort(y_Above_test_crit['o_Day1DangerAboveTreeline'], preds_crit)\n",
    "cnf_matrix_crit = confusion_matrix(y_Above_test_crit['o_Day1DangerAboveTreeline'], preds_crit)\n",
    "\n",
    "figure_crit_norm = error_evaluation.plot_confusion_matrix(cnf_matrix_crit, classes=['Low', 'Moderate', 'Considerable', 'High'], normalize=True,\n",
    "                          title='Critcial Point Normalized confusion matrix')\n",
    "plt.figure()\n",
    "figure_crit = error_evaluation.plot_confusion_matrix(cnf_matrix_crit, classes=['Low', 'Moderate', 'Considerable', 'High'],\n",
    "                          title='Critcial Point Confusion matrix, without normalization')\n",
    "\n",
    "plt.figure()\n",
    "report_cont = error_evaluation.evaluateSingleClassShort(y_Above_test_cont['o_Day1DangerAboveTreeline'], preds_cont)\n",
    "cnf_matrix_cont = confusion_matrix(y_Above_test_cont['o_Day1DangerAboveTreeline'], preds_cont)\n",
    "\n",
    "figure_cont_norm = error_evaluation.plot_confusion_matrix(cnf_matrix_cont, classes=['Low', 'Moderate', 'Considerable', 'High'], normalize=True,\n",
    "                          title='Continental Forecast Normalized confusion matrix')\n",
    "plt.figure()\n",
    "figure_cont = error_evaluation.plot_confusion_matrix(cnf_matrix_cont, classes=['Low', 'Moderate', 'Considerable', 'High'],\n",
    "                          title='Continental Forecast Confusion matrix, without normalization')\n",
    "\n",
    "plt.figure()\n",
    "report_coast = error_evaluation.evaluateSingleClassShort(y_Above_test_coast['o_Day1DangerAboveTreeline'], preds_coast)\n",
    "cnf_matrix_coast = confusion_matrix(y_Above_test_coast['o_Day1DangerAboveTreeline'], preds_coast)\n",
    "\n",
    "figure_coast_norm = error_evaluation.plot_confusion_matrix(cnf_matrix_coast, classes=['Low', 'Moderate', 'Considerable', 'High'], normalize=True,\n",
    "                          title='Coastal Forecast Normalized confusion matrix')\n",
    "plt.figure()\n",
    "figure_coast = error_evaluation.plot_confusion_matrix(cnf_matrix_coast, classes=['Low', 'Moderate', 'Considerable', 'High'],\n",
    "                          title='Coastal Forecast Confusion matrix, without normalization')\n",
    "plt.show()"
   ]
  },
  {
   "cell_type": "code",
   "execution_count": 138,
   "metadata": {},
   "outputs": [
    {
     "name": "stderr",
     "output_type": "stream",
     "text": [
      "Converted key Parameters of value {'sampling_strategy': 'auto', 'n_jobs': -1, 'base_estimator': None, 'replacement': False, 'random_state': None, 'warm_start': False, 'n_estimators': 700, 'verbose': 0} to {'sampling_strategy': 'auto', 'n_jobs': -1, 'base_estimator': None, 'replacement': False, 'random_state': None, 'warm_start': False, 'n_estimators': 700, 'verbose': 0}.\n",
      "\n"
     ]
    }
   ],
   "source": [
    "run.log(name='Micro Avg F1', value=report_all['micro avg']['f1-score'])\n",
    "\n",
    "run.log_image(name='All Regions', plot=figure_all_norm)\n",
    "run.log_image(name='Critical Points', plot=figure_crit_norm)\n",
    "run.log_image(name='Contenental Points', plot=figure_cont_norm)\n",
    "run.log_image(name='Coastal Points', plot=figure_coast_norm)\n",
    "\n",
    "run.log(name='All Low f1', value=report_all['0']['f1-score'])\n",
    "run.log(name='All Moderate f1', value=report_all['1']['f1-score'])\n",
    "run.log(name='All Considerable f1', value=report_all['2']['f1-score'])\n",
    "run.log(name='All High f1', value=report_all['3']['f1-score'])\n",
    "run.log(name='All Micro Avg F1', value=report_all['micro avg']['f1-score'])\n",
    "\n",
    "run.log(name='Crit Low f1', value=report_crit['0']['f1-score'])\n",
    "run.log(name='Crit Moderate f1', value=report_crit['1']['f1-score'])\n",
    "run.log(name='Crit Considerable f1', value=report_crit['2']['f1-score'])\n",
    "run.log(name='Crit High f1', value=report_crit['3']['f1-score'])\n",
    "run.log(name='Crit Micro Avg F1', value=report_crit['micro avg']['f1-score'])\n",
    "\n",
    "run.log(name='Cont Low f1', value=report_cont['0']['f1-score'])\n",
    "run.log(name='Cont Moderate f1', value=report_cont['1']['f1-score'])\n",
    "run.log(name='Cont Considerable f1', value=report_cont['2']['f1-score'])\n",
    "run.log(name='Cont High f1', value=report_cont['3']['f1-score'])\n",
    "run.log(name='Cont Micro Avg F1', value=report_cont['micro avg']['f1-score'])\n",
    "\n",
    "run.log(name='Coast Low f1', value=report_coast['0']['f1-score'])\n",
    "run.log(name='Coast Moderate f1', value=report_coast['1']['f1-score'])\n",
    "run.log(name='Coast Considerable f1', value=report_coast['2']['f1-score'])\n",
    "run.log(name='Coast High f1', value=report_coast['3']['f1-score'])\n",
    "run.log(name='Coast Micro Avg F1', value=report_coast['micro avg']['f1-score'])\n",
    "\n",
    "run.log(name='Parameters', value=m.get_params())\n",
    "run.complete()\n"
   ]
  },
  {
   "cell_type": "code",
   "execution_count": 105,
   "metadata": {},
   "outputs": [],
   "source": [
    "from sklearn.model_selection import TimeSeriesSplit\n",
    "tscv = TimeSeriesSplit(n_splits=2)"
   ]
  },
  {
   "cell_type": "code",
   "execution_count": 106,
   "metadata": {},
   "outputs": [
    {
     "name": "stdout",
     "output_type": "stream",
     "text": [
      "Fitting 2 folds for each of 8 candidates, totalling 16 fits\n"
     ]
    },
    {
     "name": "stderr",
     "output_type": "stream",
     "text": [
      "[Parallel(n_jobs=6)]: Using backend LokyBackend with 6 concurrent workers.\n",
      "[Parallel(n_jobs=6)]: Done   1 tasks      | elapsed: 59.4min\n",
      "[Parallel(n_jobs=6)]: Done   7 out of  16 | elapsed: 118.8min remaining: 152.7min\n",
      "[Parallel(n_jobs=6)]: Done   9 out of  16 | elapsed: 129.1min remaining: 100.4min\n",
      "[Parallel(n_jobs=6)]: Done  11 out of  16 | elapsed: 143.3min remaining: 65.1min\n",
      "[Parallel(n_jobs=6)]: Done  13 out of  16 | elapsed: 162.5min remaining: 37.5min\n",
      "[Parallel(n_jobs=6)]: Done  16 out of  16 | elapsed: 6454.8min finished\n"
     ]
    },
    {
     "name": "stdout",
     "output_type": "stream",
     "text": [
      "{'min_samples_leaf': 1, 'n_estimators': 700, 'max_features': 'sqrt'}\n",
      "0.608274 (0.011996) with: {'min_samples_leaf': 1, 'n_estimators': 500, 'max_features': None}\n",
      "0.608506 (0.013023) with: {'min_samples_leaf': 1, 'n_estimators': 700, 'max_features': None}\n",
      "0.600579 (0.014256) with: {'min_samples_leaf': 3, 'n_estimators': 500, 'max_features': None}\n",
      "0.599645 (0.012486) with: {'min_samples_leaf': 3, 'n_estimators': 700, 'max_features': None}\n",
      "0.613198 (0.015449) with: {'min_samples_leaf': 1, 'n_estimators': 500, 'max_features': 'sqrt'}\n",
      "0.614921 (0.014813) with: {'min_samples_leaf': 1, 'n_estimators': 700, 'max_features': 'sqrt'}\n",
      "0.604403 (0.019286) with: {'min_samples_leaf': 3, 'n_estimators': 500, 'max_features': 'sqrt'}\n",
      "0.604894 (0.016648) with: {'min_samples_leaf': 3, 'n_estimators': 700, 'max_features': 'sqrt'}\n"
     ]
    }
   ],
   "source": [
    "from sklearn.model_selection import GridSearchCV\n",
    "from sklearn.model_selection import StratifiedKFold, cross_val_score\n",
    "param_grid = { \n",
    "    'n_estimators': [500, 700],\n",
    "    'max_features': [None, 'sqrt'],\n",
    "    'min_samples_leaf': [1, 3]\n",
    "}\n",
    "m = BalancedRandomForestClassifier(n_jobs=2)\n",
    "CV_rfc = GridSearchCV(estimator=m, param_grid=param_grid, scoring=\"f1_micro\", cv=tscv, n_jobs=6, verbose=10)\n",
    "CV_rfc.fit(X_Above_train.values, y_Above_train['o_Day1DangerAboveTreeline'].values.ravel())\n",
    "print(CV_rfc.best_params_)\n",
    "means = CV_rfc.cv_results_['mean_test_score']\n",
    "stds = CV_rfc.cv_results_['std_test_score']\n",
    "params = CV_rfc.cv_results_['params']\n",
    "for mean, stdev, param in zip(means, stds, params):\n",
    "    print(\"%f (%f) with: %r\" % (mean, stdev, param))"
   ]
  },
  {
   "cell_type": "code",
   "execution_count": null,
   "metadata": {},
   "outputs": [],
   "source": [
    "y_Above_test.to_csv(\"evaluate_prediction2.csv\")"
   ]
  },
  {
   "cell_type": "code",
   "execution_count": null,
   "metadata": {},
   "outputs": [],
   "source": [
    "from plotly import __version__\n",
    "from plotly.offline import download_plotlyjs, init_notebook_mode, plot, iplot\n",
    "\n",
    "print(__version__)\n",
    "init_notebook_mode(connected=True)"
   ]
  },
  {
   "cell_type": "code",
   "execution_count": null,
   "metadata": {},
   "outputs": [],
   "source": [
    "to_plot = y_Above_test[y_Above_test['o_Day1DangerAboveTreeline']=='High']\n",
    "\n",
    "data = [ dict(\n",
    "        type = 'scattergeo',\n",
    "        locationmode = 'USA-states',\n",
    "        lat = to_plot['Lat'].values,\n",
    "        lon = to_plot['Lon'].values,\n",
    "        text = 'High',\n",
    "        mode = 'markers',\n",
    "        marker = dict(\n",
    "            size = 1,\n",
    "            opacity = 0.8,\n",
    "            reversescale = True,\n",
    "            autocolorscale = True,\n",
    "            symbol = 'square',\n",
    "            line = dict(\n",
    "                width=1,\n",
    "                color='rgba(102, 102, 102)'\n",
    "            )\n",
    "       \n",
    "        ))]\n",
    "layout = dict(\n",
    "        title = 'Test Prediction Points',\n",
    "        \n",
    "        geo = dict(\n",
    "            scope='usa',\n",
    "            projection=dict( type='albers usa' ),\n",
    "            showland = True,\n",
    "            landcolor = \"rgb(250, 250, 250)\",\n",
    "            subunitcolor = \"rgb(217, 217, 217)\",\n",
    "            countrycolor = \"rgb(217, 217, 217)\",\n",
    "            countrywidth = 0.5,\n",
    "            subunitwidth = 0.5\n",
    "        ),\n",
    "    )\n",
    "\n",
    "fig = dict( data=data, layout=layout )\n",
    "iplot( fig )"
   ]
  },
  {
   "cell_type": "code",
   "execution_count": null,
   "metadata": {},
   "outputs": [],
   "source": [
    "to_plot.to_csv(\"outsample.csv\")"
   ]
  },
  {
   "cell_type": "code",
   "execution_count": 23,
   "metadata": {},
   "outputs": [],
   "source": [
    "importances = pd.Series(m.feature_importances_)\n",
    "out = pd.concat([pd.Series(X_Above_train.columns), importances], axis=1)\n",
    "out.columns=['Feature','Score']"
   ]
  },
  {
   "cell_type": "code",
   "execution_count": 26,
   "metadata": {},
   "outputs": [
    {
     "data": {
      "text/html": [
       "<div>\n",
       "<style scoped>\n",
       "    .dataframe tbody tr th:only-of-type {\n",
       "        vertical-align: middle;\n",
       "    }\n",
       "\n",
       "    .dataframe tbody tr th {\n",
       "        vertical-align: top;\n",
       "    }\n",
       "\n",
       "    .dataframe thead th {\n",
       "        text-align: right;\n",
       "    }\n",
       "</style>\n",
       "<table border=\"1\" class=\"dataframe\">\n",
       "  <thead>\n",
       "    <tr style=\"text-align: right;\">\n",
       "      <th></th>\n",
       "      <th>Feature</th>\n",
       "      <th>Score</th>\n",
       "    </tr>\n",
       "  </thead>\n",
       "  <tbody>\n",
       "    <tr>\n",
       "      <th>47</th>\n",
       "      <td>n_f_10mWindSpeedMax</td>\n",
       "      <td>0.002704</td>\n",
       "    </tr>\n",
       "    <tr>\n",
       "      <th>117</th>\n",
       "      <td>n_r_SNOWDAS_SolidPrecip_kgpersquarem2InPast</td>\n",
       "      <td>0.002619</td>\n",
       "    </tr>\n",
       "    <tr>\n",
       "      <th>157</th>\n",
       "      <td>n_r_SNOWDAS_SnowDepth_mm4InPast</td>\n",
       "      <td>0.002598</td>\n",
       "    </tr>\n",
       "    <tr>\n",
       "      <th>0</th>\n",
       "      <td>n_f_APCPsurface1HourForecast</td>\n",
       "      <td>0.002594</td>\n",
       "    </tr>\n",
       "    <tr>\n",
       "      <th>180</th>\n",
       "      <td>n_r_SNOWDAS_SWE_mm5InPast</td>\n",
       "      <td>0.002575</td>\n",
       "    </tr>\n",
       "    <tr>\n",
       "      <th>64</th>\n",
       "      <td>n_r_Prev1dayMinTemp</td>\n",
       "      <td>0.002543</td>\n",
       "    </tr>\n",
       "    <tr>\n",
       "      <th>80</th>\n",
       "      <td>n_r_Prev3dayMaxTemp1InPast</td>\n",
       "      <td>0.002453</td>\n",
       "    </tr>\n",
       "    <tr>\n",
       "      <th>57</th>\n",
       "      <td>n_r_Prev3DayMax10mWind</td>\n",
       "      <td>0.002452</td>\n",
       "    </tr>\n",
       "    <tr>\n",
       "      <th>158</th>\n",
       "      <td>n_r_SNOWDAS_SWE_mm4InPast</td>\n",
       "      <td>0.002378</td>\n",
       "    </tr>\n",
       "    <tr>\n",
       "      <th>202</th>\n",
       "      <td>n_r_SNOWDAS_SWE_mm6InPast</td>\n",
       "      <td>0.002360</td>\n",
       "    </tr>\n",
       "    <tr>\n",
       "      <th>223</th>\n",
       "      <td>n_r_SNOWDAS_SnowDepth_mm7InPast</td>\n",
       "      <td>0.002252</td>\n",
       "    </tr>\n",
       "    <tr>\n",
       "      <th>179</th>\n",
       "      <td>n_r_SNOWDAS_SnowDepth_mm5InPast</td>\n",
       "      <td>0.002235</td>\n",
       "    </tr>\n",
       "    <tr>\n",
       "      <th>102</th>\n",
       "      <td>n_r_Prev3dayMaxTemp2InPast</td>\n",
       "      <td>0.002199</td>\n",
       "    </tr>\n",
       "    <tr>\n",
       "      <th>61</th>\n",
       "      <td>n_r_Prev7dayMinTemp</td>\n",
       "      <td>0.002195</td>\n",
       "    </tr>\n",
       "    <tr>\n",
       "      <th>201</th>\n",
       "      <td>n_r_SNOWDAS_SnowDepth_mm6InPast</td>\n",
       "      <td>0.002188</td>\n",
       "    </tr>\n",
       "    <tr>\n",
       "      <th>224</th>\n",
       "      <td>n_r_SNOWDAS_SWE_mm7InPast</td>\n",
       "      <td>0.002116</td>\n",
       "    </tr>\n",
       "    <tr>\n",
       "      <th>78</th>\n",
       "      <td>n_r_Prev3daySnowAccumulation1InPast</td>\n",
       "      <td>0.002096</td>\n",
       "    </tr>\n",
       "    <tr>\n",
       "      <th>152</th>\n",
       "      <td>n_r_Prev1dayMaxTemp4InPast</td>\n",
       "      <td>0.002059</td>\n",
       "    </tr>\n",
       "    <tr>\n",
       "      <th>101</th>\n",
       "      <td>n_r_Prev7daySnowAccumulation2InPast</td>\n",
       "      <td>0.002055</td>\n",
       "    </tr>\n",
       "    <tr>\n",
       "      <th>116</th>\n",
       "      <td>n_r_SNOWDAS_Sublimation_micromm2InPast</td>\n",
       "      <td>0.002050</td>\n",
       "    </tr>\n",
       "    <tr>\n",
       "      <th>130</th>\n",
       "      <td>n_r_Prev1dayMaxTemp3InPast</td>\n",
       "      <td>0.002049</td>\n",
       "    </tr>\n",
       "    <tr>\n",
       "      <th>182</th>\n",
       "      <td>n_r_SNOWDAS_Sublimation_micromm5InPast</td>\n",
       "      <td>0.002046</td>\n",
       "    </tr>\n",
       "    <tr>\n",
       "      <th>138</th>\n",
       "      <td>n_r_SNOWDAS_Sublimation_micromm3InPast</td>\n",
       "      <td>0.002041</td>\n",
       "    </tr>\n",
       "    <tr>\n",
       "      <th>72</th>\n",
       "      <td>n_r_SNOWDAS_Sublimation_micromm</td>\n",
       "      <td>0.002035</td>\n",
       "    </tr>\n",
       "    <tr>\n",
       "      <th>94</th>\n",
       "      <td>n_r_SNOWDAS_Sublimation_micromm1InPast</td>\n",
       "      <td>0.002033</td>\n",
       "    </tr>\n",
       "    <tr>\n",
       "      <th>160</th>\n",
       "      <td>n_r_SNOWDAS_Sublimation_micromm4InPast</td>\n",
       "      <td>0.002029</td>\n",
       "    </tr>\n",
       "    <tr>\n",
       "      <th>87</th>\n",
       "      <td>n_r_Prev1DayMax10mWind1InPast</td>\n",
       "      <td>0.001979</td>\n",
       "    </tr>\n",
       "    <tr>\n",
       "      <th>58</th>\n",
       "      <td>n_r_Prev3dayMinTemp</td>\n",
       "      <td>0.001968</td>\n",
       "    </tr>\n",
       "    <tr>\n",
       "      <th>51</th>\n",
       "      <td>n_f_10mWindSpeed</td>\n",
       "      <td>0.001958</td>\n",
       "    </tr>\n",
       "    <tr>\n",
       "      <th>59</th>\n",
       "      <td>n_r_Prev7dayMaxTemp</td>\n",
       "      <td>0.001901</td>\n",
       "    </tr>\n",
       "    <tr>\n",
       "      <th>...</th>\n",
       "      <td>...</td>\n",
       "      <td>...</td>\n",
       "    </tr>\n",
       "    <tr>\n",
       "      <th>808</th>\n",
       "      <td>c_r_Prev7DayFreezeThawLikeliness17InPast</td>\n",
       "      <td>0.000076</td>\n",
       "    </tr>\n",
       "    <tr>\n",
       "      <th>816</th>\n",
       "      <td>c_r_Prev7DayFreezeThawLikeliness19InPast</td>\n",
       "      <td>0.000076</td>\n",
       "    </tr>\n",
       "    <tr>\n",
       "      <th>860</th>\n",
       "      <td>c_r_Prev7DayFreezeThawLikeliness30InPast</td>\n",
       "      <td>0.000068</td>\n",
       "    </tr>\n",
       "    <tr>\n",
       "      <th>752</th>\n",
       "      <td>c_r_Prev7DayFreezeThawLikeliness3InPast</td>\n",
       "      <td>0.000068</td>\n",
       "    </tr>\n",
       "    <tr>\n",
       "      <th>848</th>\n",
       "      <td>c_r_Prev7DayFreezeThawLikeliness27InPast</td>\n",
       "      <td>0.000066</td>\n",
       "    </tr>\n",
       "    <tr>\n",
       "      <th>739</th>\n",
       "      <td>c_r_Prev7DayFreezeThawLikeliness</td>\n",
       "      <td>0.000066</td>\n",
       "    </tr>\n",
       "    <tr>\n",
       "      <th>748</th>\n",
       "      <td>c_r_Prev7DayFreezeThawLikeliness2InPast</td>\n",
       "      <td>0.000065</td>\n",
       "    </tr>\n",
       "    <tr>\n",
       "      <th>800</th>\n",
       "      <td>c_r_Prev7DayFreezeThawLikeliness15InPast</td>\n",
       "      <td>0.000065</td>\n",
       "    </tr>\n",
       "    <tr>\n",
       "      <th>776</th>\n",
       "      <td>c_r_Prev7DayFreezeThawLikeliness9InPast</td>\n",
       "      <td>0.000064</td>\n",
       "    </tr>\n",
       "    <tr>\n",
       "      <th>756</th>\n",
       "      <td>c_r_Prev7DayFreezeThawLikeliness4InPast</td>\n",
       "      <td>0.000063</td>\n",
       "    </tr>\n",
       "    <tr>\n",
       "      <th>840</th>\n",
       "      <td>c_r_Prev7DayFreezeThawLikeliness25InPast</td>\n",
       "      <td>0.000063</td>\n",
       "    </tr>\n",
       "    <tr>\n",
       "      <th>812</th>\n",
       "      <td>c_r_Prev7DayFreezeThawLikeliness18InPast</td>\n",
       "      <td>0.000063</td>\n",
       "    </tr>\n",
       "    <tr>\n",
       "      <th>832</th>\n",
       "      <td>c_r_Prev7DayFreezeThawLikeliness23InPast</td>\n",
       "      <td>0.000063</td>\n",
       "    </tr>\n",
       "    <tr>\n",
       "      <th>804</th>\n",
       "      <td>c_r_Prev7DayFreezeThawLikeliness16InPast</td>\n",
       "      <td>0.000063</td>\n",
       "    </tr>\n",
       "    <tr>\n",
       "      <th>820</th>\n",
       "      <td>c_r_Prev7DayFreezeThawLikeliness20InPast</td>\n",
       "      <td>0.000063</td>\n",
       "    </tr>\n",
       "    <tr>\n",
       "      <th>844</th>\n",
       "      <td>c_r_Prev7DayFreezeThawLikeliness26InPast</td>\n",
       "      <td>0.000062</td>\n",
       "    </tr>\n",
       "    <tr>\n",
       "      <th>780</th>\n",
       "      <td>c_r_Prev7DayFreezeThawLikeliness10InPast</td>\n",
       "      <td>0.000059</td>\n",
       "    </tr>\n",
       "    <tr>\n",
       "      <th>852</th>\n",
       "      <td>c_r_Prev7DayFreezeThawLikeliness28InPast</td>\n",
       "      <td>0.000058</td>\n",
       "    </tr>\n",
       "    <tr>\n",
       "      <th>796</th>\n",
       "      <td>c_r_Prev7DayFreezeThawLikeliness14InPast</td>\n",
       "      <td>0.000057</td>\n",
       "    </tr>\n",
       "    <tr>\n",
       "      <th>772</th>\n",
       "      <td>c_r_Prev7DayFreezeThawLikeliness8InPast</td>\n",
       "      <td>0.000053</td>\n",
       "    </tr>\n",
       "    <tr>\n",
       "      <th>828</th>\n",
       "      <td>c_r_Prev7DayFreezeThawLikeliness22InPast</td>\n",
       "      <td>0.000053</td>\n",
       "    </tr>\n",
       "    <tr>\n",
       "      <th>836</th>\n",
       "      <td>c_r_Prev7DayFreezeThawLikeliness24InPast</td>\n",
       "      <td>0.000052</td>\n",
       "    </tr>\n",
       "    <tr>\n",
       "      <th>788</th>\n",
       "      <td>c_r_Prev7DayFreezeThawLikeliness12InPast</td>\n",
       "      <td>0.000052</td>\n",
       "    </tr>\n",
       "    <tr>\n",
       "      <th>784</th>\n",
       "      <td>c_r_Prev7DayFreezeThawLikeliness11InPast</td>\n",
       "      <td>0.000049</td>\n",
       "    </tr>\n",
       "    <tr>\n",
       "      <th>760</th>\n",
       "      <td>c_r_Prev7DayFreezeThawLikeliness5InPast</td>\n",
       "      <td>0.000049</td>\n",
       "    </tr>\n",
       "    <tr>\n",
       "      <th>764</th>\n",
       "      <td>c_r_Prev7DayFreezeThawLikeliness6InPast</td>\n",
       "      <td>0.000048</td>\n",
       "    </tr>\n",
       "    <tr>\n",
       "      <th>744</th>\n",
       "      <td>c_r_Prev7DayFreezeThawLikeliness1InPast</td>\n",
       "      <td>0.000047</td>\n",
       "    </tr>\n",
       "    <tr>\n",
       "      <th>824</th>\n",
       "      <td>c_r_Prev7DayFreezeThawLikeliness21InPast</td>\n",
       "      <td>0.000045</td>\n",
       "    </tr>\n",
       "    <tr>\n",
       "      <th>768</th>\n",
       "      <td>c_r_Prev7DayFreezeThawLikeliness7InPast</td>\n",
       "      <td>0.000040</td>\n",
       "    </tr>\n",
       "    <tr>\n",
       "      <th>742</th>\n",
       "      <td>c_f_LongTermColdTemps</td>\n",
       "      <td>0.000000</td>\n",
       "    </tr>\n",
       "  </tbody>\n",
       "</table>\n",
       "<p>815 rows × 2 columns</p>\n",
       "</div>"
      ],
      "text/plain": [
       "                                         Feature     Score\n",
       "47                           n_f_10mWindSpeedMax  0.002704\n",
       "117  n_r_SNOWDAS_SolidPrecip_kgpersquarem2InPast  0.002619\n",
       "157              n_r_SNOWDAS_SnowDepth_mm4InPast  0.002598\n",
       "0                   n_f_APCPsurface1HourForecast  0.002594\n",
       "180                    n_r_SNOWDAS_SWE_mm5InPast  0.002575\n",
       "64                           n_r_Prev1dayMinTemp  0.002543\n",
       "80                    n_r_Prev3dayMaxTemp1InPast  0.002453\n",
       "57                        n_r_Prev3DayMax10mWind  0.002452\n",
       "158                    n_r_SNOWDAS_SWE_mm4InPast  0.002378\n",
       "202                    n_r_SNOWDAS_SWE_mm6InPast  0.002360\n",
       "223              n_r_SNOWDAS_SnowDepth_mm7InPast  0.002252\n",
       "179              n_r_SNOWDAS_SnowDepth_mm5InPast  0.002235\n",
       "102                   n_r_Prev3dayMaxTemp2InPast  0.002199\n",
       "61                           n_r_Prev7dayMinTemp  0.002195\n",
       "201              n_r_SNOWDAS_SnowDepth_mm6InPast  0.002188\n",
       "224                    n_r_SNOWDAS_SWE_mm7InPast  0.002116\n",
       "78           n_r_Prev3daySnowAccumulation1InPast  0.002096\n",
       "152                   n_r_Prev1dayMaxTemp4InPast  0.002059\n",
       "101          n_r_Prev7daySnowAccumulation2InPast  0.002055\n",
       "116       n_r_SNOWDAS_Sublimation_micromm2InPast  0.002050\n",
       "130                   n_r_Prev1dayMaxTemp3InPast  0.002049\n",
       "182       n_r_SNOWDAS_Sublimation_micromm5InPast  0.002046\n",
       "138       n_r_SNOWDAS_Sublimation_micromm3InPast  0.002041\n",
       "72               n_r_SNOWDAS_Sublimation_micromm  0.002035\n",
       "94        n_r_SNOWDAS_Sublimation_micromm1InPast  0.002033\n",
       "160       n_r_SNOWDAS_Sublimation_micromm4InPast  0.002029\n",
       "87                 n_r_Prev1DayMax10mWind1InPast  0.001979\n",
       "58                           n_r_Prev3dayMinTemp  0.001968\n",
       "51                              n_f_10mWindSpeed  0.001958\n",
       "59                           n_r_Prev7dayMaxTemp  0.001901\n",
       "..                                           ...       ...\n",
       "808     c_r_Prev7DayFreezeThawLikeliness17InPast  0.000076\n",
       "816     c_r_Prev7DayFreezeThawLikeliness19InPast  0.000076\n",
       "860     c_r_Prev7DayFreezeThawLikeliness30InPast  0.000068\n",
       "752      c_r_Prev7DayFreezeThawLikeliness3InPast  0.000068\n",
       "848     c_r_Prev7DayFreezeThawLikeliness27InPast  0.000066\n",
       "739             c_r_Prev7DayFreezeThawLikeliness  0.000066\n",
       "748      c_r_Prev7DayFreezeThawLikeliness2InPast  0.000065\n",
       "800     c_r_Prev7DayFreezeThawLikeliness15InPast  0.000065\n",
       "776      c_r_Prev7DayFreezeThawLikeliness9InPast  0.000064\n",
       "756      c_r_Prev7DayFreezeThawLikeliness4InPast  0.000063\n",
       "840     c_r_Prev7DayFreezeThawLikeliness25InPast  0.000063\n",
       "812     c_r_Prev7DayFreezeThawLikeliness18InPast  0.000063\n",
       "832     c_r_Prev7DayFreezeThawLikeliness23InPast  0.000063\n",
       "804     c_r_Prev7DayFreezeThawLikeliness16InPast  0.000063\n",
       "820     c_r_Prev7DayFreezeThawLikeliness20InPast  0.000063\n",
       "844     c_r_Prev7DayFreezeThawLikeliness26InPast  0.000062\n",
       "780     c_r_Prev7DayFreezeThawLikeliness10InPast  0.000059\n",
       "852     c_r_Prev7DayFreezeThawLikeliness28InPast  0.000058\n",
       "796     c_r_Prev7DayFreezeThawLikeliness14InPast  0.000057\n",
       "772      c_r_Prev7DayFreezeThawLikeliness8InPast  0.000053\n",
       "828     c_r_Prev7DayFreezeThawLikeliness22InPast  0.000053\n",
       "836     c_r_Prev7DayFreezeThawLikeliness24InPast  0.000052\n",
       "788     c_r_Prev7DayFreezeThawLikeliness12InPast  0.000052\n",
       "784     c_r_Prev7DayFreezeThawLikeliness11InPast  0.000049\n",
       "760      c_r_Prev7DayFreezeThawLikeliness5InPast  0.000049\n",
       "764      c_r_Prev7DayFreezeThawLikeliness6InPast  0.000048\n",
       "744      c_r_Prev7DayFreezeThawLikeliness1InPast  0.000047\n",
       "824     c_r_Prev7DayFreezeThawLikeliness21InPast  0.000045\n",
       "768      c_r_Prev7DayFreezeThawLikeliness7InPast  0.000040\n",
       "742                        c_f_LongTermColdTemps  0.000000\n",
       "\n",
       "[815 rows x 2 columns]"
      ]
     },
     "execution_count": 26,
     "metadata": {},
     "output_type": "execute_result"
    }
   ],
   "source": [
    "out.sort_values(by=['Score'], ascending=False)[50:]"
   ]
  },
  {
   "cell_type": "code",
   "execution_count": 25,
   "metadata": {},
   "outputs": [
    {
     "data": {
      "image/png": "[encoded data removed]",
      "text/plain": [
       "<Figure size 432x288 with 1 Axes>"
      ]
     },
     "metadata": {
      "needs_background": "light"
     },
     "output_type": "display_data"
    }
   ],
   "source": [
    "out.sort_values(by=['Score'], ascending=False).plot.barh()\n",
    "plt.show()"
   ]
  },
  {
   "cell_type": "code",
   "execution_count": 27,
   "metadata": {},
   "outputs": [],
   "source": [
    "important_features= out[out['Score'] > .001].sort_values(by=['Score'], ascending=False)['Feature']"
   ]
  },
  {
   "cell_type": "code",
   "execution_count": 53,
   "metadata": {},
   "outputs": [
    {
     "data": {
      "text/plain": [
       "52                                  n_f_APCPsurface\n",
       "73             n_r_SNOWDAS_SolidPrecip_kgpersquarem\n",
       "65                               n_r_Prev1DayPrecip\n",
       "42                    n_f_APCPsurface22HourForecast\n",
       "44                    n_f_APCPsurface23HourForecast\n",
       "38                    n_f_APCPsurface20HourForecast\n",
       "30                    n_f_APCPsurface16HourForecast\n",
       "20                    n_f_APCPsurface11HourForecast\n",
       "32                    n_f_APCPsurface17HourForecast\n",
       "36                    n_f_APCPsurface19HourForecast\n",
       "737                                     DayOfSeason\n",
       "18                    n_f_APCPsurface10HourForecast\n",
       "95      n_r_SNOWDAS_SolidPrecip_kgpersquarem1InPast\n",
       "54                     n_r_Prev3daySnowAccumulation\n",
       "55                     n_r_Prev7daySnowAccumulation\n",
       "26                    n_f_APCPsurface14HourForecast\n",
       "28                    n_f_APCPsurface15HourForecast\n",
       "22                    n_f_APCPsurface12HourForecast\n",
       "89                        n_r_Prev1DayPrecip1InPast\n",
       "34                    n_f_APCPsurface18HourForecast\n",
       "736                                       DayOfYear\n",
       "14                     n_f_APCPsurface8HourForecast\n",
       "62                              n_r_Prev1dayMaxTemp\n",
       "8                      n_f_APCPsurface5HourForecast\n",
       "40                    n_f_APCPsurface21HourForecast\n",
       "12                     n_f_APCPsurface7HourForecast\n",
       "69                         n_r_SNOWDAS_SnowDepth_mm\n",
       "91                  n_r_SNOWDAS_SnowDepth_mm1InPast\n",
       "70                               n_r_SNOWDAS_SWE_mm\n",
       "46                                     n_f_tempMaxF\n",
       "                           ...                     \n",
       "303                     n_r_Prev7dayMaxTemp11InPast\n",
       "608                     n_r_Prev3dayMaxTemp25InPast\n",
       "409            n_r_Prev7daySnowAccumulation16InPast\n",
       "205     n_r_SNOWDAS_SolidPrecip_kgpersquarem6InPast\n",
       "355                n_r_SNOWDAS_SnowDepth_mm13InPast\n",
       "674                     n_r_Prev3dayMaxTemp28InPast\n",
       "378                      n_r_SNOWDAS_SWE_mm14InPast\n",
       "531                n_r_SNOWDAS_SnowDepth_mm21InPast\n",
       "520                     n_r_Prev3dayMaxTemp21InPast\n",
       "655                     n_r_Prev7dayMaxTemp27InPast\n",
       "211             n_r_Prev7daySnowAccumulation7InPast\n",
       "542                     n_r_Prev3dayMaxTemp22InPast\n",
       "554                      n_r_SNOWDAS_SWE_mm22InPast\n",
       "322                     n_r_Prev3dayMaxTemp12InPast\n",
       "432                     n_r_Prev3dayMaxTemp17InPast\n",
       "630                     n_r_Prev3dayMaxTemp26InPast\n",
       "387            n_r_Prev7daySnowAccumulation15InPast\n",
       "189             n_r_Prev7daySnowAccumulation6InPast\n",
       "633                     n_r_Prev7dayMaxTemp26InPast\n",
       "365            n_r_Prev7daySnowAccumulation14InPast\n",
       "325                     n_r_Prev7dayMaxTemp12InPast\n",
       "281                     n_r_Prev7dayMaxTemp10InPast\n",
       "413                     n_r_Prev7dayMaxTemp16InPast\n",
       "564                     n_r_Prev3dayMaxTemp23InPast\n",
       "193                      n_r_Prev7dayMaxTemp6InPast\n",
       "122             n_r_Prev3daySnowAccumulation3InPast\n",
       "475            n_r_Prev7daySnowAccumulation19InPast\n",
       "359    n_r_SNOWDAS_SolidPrecip_kgpersquarem13InPast\n",
       "0                           c_IsContenentalSnowpack\n",
       "1                               c_IsCoastalSnowpack\n",
       "Length: 456, dtype: object"
      ]
     },
     "execution_count": 53,
     "metadata": {},
     "output_type": "execute_result"
    }
   ],
   "source": []
  },
  {
   "cell_type": "code",
   "execution_count": 54,
   "metadata": {},
   "outputs": [],
   "source": [
    "X_Above_test_imp = X_Above_test[important_features.append(pd.Series(['c_IsContenentalSnowpack', 'c_IsCoastalSnowpack']))]\n",
    "X_Above_train_imp = X_Above_train[important_features.append(pd.Series(['c_IsContenentalSnowpack', 'c_IsCoastalSnowpack']))]"
   ]
  },
  {
   "cell_type": "code",
   "execution_count": 33,
   "metadata": {},
   "outputs": [],
   "source": [
    "X_Above_test = X_Above_test_imp\n",
    "X_Above_train = X_Above_train_imp"
   ]
  },
  {
   "cell_type": "code",
   "execution_count": 36,
   "metadata": {},
   "outputs": [
    {
     "data": {
      "text/plain": [
       "1.0"
      ]
     },
     "execution_count": 36,
     "metadata": {},
     "output_type": "execute_result"
    }
   ],
   "source": [
    "m2 = RandomForestClassifier(n_jobs = -1,\n",
    "                           oob_score=True,\n",
    "                           n_estimators=700,\n",
    "                           #max_features=\"sqrt\",\n",
    "                           #min_samples_leaf=3,   \n",
    "                           )\n",
    "m2.fit(X_Above_train_imp, y_Above_train['o_Day1DangerAboveTreeline'].values.ravel())\n",
    "m2.score(X_Above_train_imp, y_Above_train['o_Day1DangerAboveTreeline'].values.ravel())"
   ]
  },
  {
   "cell_type": "code",
   "execution_count": 37,
   "metadata": {},
   "outputs": [],
   "source": [
    "preds2 = m2.predict(X_Above_test_imp)"
   ]
  },
  {
   "cell_type": "code",
   "execution_count": 42,
   "metadata": {},
   "outputs": [],
   "source": [
    "y_Above_test['preds'] = preds2"
   ]
  },
  {
   "cell_type": "code",
   "execution_count": 43,
   "metadata": {},
   "outputs": [],
   "source": [
    "#remove synthetic regions from the evaluation\n",
    "\n",
    "synthetic_regions = ['Low West', 'Low East', 'In The Desert', 'In The Lake']\n",
    "y_Above_test = y_Above_test[~y_Above_test['UnifiedRegion'].isin(synthetic_regions)]"
   ]
  },
  {
   "cell_type": "code",
   "execution_count": 44,
   "metadata": {},
   "outputs": [],
   "source": [
    "preds2 = y_Above_test['preds']"
   ]
  },
  {
   "cell_type": "code",
   "execution_count": 46,
   "metadata": {},
   "outputs": [
    {
     "name": "stdout",
     "output_type": "stream",
     "text": [
      "Accuracy: 0.6185673607686556\n",
      "Classification Report\n",
      "              precision    recall  f1-score   support\n",
      "\n",
      "           0       0.43      0.10      0.16      4979\n",
      "           1       0.68      0.79      0.73     32996\n",
      "           2       0.52      0.61      0.56     19113\n",
      "           3       0.71      0.13      0.23      5775\n",
      "\n",
      "   micro avg       0.62      0.62      0.62     62863\n",
      "   macro avg       0.58      0.41      0.42     62863\n",
      "weighted avg       0.61      0.62      0.59     62863\n",
      "\n",
      "Normalized confusion matrix\n",
      "Confusion matrix, without normalization\n"
     ]
    },
    {
     "data": {
      "image/png": "[encoded data removed]",
      "text/plain": [
       "<Figure size 432x288 with 2 Axes>"
      ]
     },
     "metadata": {
      "needs_background": "light"
     },
     "output_type": "display_data"
    },
    {
     "data": {
      "image/png": "[encoded data removed]",
      "text/plain": [
       "<Figure size 432x288 with 2 Axes>"
      ]
     },
     "metadata": {
      "needs_background": "light"
     },
     "output_type": "display_data"
    }
   ],
   "source": [
    "error_evaluation.evaluateSingleClassShort(y_Above_test['o_Day1DangerAboveTreeline'], preds2)\n",
    "cnf_matrix = confusion_matrix(y_Above_test['o_Day1DangerAboveTreeline'], preds2)\n",
    "plt.figure()\n",
    "error_evaluation.plot_confusion_matrix(cnf_matrix, classes=['Low', 'Moderate', 'Considerable', 'High'], normalize=True,\n",
    "                      title='Normalized confusion matrix')\n",
    "\n",
    "plt.figure()\n",
    "error_evaluation.plot_confusion_matrix(cnf_matrix, classes=['Low', 'Moderate', 'Considerable', 'High'],\n",
    "                      title='Confusion matrix, without normalization')"
   ]
  },
  {
   "cell_type": "code",
   "execution_count": null,
   "metadata": {},
   "outputs": [],
   "source": [
    "importances2 = pd.Series(m2.feature_importances_)\n",
    "out = pd.concat([pd.Series(X_Above_train_imp.columns), importances2], axis=1)\n",
    "out.columns=['Feature','Score']"
   ]
  },
  {
   "cell_type": "code",
   "execution_count": null,
   "metadata": {},
   "outputs": [],
   "source": [
    "out.sort_values(by=['Score'], ascending=False)[:10]"
   ]
  },
  {
   "cell_type": "code",
   "execution_count": null,
   "metadata": {},
   "outputs": [],
   "source": [
    "out.sort_values(by=['Score'], ascending=False).plot.barh()\n",
    "plt.show()"
   ]
  },
  {
   "cell_type": "code",
   "execution_count": null,
   "metadata": {},
   "outputs": [],
   "source": [
    "import re\n",
    "for x in range(1, 15):\n",
    "    subset_cols = ['DayOfYear',\n",
    "    'c_IsContenentalSnowpack',\n",
    "    'c_IsCoastalSnowpack',\n",
    "    'n_f_APCPsurface1HourForecast',\n",
    "    'n_f_10mWindSpeed1HourForecast',\n",
    "    'n_f_APCPsurface2HourForecast',\n",
    "    'n_f_10mWindSpeed2HourForecast',\n",
    "    'n_f_APCPsurface3HourForecast',\n",
    "    'n_f_10mWindSpeed3HourForecast',\n",
    "    'n_f_APCPsurface4HourForecast',\n",
    "    'n_f_10mWindSpeed4HourForecast',\n",
    "    'n_f_APCPsurface5HourForecast',\n",
    "    'n_f_10mWindSpeed5HourForecast',\n",
    "    'n_f_APCPsurface6HourForecast',\n",
    "    'n_f_10mWindSpeed6HourForecast',\n",
    "    'n_f_APCPsurface7HourForecast',\n",
    "    'n_f_10mWindSpeed7HourForecast',\n",
    "    'n_f_APCPsurface8HourForecast',\n",
    "    'n_f_10mWindSpeed8HourForecast',\n",
    "    'n_f_APCPsurface9HourForecast',\n",
    "    'n_f_10mWindSpeed9HourForecast',\n",
    "    'n_f_APCPsurface10HourForecast',\n",
    "    'n_f_10mWindSpeed10HourForecast',\n",
    "    'n_f_APCPsurface11HourForecast',\n",
    "    'n_f_10mWindSpeed11HourForecast',\n",
    "    'n_f_APCPsurface12HourForecast',\n",
    "    'n_f_10mWindSpeed12HourForecast',\n",
    "    'n_f_APCPsurface13HourForecast',\n",
    "    'n_f_10mWindSpeed13HourForecast',\n",
    "    'n_f_APCPsurface14HourForecast',\n",
    "    'n_f_10mWindSpeed14HourForecast',\n",
    "    'n_f_APCPsurface15HourForecast',\n",
    "    'n_f_10mWindSpeed15HourForecast',\n",
    "    'n_f_APCPsurface16HourForecast',\n",
    "    'n_f_10mWindSpeed16HourForecast',\n",
    "    'n_f_APCPsurface17HourForecast',\n",
    "    'n_f_10mWindSpeed17HourForecast',\n",
    "    'n_f_APCPsurface18HourForecast',\n",
    "    'n_f_10mWindSpeed18HourForecast',\n",
    "    'n_f_APCPsurface19HourForecast',\n",
    "    'n_f_10mWindSpeed19HourForecast',\n",
    "    'n_f_APCPsurface20HourForecast',\n",
    "    'n_f_10mWindSpeed20HourForecast',\n",
    "    'n_f_APCPsurface21HourForecast',\n",
    "    'n_f_10mWindSpeed21HourForecast',\n",
    "    'n_f_APCPsurface22HourForecast',\n",
    "    'n_f_10mWindSpeed22HourForecast',\n",
    "    'n_f_APCPsurface23HourForecast',\n",
    "    'n_f_10mWindSpeed23HourForecast',\n",
    "    'n_f_tempMaxF',\n",
    "    'n_f_10mWindSpeedMax',\n",
    "    'n_r_snowDepthIn',\n",
    "    'n_f_tempMinF',\n",
    "    'n_f_tempAveF',\n",
    "    'n_f_10mWindSpeed',\n",
    "    'n_f_APCPsurface',\n",
    "    'n_r_precipIncrementSnowIn',\n",
    "    'n_r_Prev3daySnowAccumulation',\n",
    "    'n_r_Prev7daySnowAccumulation',\n",
    "    'n_r_Prev3dayMaxTemp',\n",
    "    'n_r_Prev3DayMax10mWind',\n",
    "    'n_r_Prev3dayMinTemp',\n",
    "    'n_r_Prev7dayMaxTemp',\n",
    "    'n_r_Prev7DayMax10mWind',\n",
    "    'n_r_Prev7dayMinTemp',\n",
    "    'n_r_Prev1dayMaxTemp',\n",
    "    'n_r_Prev1DayMax10mWind',\n",
    "    'n_r_Prev1dayMinTemp',\n",
    "    'n_r_Prev1DayPrecip',\n",
    "    'n_f_Next24HourChangeInTempFromPrev3DayMax',\n",
    "    'n_f_Next24HoursChangeInTempFromPrev1DayMax',\n",
    "    'n_r_Prev24HoursPrecipAsRainTotalIn',\n",
    "    'n_r_SNOWDAS_SnowDepth_mm',\n",
    "    'n_r_SNOWDAS_SWE_mm',\n",
    "    'n_r_SNOWDAS_SnowmeltRunoff_micromm',\n",
    "    'n_r_SNOWDAS_Sublimation_micromm',\n",
    "    'n_r_SNOWDAS_SolidPrecip_kgpersquarem',\n",
    "    'n_r_SNOWDAS_LiquidPrecip_kgpersquarem',\n",
    "    'n_r_SNOWDAS_SnowpackAveTemp_k']\n",
    "    for y in range(1, x):\n",
    "        day_regex = \"\"\n",
    "        #print(\"loop x: \" + str(x) + \" y: \" + str(y))\n",
    "        expression = '.+\\D'+str(y)+'InPast'\n",
    "        #print(\"e:\"+expression)\n",
    "        day_regex = re.compile(expression)\n",
    "        match_cols = list(filter(day_regex.match, cols))\n",
    "        #print(\"match len: \" + str(len(match_cols)))\n",
    "        subset_cols = subset_cols + match_cols\n",
    "    print(\"Have len: \" + str(len(subset_cols)))\n",
    "    ds = X_Near_train[subset_cols]\n",
    "    ds_test = X_Near_test[subset_cols]\n",
    "    m3 = RandomForestClassifier(n_jobs = -1,\n",
    "                           oob_score=True,\n",
    "                           n_estimators=500,\n",
    "                           max_features=\"sqrt\"\n",
    "                           )\n",
    "    m3.fit(ds.values, y_Near_train['o_Day1DangerNearTreeline'].values.ravel())\n",
    "    preds3 = m3.predict(ds_test)\n",
    "    error_evaluation.evaluateSingleClassShort(y_Near_test['o_Day1DangerNearTreeline'], preds3)\n",
    "    \n",
    "    "
   ]
  },
  {
   "cell_type": "code",
   "execution_count": null,
   "metadata": {},
   "outputs": [],
   "source": [
    "import matplotlib.pyplot as plt\n",
    "\n",
    "from collections import OrderedDict\n",
    "from sklearn.datasets import make_classification\n",
    "from sklearn.ensemble import RandomForestClassifier, ExtraTreesClassifier\n",
    "\n",
    "# Author: Kian Ho <hui.kian.ho@gmail.com>\n",
    "#         Gilles Louppe <g.louppe@gmail.com>\n",
    "#         Andreas Mueller <amueller@ais.uni-bonn.de>\n",
    "#\n",
    "# License: BSD 3 Clause\n",
    "\n",
    "print(__doc__)\n",
    "\n",
    "RANDOM_STATE = 123\n",
    "\n",
    "# Generate a binary classification dataset.\n",
    "#X, y = make_classification(n_samples=500, n_features=25,\n",
    "#                           n_clusters_per_class=1, n_informative=15,\n",
    "#                           random_state=RANDOM_STATE)\n",
    "X = X_Above_train\n",
    "y = y_Above_train[yColumns]\n",
    "\n",
    "# NOTE: Setting the `warm_start` construction parameter to `True` disables\n",
    "# support for parallelized ensembles but is necessary for tracking the OOB\n",
    "# error trajectory during training.\n",
    "ensemble_clfs = [\n",
    "    (\"RandomForestClassifier, max_features='sqrt'\",\n",
    "        RandomForestClassifier(n_estimators=100,\n",
    "                               warm_start=True, oob_score=True,\n",
    "                               max_features=\"sqrt\",\n",
    "                               n_jobs = 3,\n",
    "                               random_state=RANDOM_STATE)),\n",
    "    (\"RandomForestClassifier, max_features='log2'\",\n",
    "        RandomForestClassifier(n_estimators=100,\n",
    "                               warm_start=True, max_features='log2',\n",
    "                               n_jobs = 3,\n",
    "                               oob_score=True,\n",
    "                               random_state=RANDOM_STATE)),\n",
    "    (\"RandomForestClassifier, max_features=None\",\n",
    "        RandomForestClassifier(n_estimators=100,\n",
    "                               warm_start=True, max_features=None,\n",
    "                               n_jobs=3,\n",
    "                               oob_score=True,\n",
    "                               random_state=RANDOM_STATE))\n",
    "]\n",
    "\n",
    "# Map a classifier name to a list of (<n_estimators>, <error rate>) pairs.\n",
    "error_rate = OrderedDict((label, []) for label, _ in ensemble_clfs)\n",
    "\n",
    "# Range of `n_estimators` values to explore.\n",
    "min_estimators = 15\n",
    "max_estimators = 500\n",
    "\n",
    "for label, clf in ensemble_clfs:\n",
    "    i = min_estimators\n",
    "    for i in range(min_estimators, max_estimators + 1, 25):\n",
    "        clf.set_params(n_estimators=i)\n",
    "        clf.fit(X, y)\n",
    "\n",
    "        # Record the OOB error for each `n_estimators=i` setting.\n",
    "        oob_error = 1 - clf.oob_score_\n",
    "        error_rate[label].append((i, oob_error))\n",
    "\n",
    "# Generate the \"OOB error rate\" vs. \"n_estimators\" plot.\n",
    "for label, clf_err in error_rate.items():\n",
    "    xs, ys = zip(*clf_err)\n",
    "    plt.plot(xs, ys, label=label)\n",
    "\n",
    "plt.xlim(min_estimators, max_estimators)\n",
    "plt.xlabel(\"n_estimators\")\n",
    "plt.ylabel(\"OOB error rate\")\n",
    "plt.legend(loc=\"upper right\")\n",
    "plt.show()"
   ]
  },
  {
   "cell_type": "code",
   "execution_count": null,
   "metadata": {},
   "outputs": [],
   "source": [
    "\n",
    "lat_lon_cache = pd.read_csv('../Data/LatLonCache.csv')\n",
    "def find_nearest_forecast_point(row):\n",
    "    \n",
    "    tmp_lat_lon_cache = lat_lon_cache.copy()\n",
    "   \n",
    "    #TODO: currently a simple esitmate for converting lon to miles, 53 degrees per mile--need to do better for the real deal\n",
    "    tmp_lat_lon_cache['distance'] = np.sqrt(np.square(69.0*(lat_lon_cache['Lat']-row['Lat'])) + np.square(53.0*(lat_lon_cache['Lon']-row['Lon'])))\n",
    "    #tmp_lat_lon_cache['distance'] = tmp_lat_lon_cache[:3].apply(lambda x: estimate_distance_between_points_mi(lat, lon, x['Lat'], x['Lon']), axis=1)\n",
    "    print(\"after distance calc\")\n",
    "    #nearest point needs to be within 20 miles\n",
    "    nearest_row = tmp_lat_lon_cache.sort_values(by=['distance']).iloc[0, :]\n",
    "    if nearest_row['distance'] > 20.0:\n",
    "        #should never happen since our grid is smaller but just in case\n",
    "        return -1, -1\n",
    "    else:\n",
    "        return nearest_row['Lat'], nearest_row['Lon']"
   ]
  },
  {
   "cell_type": "code",
   "execution_count": null,
   "metadata": {},
   "outputs": [],
   "source": [
    "def is_critical_point(row, critical_points):\n",
    "    for cp in critical_points:\n",
    "        if(row['Lat'] == cp[0] and row['Lon'] == cp[1]):\n",
    "            return True\n",
    "    return False\n",
    "\n",
    "lat_lon_cache = pd.read_csv('../Data/LatLonCache.csv')\n",
    "critical_points = pd.read_csv('../Data/CriticalPointsToForecast.csv')\n",
    "critical_forecast_points = critical_points.apply(find_nearest_forecast_point, axis=1)\n",
    "\n",
    "\n",
    "\n",
    "\n",
    "        "
   ]
  },
  {
   "cell_type": "code",
   "execution_count": null,
   "metadata": {},
   "outputs": [],
   "source": []
  },
  {
   "cell_type": "code",
   "execution_count": null,
   "metadata": {},
   "outputs": [],
   "source": [
    "\n",
    "#X_Above_test, X_Above_train, y_Above_test, y_Above_train\n",
    "tmp = y_Above_test.apply(lambda x: is_critical_point(x, critical_forecast_points), axis=1)\n"
   ]
  },
  {
   "cell_type": "code",
   "execution_count": null,
   "metadata": {},
   "outputs": [],
   "source": [
    "tmp.value_counts()"
   ]
  },
  {
   "cell_type": "code",
   "execution_count": null,
   "metadata": {},
   "outputs": [],
   "source": [
    "lat_lon_cache = pd.read_csv('../Data/LatLonCache.csv')"
   ]
  },
  {
   "cell_type": "code",
   "execution_count": null,
   "metadata": {},
   "outputs": [],
   "source": [
    "critical_points = pd.read_csv('../Data/CriticalPointsToForecast.csv')"
   ]
  },
  {
   "cell_type": "code",
   "execution_count": null,
   "metadata": {},
   "outputs": [],
   "source": [
    "lat_lon_cache.columns"
   ]
  },
  {
   "cell_type": "code",
   "execution_count": null,
   "metadata": {},
   "outputs": [],
   "source": [
    "np.sqrt(np.square(69.0*(lat_lon_cache['Lat']-47.981010)) + np.square(53.0*(lat_lon_cache['Lon']--123.472400)))"
   ]
  },
  {
   "cell_type": "code",
   "execution_count": null,
   "metadata": {},
   "outputs": [],
   "source": []
  }
 ],
 "metadata": {
  "kernelspec": {
   "display_name": "Python [default]",
   "language": "python",
   "name": "python3"
  },
  "language_info": {
   "codemirror_mode": {
    "name": "ipython",
    "version": 3
   },
   "file_extension": ".py",
   "mimetype": "text/x-python",
   "name": "python",
   "nbconvert_exporter": "python",
   "pygments_lexer": "ipython3",
   "version": "3.5.3"
  }
 },
 "nbformat": 4,
 "nbformat_minor": 2
}
