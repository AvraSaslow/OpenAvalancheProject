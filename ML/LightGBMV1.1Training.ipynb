{
 "cells": [
  {
   "cell_type": "code",
   "execution_count": 2,
   "metadata": {},
   "outputs": [],
   "source": [
    "import numpy as np\n",
    "import pandas as pd\n",
    "import lightgbm as lgb\n",
    "\n",
    "from sklearn.metrics import mean_squared_error\n",
    "from sklearn.model_selection import GridSearchCV\n",
    "\n",
    "import re\n",
    "from sklearn.model_selection import train_test_split\n",
    "from sklearn.ensemble import RandomForestClassifier, GradientBoostingClassifier, AdaBoostClassifier, VotingClassifier\n",
    "from sklearn.preprocessing import Normalizer\n",
    "from sklearn.metrics import confusion_matrix, accuracy_score, classification_report\n",
    "from sklearn.model_selection import GridSearchCV\n",
    "from sklearn.model_selection import StratifiedKFold, cross_val_score\n",
    "\n",
    "import datetime\n",
    "import matplotlib\n",
    "from matplotlib import pyplot"
   ]
  },
  {
   "cell_type": "code",
   "execution_count": 3,
   "metadata": {},
   "outputs": [],
   "source": [
    "import DataPrep\n",
    "import error_evaluation"
   ]
  },
  {
   "cell_type": "code",
   "execution_count": 4,
   "metadata": {},
   "outputs": [],
   "source": [
    "X_Above_test, X_Above_train, y_Above_test, y_Above_train, X_Near_test, X_Near_train, y_Near_test, y_Near_train, X_Below_test, X_Below_train, y_Below_test, y_Below_train = DataPrep.prep_day1_danger_train_test('../Data/V1.1FeaturesWithLabels30Days20131201To20180430.csv', ignore_extreme=True, oversample=False)"
   ]
  },
  {
   "cell_type": "code",
   "execution_count": 5,
   "metadata": {},
   "outputs": [],
   "source": [
    "yColumns = ['o_Day1DangerNearTreeline']"
   ]
  },
  {
   "cell_type": "code",
   "execution_count": 6,
   "metadata": {},
   "outputs": [],
   "source": [
    "gbmgpu = lgb.LGBMClassifier(objective=['auc'], device_type='gpu', learning_rate=.05)"
   ]
  },
  {
   "cell_type": "code",
   "execution_count": 7,
   "metadata": {},
   "outputs": [
    {
     "name": "stdout",
     "output_type": "stream",
     "text": [
      "[1]\tvalid_0's multi_logloss: 1.35828\n",
      "Training until validation scores don't improve for 20 rounds.\n",
      "[2]\tvalid_0's multi_logloss: 1.33328\n",
      "[3]\tvalid_0's multi_logloss: 1.30984\n",
      "[4]\tvalid_0's multi_logloss: 1.28909\n",
      "[5]\tvalid_0's multi_logloss: 1.26853\n",
      "[6]\tvalid_0's multi_logloss: 1.24963\n",
      "[7]\tvalid_0's multi_logloss: 1.23239\n",
      "[8]\tvalid_0's multi_logloss: 1.21622\n",
      "[9]\tvalid_0's multi_logloss: 1.1996\n",
      "[10]\tvalid_0's multi_logloss: 1.18467\n",
      "[11]\tvalid_0's multi_logloss: 1.1706\n",
      "[12]\tvalid_0's multi_logloss: 1.15756\n",
      "[13]\tvalid_0's multi_logloss: 1.1454\n",
      "[14]\tvalid_0's multi_logloss: 1.13404\n",
      "[15]\tvalid_0's multi_logloss: 1.12244\n",
      "[16]\tvalid_0's multi_logloss: 1.11219\n",
      "[17]\tvalid_0's multi_logloss: 1.10178\n",
      "[18]\tvalid_0's multi_logloss: 1.09162\n",
      "[19]\tvalid_0's multi_logloss: 1.08231\n",
      "[20]\tvalid_0's multi_logloss: 1.07314\n",
      "[21]\tvalid_0's multi_logloss: 1.0648\n",
      "[22]\tvalid_0's multi_logloss: 1.05675\n",
      "[23]\tvalid_0's multi_logloss: 1.0492\n",
      "[24]\tvalid_0's multi_logloss: 1.04205\n",
      "[25]\tvalid_0's multi_logloss: 1.03534\n",
      "[26]\tvalid_0's multi_logloss: 1.02844\n",
      "[27]\tvalid_0's multi_logloss: 1.02161\n",
      "[28]\tvalid_0's multi_logloss: 1.01567\n",
      "[29]\tvalid_0's multi_logloss: 1.01022\n",
      "[30]\tvalid_0's multi_logloss: 1.00395\n",
      "[31]\tvalid_0's multi_logloss: 0.999163\n",
      "[32]\tvalid_0's multi_logloss: 0.994262\n",
      "[33]\tvalid_0's multi_logloss: 0.989106\n",
      "[34]\tvalid_0's multi_logloss: 0.984425\n",
      "[35]\tvalid_0's multi_logloss: 0.980136\n",
      "[36]\tvalid_0's multi_logloss: 0.976552\n",
      "[37]\tvalid_0's multi_logloss: 0.972228\n",
      "[38]\tvalid_0's multi_logloss: 0.968368\n",
      "[39]\tvalid_0's multi_logloss: 0.964709\n",
      "[40]\tvalid_0's multi_logloss: 0.961431\n",
      "[41]\tvalid_0's multi_logloss: 0.957437\n",
      "[42]\tvalid_0's multi_logloss: 0.954503\n",
      "[43]\tvalid_0's multi_logloss: 0.951768\n",
      "[44]\tvalid_0's multi_logloss: 0.948073\n",
      "[45]\tvalid_0's multi_logloss: 0.945068\n",
      "[46]\tvalid_0's multi_logloss: 0.94222\n",
      "[47]\tvalid_0's multi_logloss: 0.939313\n",
      "[48]\tvalid_0's multi_logloss: 0.936289\n",
      "[49]\tvalid_0's multi_logloss: 0.933857\n",
      "[50]\tvalid_0's multi_logloss: 0.931469\n",
      "[51]\tvalid_0's multi_logloss: 0.929325\n",
      "[52]\tvalid_0's multi_logloss: 0.927279\n",
      "[53]\tvalid_0's multi_logloss: 0.925158\n",
      "[54]\tvalid_0's multi_logloss: 0.922722\n",
      "[55]\tvalid_0's multi_logloss: 0.920731\n",
      "[56]\tvalid_0's multi_logloss: 0.918722\n",
      "[57]\tvalid_0's multi_logloss: 0.916669\n",
      "[58]\tvalid_0's multi_logloss: 0.914516\n",
      "[59]\tvalid_0's multi_logloss: 0.912843\n",
      "[60]\tvalid_0's multi_logloss: 0.911528\n",
      "[61]\tvalid_0's multi_logloss: 0.910321\n",
      "[62]\tvalid_0's multi_logloss: 0.908817\n",
      "[63]\tvalid_0's multi_logloss: 0.907537\n",
      "[64]\tvalid_0's multi_logloss: 0.905921\n",
      "[65]\tvalid_0's multi_logloss: 0.904904\n",
      "[66]\tvalid_0's multi_logloss: 0.902983\n",
      "[67]\tvalid_0's multi_logloss: 0.90169\n",
      "[68]\tvalid_0's multi_logloss: 0.90019\n",
      "[69]\tvalid_0's multi_logloss: 0.898495\n",
      "[70]\tvalid_0's multi_logloss: 0.897597\n",
      "[71]\tvalid_0's multi_logloss: 0.89655\n",
      "[72]\tvalid_0's multi_logloss: 0.895651\n",
      "[73]\tvalid_0's multi_logloss: 0.894555\n",
      "[74]\tvalid_0's multi_logloss: 0.893387\n",
      "[75]\tvalid_0's multi_logloss: 0.892339\n",
      "[76]\tvalid_0's multi_logloss: 0.891611\n",
      "[77]\tvalid_0's multi_logloss: 0.890322\n",
      "[78]\tvalid_0's multi_logloss: 0.890161\n",
      "[79]\tvalid_0's multi_logloss: 0.889202\n",
      "[80]\tvalid_0's multi_logloss: 0.888594\n",
      "[81]\tvalid_0's multi_logloss: 0.88792\n",
      "[82]\tvalid_0's multi_logloss: 0.887104\n",
      "[83]\tvalid_0's multi_logloss: 0.886452\n",
      "[84]\tvalid_0's multi_logloss: 0.885601\n",
      "[85]\tvalid_0's multi_logloss: 0.885214\n",
      "[86]\tvalid_0's multi_logloss: 0.884963\n",
      "[87]\tvalid_0's multi_logloss: 0.884285\n",
      "[88]\tvalid_0's multi_logloss: 0.883795\n",
      "[89]\tvalid_0's multi_logloss: 0.883489\n",
      "[90]\tvalid_0's multi_logloss: 0.883032\n",
      "[91]\tvalid_0's multi_logloss: 0.882196\n",
      "[92]\tvalid_0's multi_logloss: 0.881863\n",
      "[93]\tvalid_0's multi_logloss: 0.881671\n",
      "[94]\tvalid_0's multi_logloss: 0.880933\n",
      "[95]\tvalid_0's multi_logloss: 0.880439\n",
      "[96]\tvalid_0's multi_logloss: 0.880101\n",
      "[97]\tvalid_0's multi_logloss: 0.879594\n",
      "[98]\tvalid_0's multi_logloss: 0.879136\n",
      "[99]\tvalid_0's multi_logloss: 0.878943\n",
      "[100]\tvalid_0's multi_logloss: 0.878761\n",
      "Did not meet early stopping. Best iteration is:\n",
      "[100]\tvalid_0's multi_logloss: 0.878761\n",
      "Wall time: 41.5 s\n"
     ]
    },
    {
     "data": {
      "text/plain": [
       "LGBMClassifier(boosting_type='gbdt', class_weight=None, colsample_bytree=1.0,\n",
       "        device_type='gpu', importance_type='split', learning_rate=0.05,\n",
       "        max_depth=-1, min_child_samples=20, min_child_weight=0.001,\n",
       "        min_split_gain=0.0, n_estimators=100, n_jobs=-1, num_leaves=31,\n",
       "        objective=['auc'], random_state=None, reg_alpha=0.0,\n",
       "        reg_lambda=0.0, silent=True, subsample=1.0,\n",
       "        subsample_for_bin=200000, subsample_freq=0)"
      ]
     },
     "execution_count": 7,
     "metadata": {},
     "output_type": "execute_result"
    }
   ],
   "source": [
    "%%time\n",
    "\n",
    "gbmgpu.fit(X_Near_train.values, \n",
    "        y_Near_train[yColumns].values.ravel(), \n",
    "        eval_set=[(X_Near_test.values, y_Near_test[yColumns].values.ravel())],\n",
    "        early_stopping_rounds=20,\n",
    "        )"
   ]
  },
  {
   "cell_type": "code",
   "execution_count": null,
   "metadata": {},
   "outputs": [],
   "source": [
    "gbmgpu = lgb.LGBMClassifier(objective='multiclass', device_type='gpu')\n",
    "param_grid = {\n",
    "    'learning_rate': [0.1],\n",
    "    'num_leaves': [15, 31, 63, 127, 255, 511, 1023, 2047, 4095]\n",
    "}\n",
    "kfold = StratifiedKFold(n_splits=5, shuffle=True, random_state=7)\n",
    "grid_search = GridSearchCV(gbmgpu, param_grid, scoring=\"neg_log_loss\", n_jobs=6, cv=kfold, verbose=10)\n",
    "\n",
    "grid_result = grid_search.fit(X_Above_train.values, y_Above_train[yColumns].values.ravel())\n",
    "# summarize results\n",
    "print(\"Best: %f using %s\" % (grid_result.best_score_, grid_result.best_params_))\n",
    "means = grid_result.cv_results_['mean_test_score']\n",
    "stds = grid_result.cv_results_['std_test_score']\n",
    "params = grid_result.cv_results_['params']\n",
    "for mean, stdev, param in zip(means, stds, params):\n",
    "    print(\"%f (%f) with: %r\" % (mean, stdev, param))"
   ]
  },
  {
   "cell_type": "code",
   "execution_count": null,
   "metadata": {},
   "outputs": [],
   "source": [
    "%%time\n",
    "gbmgpu = lgb.LGBMClassifier(objective='multiclass', device_type='gpu')\n",
    "param_grid = {\n",
    "    'learning_rate': [0.1],\n",
    "    'bagging_fraction': [.5, .8],\n",
    "    'num_leaves': [200, 350, 500],\n",
    "    'feature_fraction': [.75, 1],\n",
    "    'reg_alpha': [0, 1],\n",
    "    'reg_lambda': [0, 1],\n",
    "    'class_weight': [None, 'balanced']\n",
    "}\n",
    "kfold = StratifiedKFold(n_splits=5, shuffle=True, random_state=7)\n",
    "grid_search = GridSearchCV(gbmgpu, param_grid, scoring=\"neg_log_loss\", n_jobs=6, cv=kfold, verbose=10)\n",
    "\n",
    "grid_result = grid_search.fit(X_Above_train.values, y_Above_train[yColumns].values.ravel())\n",
    "# summarize results\n",
    "print(\"Best: %f using %s\" % (grid_result.best_score_, grid_result.best_params_))\n",
    "means = grid_result.cv_results_['mean_test_score']\n",
    "stds = grid_result.cv_results_['std_test_score']\n",
    "params = grid_result.cv_results_['params']\n",
    "for mean, stdev, param in zip(means, stds, params):\n",
    "    print(\"%f (%f) with: %r\" % (mean, stdev, param))"
   ]
  },
  {
   "cell_type": "code",
   "execution_count": null,
   "metadata": {},
   "outputs": [],
   "source": [
    "gbmgpu = lgb.LGBMClassifier(objective='multiclass', device_type='gpu', \n",
    "                            learning_rate=.01, num_class=4, num_leaves=500,\n",
    "                            reg_alpha=0, reg_lambda=0, feature_fraction=.75,\n",
    "                            bagging_fraction=.5, class_weight='balanced')"
   ]
  },
  {
   "cell_type": "code",
   "execution_count": null,
   "metadata": {},
   "outputs": [],
   "source": [
    "%%time\n",
    "gbmgpu.fit(X_Above_train.values, \n",
    "        y_Above_train[yColumns].values.ravel(), \n",
    "        eval_set=[(X_Above_test.values, y_Above_test[yColumns].values.ravel())],\n",
    "        early_stopping_rounds=10\n",
    "        )"
   ]
  },
  {
   "cell_type": "code",
   "execution_count": null,
   "metadata": {},
   "outputs": [],
   "source": [
    "gbmgpu = lgb.LGBMClassifier(objective='multiclass', device_type='gpu', \n",
    "                            learning_rate=.1, num_class=4, num_leaves=700,\n",
    "                            feature_fraction=.75,\n",
    "                            bagging_fraction=.3,                            \n",
    "                            min_child_samples=80,  #prev best 40\n",
    "                            n_estimators=500,\n",
    "                            num_boost_round=1000)"
   ]
  },
  {
   "cell_type": "code",
   "execution_count": null,
   "metadata": {},
   "outputs": [],
   "source": [
    "%%time\n",
    "gbmgpu.fit(X_Near_train.values, \n",
    "        y_Near_train[yColumns].values.ravel(), \n",
    "        eval_set=[(X_Near_test.values, y_Near_test[yColumns].values.ravel())],\n",
    "        early_stopping_rounds=20\n",
    "        \n",
    "        )"
   ]
  },
  {
   "cell_type": "code",
   "execution_count": 8,
   "metadata": {},
   "outputs": [],
   "source": [
    "resultAbove = gbmgpu.predict(X_Near_test, gbmgpu.best_iteration_)"
   ]
  },
  {
   "cell_type": "code",
   "execution_count": 9,
   "metadata": {},
   "outputs": [
    {
     "data": {
      "text/plain": [
       "array(['Considerable', 'High', 'Low', 'Moderate'], dtype=object)"
      ]
     },
     "execution_count": 9,
     "metadata": {},
     "output_type": "execute_result"
    }
   ],
   "source": [
    "gbmgpu.classes_"
   ]
  },
  {
   "cell_type": "code",
   "execution_count": 10,
   "metadata": {},
   "outputs": [
    {
     "data": {
      "text/plain": [
       "array([[-1.89775717, -2.47869885,  2.56330368, -0.08524773],\n",
       "       [-1.38940651, -2.52174978,  2.56537264, -0.4836233 ],\n",
       "       [-1.15758997, -2.10433309,  1.76374894, -0.19146975],\n",
       "       [-1.90976166, -2.53662657,  2.55239447, -0.13033717],\n",
       "       [-1.40421505, -2.52174978,  2.53050125, -0.44750092],\n",
       "       [-0.94704858, -2.10433309,  1.80153988, -0.13149905],\n",
       "       [-1.84269546, -2.40253835,  2.52477613, -0.09140706],\n",
       "       [-1.28338318, -2.52174978,  2.51218318, -0.39653116],\n",
       "       [-0.96692268, -2.03281621,  1.40721609, -0.19150653],\n",
       "       [-1.89765388, -2.53662657,  2.47550796, -0.11457399]])"
      ]
     },
     "execution_count": 10,
     "metadata": {},
     "output_type": "execute_result"
    }
   ],
   "source": [
    "resultAbove[:10]"
   ]
  },
  {
   "cell_type": "code",
   "execution_count": 11,
   "metadata": {},
   "outputs": [],
   "source": [
    "best_preds = [np.argmax(line) for line in resultAbove]"
   ]
  },
  {
   "cell_type": "code",
   "execution_count": 12,
   "metadata": {},
   "outputs": [],
   "source": [
    "best_preds_df = pd.DataFrame(best_preds, columns=['o_Day1DangerNearTreeline'])"
   ]
  },
  {
   "cell_type": "code",
   "execution_count": 13,
   "metadata": {},
   "outputs": [
    {
     "data": {
      "text/html": [
       "<div>\n",
       "<style scoped>\n",
       "    .dataframe tbody tr th:only-of-type {\n",
       "        vertical-align: middle;\n",
       "    }\n",
       "\n",
       "    .dataframe tbody tr th {\n",
       "        vertical-align: top;\n",
       "    }\n",
       "\n",
       "    .dataframe thead th {\n",
       "        text-align: right;\n",
       "    }\n",
       "</style>\n",
       "<table border=\"1\" class=\"dataframe\">\n",
       "  <thead>\n",
       "    <tr style=\"text-align: right;\">\n",
       "      <th></th>\n",
       "      <th>o_Day1DangerNearTreeline</th>\n",
       "    </tr>\n",
       "  </thead>\n",
       "  <tbody>\n",
       "    <tr>\n",
       "      <th>0</th>\n",
       "      <td>2</td>\n",
       "    </tr>\n",
       "    <tr>\n",
       "      <th>1</th>\n",
       "      <td>2</td>\n",
       "    </tr>\n",
       "    <tr>\n",
       "      <th>2</th>\n",
       "      <td>2</td>\n",
       "    </tr>\n",
       "    <tr>\n",
       "      <th>3</th>\n",
       "      <td>2</td>\n",
       "    </tr>\n",
       "    <tr>\n",
       "      <th>4</th>\n",
       "      <td>2</td>\n",
       "    </tr>\n",
       "  </tbody>\n",
       "</table>\n",
       "</div>"
      ],
      "text/plain": [
       "   o_Day1DangerNearTreeline\n",
       "0                         2\n",
       "1                         2\n",
       "2                         2\n",
       "3                         2\n",
       "4                         2"
      ]
     },
     "execution_count": 13,
     "metadata": {},
     "output_type": "execute_result"
    }
   ],
   "source": [
    "best_preds_df.head()"
   ]
  },
  {
   "cell_type": "code",
   "execution_count": 14,
   "metadata": {},
   "outputs": [
    {
     "data": {
      "text/plain": [
       "0    Low\n",
       "1    Low\n",
       "2    Low\n",
       "3    Low\n",
       "4    Low\n",
       "Name: o_Day1DangerNearTreeline, dtype: object"
      ]
     },
     "execution_count": 14,
     "metadata": {},
     "output_type": "execute_result"
    }
   ],
   "source": [
    "mapping = {0:'Considerable', 1:'High', 2:'Low', 3:'Moderate'}\n",
    "best_preds_df = best_preds_df.replace({'o_Day1DangerNearTreeline': mapping})\n",
    "best_preds_df['o_Day1DangerNearTreeline'].head()"
   ]
  },
  {
   "cell_type": "code",
   "execution_count": 15,
   "metadata": {},
   "outputs": [
    {
     "name": "stdout",
     "output_type": "stream",
     "text": [
      "Accuracy: 0.6314537749718931\n",
      "Classification Report\n",
      "              precision    recall  f1-score   support\n",
      "\n",
      "Considerable       0.44      0.46      0.45     10768\n",
      "        High       0.30      0.09      0.14      2805\n",
      "         Low       0.85      0.69      0.76     12112\n",
      "    Moderate       0.65      0.76      0.70     20567\n",
      "\n",
      "   micro avg       0.63      0.63      0.63     46252\n",
      "   macro avg       0.56      0.50      0.51     46252\n",
      "weighted avg       0.63      0.63      0.62     46252\n",
      "\n",
      "Normalized confusion matrix\n",
      "Confusion matrix, without normalization\n"
     ]
    },
    {
     "data": {
      "image/png": "[encoded data removed]",
      "text/plain": [
       "<Figure size 432x288 with 2 Axes>"
      ]
     },
     "metadata": {},
     "output_type": "display_data"
    },
    {
     "data": {
      "image/png": "[encoded data removed]",
      "text/plain": [
       "<Figure size 432x288 with 2 Axes>"
      ]
     },
     "metadata": {},
     "output_type": "display_data"
    }
   ],
   "source": [
    "import matplotlib.pyplot as plt\n",
    "error_evaluation.evaluateSingleClassShort(y_Near_test['o_Day1DangerNearTreeline'], best_preds_df)\n",
    "cnf_matrix = confusion_matrix(y_Near_test['o_Day1DangerNearTreeline'], best_preds_df)\n",
    "plt.figure()\n",
    "error_evaluation.plot_confusion_matrix(cnf_matrix, classes=['Considerable', 'High', 'Low', 'Moderate'], normalize=True,\n",
    "                      title='Normalized confusion matrix')\n",
    "plt.figure()\n",
    "error_evaluation.plot_confusion_matrix(cnf_matrix, classes=['Considerable', 'High', 'Low', 'Moderate'],\n",
    "                      title='Confusion matrix, without normalization')\n",
    "plt.show()"
   ]
  },
  {
   "cell_type": "code",
   "execution_count": null,
   "metadata": {},
   "outputs": [],
   "source": [
    "%%time\n",
    "gbmgpu = lgb.LGBMClassifier(objective='multiclass', device_type='gpu')\n",
    "param_grid = {\n",
    "    'learning_rate': [0.1],\n",
    "    'bagging_fraction': [.2,.3,.4],\n",
    "    'num_leaves': [600, 700, 800],\n",
    "    'n_estimators': [500],\n",
    "    'min_child_samples': [20, 60, 120],\n",
    "    'min_child_weight': [.001, .01, .1],\n",
    "    'feature_fraction': [.75]\n",
    "}\n",
    "kfold = StratifiedKFold(n_splits=5, shuffle=True, random_state=7)\n",
    "grid_search = GridSearchCV(gbmgpu, param_grid, scoring=\"neg_log_loss\", n_jobs=10, cv=kfold, verbose=10)\n",
    "\n",
    "grid_result = grid_search.fit(X_Near_train.values, y_Near_train[yColumns].values.ravel())\n",
    "# summarize results\n",
    "print(\"Best: %f using %s\" % (grid_result.best_score_, grid_result.best_params_))\n",
    "means = grid_result.cv_results_['mean_test_score']\n",
    "stds = grid_result.cv_results_['std_test_score']\n",
    "params = grid_result.cv_results_['params']\n",
    "for mean, stdev, param in zip(means, stds, params):\n",
    "    print(\"%f (%f) with: %r\" % (mean, stdev, param))"
   ]
  },
  {
   "cell_type": "code",
   "execution_count": null,
   "metadata": {},
   "outputs": [],
   "source": [
    "#above here"
   ]
  },
  {
   "cell_type": "code",
   "execution_count": 16,
   "metadata": {},
   "outputs": [],
   "source": [
    "importances = pd.Series(gbmgpu.feature_importances_)\n",
    "out = pd.concat([pd.Series(X_Near_train.columns), importances], axis=1)"
   ]
  },
  {
   "cell_type": "code",
   "execution_count": 17,
   "metadata": {},
   "outputs": [],
   "source": [
    "out.columns = ['feature', 'importance']"
   ]
  },
  {
   "cell_type": "code",
   "execution_count": 19,
   "metadata": {},
   "outputs": [
    {
     "data": {
      "text/html": [
       "<div>\n",
       "<style scoped>\n",
       "    .dataframe tbody tr th:only-of-type {\n",
       "        vertical-align: middle;\n",
       "    }\n",
       "\n",
       "    .dataframe tbody tr th {\n",
       "        vertical-align: top;\n",
       "    }\n",
       "\n",
       "    .dataframe thead th {\n",
       "        text-align: right;\n",
       "    }\n",
       "</style>\n",
       "<table border=\"1\" class=\"dataframe\">\n",
       "  <thead>\n",
       "    <tr style=\"text-align: right;\">\n",
       "      <th></th>\n",
       "      <th>feature</th>\n",
       "      <th>importance</th>\n",
       "    </tr>\n",
       "  </thead>\n",
       "  <tbody>\n",
       "    <tr>\n",
       "      <th>863</th>\n",
       "      <td>DayOfYear</td>\n",
       "      <td>1192</td>\n",
       "    </tr>\n",
       "    <tr>\n",
       "      <th>52</th>\n",
       "      <td>n_f_APCPsurface</td>\n",
       "      <td>404</td>\n",
       "    </tr>\n",
       "    <tr>\n",
       "      <th>65</th>\n",
       "      <td>n_r_Prev1DayPrecip</td>\n",
       "      <td>213</td>\n",
       "    </tr>\n",
       "    <tr>\n",
       "      <th>73</th>\n",
       "      <td>n_r_SNOWDAS_SolidPrecip_kgpersquarem</td>\n",
       "      <td>124</td>\n",
       "    </tr>\n",
       "    <tr>\n",
       "      <th>507</th>\n",
       "      <td>n_r_Prev1DayPrecip20InPast</td>\n",
       "      <td>115</td>\n",
       "    </tr>\n",
       "    <tr>\n",
       "      <th>661</th>\n",
       "      <td>n_r_Prev1DayPrecip27InPast</td>\n",
       "      <td>109</td>\n",
       "    </tr>\n",
       "    <tr>\n",
       "      <th>66</th>\n",
       "      <td>n_f_Next24HourChangeInTempFromPrev3DayMax</td>\n",
       "      <td>108</td>\n",
       "    </tr>\n",
       "    <tr>\n",
       "      <th>862</th>\n",
       "      <td>c_IsContenentalSnowpack</td>\n",
       "      <td>97</td>\n",
       "    </tr>\n",
       "    <tr>\n",
       "      <th>89</th>\n",
       "      <td>n_r_Prev1DayPrecip1InPast</td>\n",
       "      <td>89</td>\n",
       "    </tr>\n",
       "    <tr>\n",
       "      <th>46</th>\n",
       "      <td>n_f_tempMaxF</td>\n",
       "      <td>88</td>\n",
       "    </tr>\n",
       "  </tbody>\n",
       "</table>\n",
       "</div>"
      ],
      "text/plain": [
       "                                       feature  importance\n",
       "863                                  DayOfYear        1192\n",
       "52                             n_f_APCPsurface         404\n",
       "65                          n_r_Prev1DayPrecip         213\n",
       "73        n_r_SNOWDAS_SolidPrecip_kgpersquarem         124\n",
       "507                 n_r_Prev1DayPrecip20InPast         115\n",
       "661                 n_r_Prev1DayPrecip27InPast         109\n",
       "66   n_f_Next24HourChangeInTempFromPrev3DayMax         108\n",
       "862                    c_IsContenentalSnowpack          97\n",
       "89                   n_r_Prev1DayPrecip1InPast          89\n",
       "46                                n_f_tempMaxF          88"
      ]
     },
     "execution_count": 19,
     "metadata": {},
     "output_type": "execute_result"
    }
   ],
   "source": [
    "out.sort_values('importance',ascending=False)[:10]"
   ]
  },
  {
   "cell_type": "code",
   "execution_count": 27,
   "metadata": {},
   "outputs": [
    {
     "data": {
      "image/png": "[encoded data removed]",
      "text/plain": [
       "<Figure size 432x288 with 1 Axes>"
      ]
     },
     "metadata": {},
     "output_type": "display_data"
    }
   ],
   "source": [
    "out[['feature', 'importance']].sort_values('importance',ascending=False)[:50].plot.barh()\n",
    "plt.show()"
   ]
  },
  {
   "cell_type": "code",
   "execution_count": null,
   "metadata": {},
   "outputs": [],
   "source": []
  }
 ],
 "metadata": {
  "kernelspec": {
   "display_name": "Python 3",
   "language": "python",
   "name": "python3"
  },
  "language_info": {
   "codemirror_mode": {
    "name": "ipython",
    "version": 3
   },
   "file_extension": ".py",
   "mimetype": "text/x-python",
   "name": "python",
   "nbconvert_exporter": "python",
   "pygments_lexer": "ipython3",
   "version": "3.5.3"
  }
 },
 "nbformat": 4,
 "nbformat_minor": 2
}
